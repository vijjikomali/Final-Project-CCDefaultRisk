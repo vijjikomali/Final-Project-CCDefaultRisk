{
 "cells": [
  {
   "cell_type": "markdown",
   "metadata": {},
   "source": [
    "# Home credit defaul risk project"
   ]
  },
  {
   "cell_type": "code",
   "execution_count": 6,
   "metadata": {},
   "outputs": [],
   "source": [
    "# import packages\n",
    "import pandas as pd \n",
    "import numpy as np\n",
    "import matplotlib\n",
    "import matplotlib.pyplot as plt\n",
    "#import seaborn as sns\n",
    "%matplotlib inline "
   ]
  },
  {
   "cell_type": "code",
   "execution_count": 7,
   "metadata": {},
   "outputs": [],
   "source": [
    "train = pd.read_csv(\"Input/application_train.csv\")\n",
    "\n",
    "\n"
   ]
  },
  {
   "cell_type": "code",
   "execution_count": 8,
   "metadata": {
    "scrolled": true
   },
   "outputs": [
    {
     "name": "stdout",
     "output_type": "stream",
     "text": [
      "training:  (307511, 122)\n"
     ]
    }
   ],
   "source": [
    "print(\"training: \", train.shape)\n"
   ]
  },
  {
   "cell_type": "markdown",
   "metadata": {},
   "source": [
    "## Data Pre-processing"
   ]
  },
  {
   "cell_type": "markdown",
   "metadata": {},
   "source": [
    "### Check percentage of missing data & dropping columns with over 60% missing values"
   ]
  },
  {
   "cell_type": "code",
   "execution_count": 9,
   "metadata": {},
   "outputs": [],
   "source": [
    "def missing_data(data):\n",
    "    total = data.isnull().sum().sort_values(ascending = False)\n",
    "    percent = (data.isnull().sum()/data.isnull().count()*100).sort_values(ascending = False)\n",
    "    return pd.concat([total, percent], axis=1, keys=['Total', 'Percent'])"
   ]
  },
  {
   "cell_type": "code",
   "execution_count": 10,
   "metadata": {},
   "outputs": [],
   "source": [
    "def missing_over60(file):\n",
    "    l=[]\n",
    "    missing_over = missing_data(file)\n",
    "    #print('file name: ', file)\n",
    "    m = missing_over.loc[missing_over['Percent']>60]\n",
    "    print('number of columns has over 60% missing values: ', m.shape[0])\n",
    "    #print(m.iloc[:,0])\n",
    "    return m.index"
   ]
  },
  {
   "cell_type": "code",
   "execution_count": 11,
   "metadata": {},
   "outputs": [
    {
     "name": "stdout",
     "output_type": "stream",
     "text": [
      "number of columns has over 60% missing values:  17\n"
     ]
    },
    {
     "data": {
      "text/plain": [
       "17"
      ]
     },
     "execution_count": 11,
     "metadata": {},
     "output_type": "execute_result"
    }
   ],
   "source": [
    "drop_list = list(missing_over60(train))\n",
    "len(drop_list)"
   ]
  },
  {
   "cell_type": "code",
   "execution_count": 12,
   "metadata": {
    "scrolled": true
   },
   "outputs": [],
   "source": [
    "# test set\n",
    "test  = pd.read_csv('Input/application_test.csv')"
   ]
  },
  {
   "cell_type": "code",
   "execution_count": 13,
   "metadata": {},
   "outputs": [],
   "source": [
    "def drop_columns(file):\n",
    "    print('number of columns before dropping: ', file.shape[1])\n",
    "    for col in list(missing_over60(file)):\n",
    "        if col in list(file.columns):\n",
    "            file = file.drop([col], axis=1)\n",
    "    print('number of columns left after droping:', file.shape[1])\n",
    "    return file\n",
    "        "
   ]
  },
  {
   "cell_type": "code",
   "execution_count": 14,
   "metadata": {},
   "outputs": [
    {
     "name": "stdout",
     "output_type": "stream",
     "text": [
      "number of columns before dropping:  122\n",
      "number of columns has over 60% missing values:  17\n",
      "number of columns left after droping: 105\n",
      "number of columns before dropping:  122\n",
      "number of columns has over 60% missing values:  17\n",
      "number of columns left after droping: 105\n"
     ]
    },
    {
     "data": {
      "text/plain": [
       "Index(['SK_ID_CURR', 'TARGET', 'NAME_CONTRACT_TYPE', 'CODE_GENDER',\n",
       "       'FLAG_OWN_CAR', 'FLAG_OWN_REALTY', 'CNT_CHILDREN', 'AMT_INCOME_TOTAL',\n",
       "       'AMT_CREDIT', 'AMT_ANNUITY',\n",
       "       ...\n",
       "       'FLAG_DOCUMENT_18', 'FLAG_DOCUMENT_19', 'FLAG_DOCUMENT_20',\n",
       "       'FLAG_DOCUMENT_21', 'AMT_REQ_CREDIT_BUREAU_HOUR',\n",
       "       'AMT_REQ_CREDIT_BUREAU_DAY', 'AMT_REQ_CREDIT_BUREAU_WEEK',\n",
       "       'AMT_REQ_CREDIT_BUREAU_MON', 'AMT_REQ_CREDIT_BUREAU_QRT',\n",
       "       'AMT_REQ_CREDIT_BUREAU_YEAR'],\n",
       "      dtype='object', length=105)"
      ]
     },
     "execution_count": 14,
     "metadata": {},
     "output_type": "execute_result"
    }
   ],
   "source": [
    "train_d= drop_columns(train)\n",
    "drop_columns(train).columns"
   ]
  },
  {
   "cell_type": "code",
   "execution_count": 15,
   "metadata": {},
   "outputs": [
    {
     "name": "stdout",
     "output_type": "stream",
     "text": [
      "number of columns before dropping:  122\n",
      "number of columns has over 60% missing values:  17\n",
      "number of columns left after droping: 105\n"
     ]
    },
    {
     "data": {
      "text/plain": [
       "['SK_ID_CURR',\n",
       " 'TARGET',\n",
       " 'NAME_CONTRACT_TYPE',\n",
       " 'CODE_GENDER',\n",
       " 'FLAG_OWN_CAR',\n",
       " 'FLAG_OWN_REALTY',\n",
       " 'CNT_CHILDREN',\n",
       " 'AMT_INCOME_TOTAL',\n",
       " 'AMT_CREDIT',\n",
       " 'AMT_ANNUITY',\n",
       " 'AMT_GOODS_PRICE',\n",
       " 'NAME_TYPE_SUITE',\n",
       " 'NAME_INCOME_TYPE',\n",
       " 'NAME_EDUCATION_TYPE',\n",
       " 'NAME_FAMILY_STATUS',\n",
       " 'NAME_HOUSING_TYPE',\n",
       " 'REGION_POPULATION_RELATIVE',\n",
       " 'DAYS_BIRTH',\n",
       " 'DAYS_EMPLOYED',\n",
       " 'DAYS_REGISTRATION',\n",
       " 'DAYS_ID_PUBLISH',\n",
       " 'FLAG_MOBIL',\n",
       " 'FLAG_EMP_PHONE',\n",
       " 'FLAG_WORK_PHONE',\n",
       " 'FLAG_CONT_MOBILE',\n",
       " 'FLAG_PHONE',\n",
       " 'FLAG_EMAIL',\n",
       " 'OCCUPATION_TYPE',\n",
       " 'CNT_FAM_MEMBERS',\n",
       " 'REGION_RATING_CLIENT',\n",
       " 'REGION_RATING_CLIENT_W_CITY',\n",
       " 'WEEKDAY_APPR_PROCESS_START',\n",
       " 'HOUR_APPR_PROCESS_START',\n",
       " 'REG_REGION_NOT_LIVE_REGION',\n",
       " 'REG_REGION_NOT_WORK_REGION',\n",
       " 'LIVE_REGION_NOT_WORK_REGION',\n",
       " 'REG_CITY_NOT_LIVE_CITY',\n",
       " 'REG_CITY_NOT_WORK_CITY',\n",
       " 'LIVE_CITY_NOT_WORK_CITY',\n",
       " 'ORGANIZATION_TYPE',\n",
       " 'EXT_SOURCE_1',\n",
       " 'EXT_SOURCE_2',\n",
       " 'EXT_SOURCE_3',\n",
       " 'APARTMENTS_AVG',\n",
       " 'BASEMENTAREA_AVG',\n",
       " 'YEARS_BEGINEXPLUATATION_AVG',\n",
       " 'ELEVATORS_AVG',\n",
       " 'ENTRANCES_AVG',\n",
       " 'FLOORSMAX_AVG',\n",
       " 'LANDAREA_AVG',\n",
       " 'LIVINGAREA_AVG',\n",
       " 'NONLIVINGAREA_AVG',\n",
       " 'APARTMENTS_MODE',\n",
       " 'BASEMENTAREA_MODE',\n",
       " 'YEARS_BEGINEXPLUATATION_MODE',\n",
       " 'ELEVATORS_MODE',\n",
       " 'ENTRANCES_MODE',\n",
       " 'FLOORSMAX_MODE',\n",
       " 'LANDAREA_MODE',\n",
       " 'LIVINGAREA_MODE',\n",
       " 'NONLIVINGAREA_MODE',\n",
       " 'APARTMENTS_MEDI',\n",
       " 'BASEMENTAREA_MEDI',\n",
       " 'YEARS_BEGINEXPLUATATION_MEDI',\n",
       " 'ELEVATORS_MEDI',\n",
       " 'ENTRANCES_MEDI',\n",
       " 'FLOORSMAX_MEDI',\n",
       " 'LANDAREA_MEDI',\n",
       " 'LIVINGAREA_MEDI',\n",
       " 'NONLIVINGAREA_MEDI',\n",
       " 'HOUSETYPE_MODE',\n",
       " 'TOTALAREA_MODE',\n",
       " 'WALLSMATERIAL_MODE',\n",
       " 'EMERGENCYSTATE_MODE',\n",
       " 'OBS_30_CNT_SOCIAL_CIRCLE',\n",
       " 'DEF_30_CNT_SOCIAL_CIRCLE',\n",
       " 'OBS_60_CNT_SOCIAL_CIRCLE',\n",
       " 'DEF_60_CNT_SOCIAL_CIRCLE',\n",
       " 'DAYS_LAST_PHONE_CHANGE',\n",
       " 'FLAG_DOCUMENT_2',\n",
       " 'FLAG_DOCUMENT_3',\n",
       " 'FLAG_DOCUMENT_4',\n",
       " 'FLAG_DOCUMENT_5',\n",
       " 'FLAG_DOCUMENT_6',\n",
       " 'FLAG_DOCUMENT_7',\n",
       " 'FLAG_DOCUMENT_8',\n",
       " 'FLAG_DOCUMENT_9',\n",
       " 'FLAG_DOCUMENT_10',\n",
       " 'FLAG_DOCUMENT_11',\n",
       " 'FLAG_DOCUMENT_12',\n",
       " 'FLAG_DOCUMENT_13',\n",
       " 'FLAG_DOCUMENT_14',\n",
       " 'FLAG_DOCUMENT_15',\n",
       " 'FLAG_DOCUMENT_16',\n",
       " 'FLAG_DOCUMENT_17',\n",
       " 'FLAG_DOCUMENT_18',\n",
       " 'FLAG_DOCUMENT_19',\n",
       " 'FLAG_DOCUMENT_20',\n",
       " 'FLAG_DOCUMENT_21',\n",
       " 'AMT_REQ_CREDIT_BUREAU_HOUR',\n",
       " 'AMT_REQ_CREDIT_BUREAU_DAY',\n",
       " 'AMT_REQ_CREDIT_BUREAU_WEEK',\n",
       " 'AMT_REQ_CREDIT_BUREAU_MON',\n",
       " 'AMT_REQ_CREDIT_BUREAU_QRT',\n",
       " 'AMT_REQ_CREDIT_BUREAU_YEAR']"
      ]
     },
     "execution_count": 15,
     "metadata": {},
     "output_type": "execute_result"
    }
   ],
   "source": [
    "drop_columns(train).columns.tolist()"
   ]
  },
  {
   "cell_type": "code",
   "execution_count": 16,
   "metadata": {},
   "outputs": [
    {
     "data": {
      "text/plain": [
       "(48744, 104)"
      ]
     },
     "execution_count": 16,
     "metadata": {},
     "output_type": "execute_result"
    }
   ],
   "source": [
    "for item in drop_list:\n",
    "    if item in list(test.columns):\n",
    "        test = test.drop([item], axis=1)\n",
    "test.shape\n",
    "#train_d.shape"
   ]
  },
  {
   "cell_type": "markdown",
   "metadata": {},
   "source": [
    "### Drop dates_employed over 32400 (90 years)\n"
   ]
  },
  {
   "cell_type": "code",
   "execution_count": 17,
   "metadata": {},
   "outputs": [],
   "source": [
    "train_d= train_d[train_d['DAYS_EMPLOYED']<32400]"
   ]
  },
  {
   "cell_type": "code",
   "execution_count": 18,
   "metadata": {},
   "outputs": [],
   "source": [
    "test= test[test['DAYS_EMPLOYED']<32400]"
   ]
  },
  {
   "cell_type": "markdown",
   "metadata": {},
   "source": [
    "## Embedding Neural Networks\n"
   ]
  },
  {
   "cell_type": "code",
   "execution_count": 19,
   "metadata": {},
   "outputs": [],
   "source": [
    "# col_list = ['NAME_CONTRACT_TYPE', 'CODE_GENDER',\n",
    "#             'FLAG_OWN_CAR', 'FLAG_OWN_REALTY', 'NAME_TYPE_SUITE', 'NAME_INCOME_TYPE',\n",
    "#             'NAME_EDUCATION_TYPE', 'NAME_FAMILY_STATUS', 'NAME_HOUSING_TYPE', 'OCCUPATION_TYPE',\n",
    "#             'WEEKDAY_APPR_PROCESS_START', 'ORGANIZATION_TYPE', 'HOUSETYPE_MODE', 'WALLSMATERIAL_MODE', \n",
    "#             'EMERGENCYSTATE_MODE']\n",
    "# #print(col_list)\n",
    "# def to_cat_col(col):\n",
    "    \n",
    "#     train_d[col] = train_d[col].cat.codes\n",
    "#     return train_data[col]"
   ]
  },
  {
   "cell_type": "code",
   "execution_count": 20,
   "metadata": {
    "scrolled": true
   },
   "outputs": [],
   "source": [
    "# for col in col_list:\n",
    "#     train_d[col] = train_d[col].astype('category').cat.codes\n",
    "#     #train_d = to_cat_col(col)\n",
    "#     #print(train_d[col])\n",
    "# train_d.dtypes"
   ]
  },
  {
   "cell_type": "code",
   "execution_count": 21,
   "metadata": {},
   "outputs": [
    {
     "data": {
      "text/plain": [
       "[]"
      ]
     },
     "execution_count": 21,
     "metadata": {},
     "output_type": "execute_result"
    }
   ],
   "source": [
    "int_col0 = train_d.select_dtypes(include=['int8']).columns.values.tolist()\n",
    "int_col0"
   ]
  },
  {
   "cell_type": "code",
   "execution_count": 22,
   "metadata": {
    "scrolled": true
   },
   "outputs": [],
   "source": [
    "int_col = train_d.select_dtypes(include=['int']).columns.values.tolist()\n",
    "# int_col.remove('SK_ID_CURR')\n",
    "# int_col.remove('TARGET')\n",
    "# int_col.remove('CNT_CHILDREN')\n",
    "# int_col.remove('DAYS_BIRTH')\n",
    "# int_col.remove('DAYS_EMPLOYED')\n",
    "# int_col.remove('DAYS_ID_PUBLISH')\n",
    "int_col_all = int_col+int_col0\n"
   ]
  },
  {
   "cell_type": "code",
   "execution_count": 23,
   "metadata": {
    "scrolled": true
   },
   "outputs": [
    {
     "data": {
      "text/plain": [
       "[]"
      ]
     },
     "execution_count": 23,
     "metadata": {},
     "output_type": "execute_result"
    }
   ],
   "source": [
    "int_col_all"
   ]
  },
  {
   "cell_type": "code",
   "execution_count": 24,
   "metadata": {},
   "outputs": [
    {
     "data": {
      "text/html": [
       "<div>\n",
       "<style scoped>\n",
       "    .dataframe tbody tr th:only-of-type {\n",
       "        vertical-align: middle;\n",
       "    }\n",
       "\n",
       "    .dataframe tbody tr th {\n",
       "        vertical-align: top;\n",
       "    }\n",
       "\n",
       "    .dataframe thead th {\n",
       "        text-align: right;\n",
       "    }\n",
       "</style>\n",
       "<table border=\"1\" class=\"dataframe\">\n",
       "  <thead>\n",
       "    <tr style=\"text-align: right;\">\n",
       "      <th></th>\n",
       "      <th>SK_ID_CURR</th>\n",
       "      <th>TARGET</th>\n",
       "      <th>NAME_CONTRACT_TYPE</th>\n",
       "      <th>CODE_GENDER</th>\n",
       "      <th>FLAG_OWN_CAR</th>\n",
       "      <th>FLAG_OWN_REALTY</th>\n",
       "      <th>CNT_CHILDREN</th>\n",
       "      <th>AMT_INCOME_TOTAL</th>\n",
       "      <th>AMT_CREDIT</th>\n",
       "      <th>AMT_ANNUITY</th>\n",
       "      <th>...</th>\n",
       "      <th>FLAG_DOCUMENT_18</th>\n",
       "      <th>FLAG_DOCUMENT_19</th>\n",
       "      <th>FLAG_DOCUMENT_20</th>\n",
       "      <th>FLAG_DOCUMENT_21</th>\n",
       "      <th>AMT_REQ_CREDIT_BUREAU_HOUR</th>\n",
       "      <th>AMT_REQ_CREDIT_BUREAU_DAY</th>\n",
       "      <th>AMT_REQ_CREDIT_BUREAU_WEEK</th>\n",
       "      <th>AMT_REQ_CREDIT_BUREAU_MON</th>\n",
       "      <th>AMT_REQ_CREDIT_BUREAU_QRT</th>\n",
       "      <th>AMT_REQ_CREDIT_BUREAU_YEAR</th>\n",
       "    </tr>\n",
       "  </thead>\n",
       "  <tbody>\n",
       "    <tr>\n",
       "      <th>0</th>\n",
       "      <td>100002</td>\n",
       "      <td>1</td>\n",
       "      <td>Cash loans</td>\n",
       "      <td>M</td>\n",
       "      <td>N</td>\n",
       "      <td>Y</td>\n",
       "      <td>0</td>\n",
       "      <td>202500.0</td>\n",
       "      <td>406597.5</td>\n",
       "      <td>24700.5</td>\n",
       "      <td>...</td>\n",
       "      <td>0</td>\n",
       "      <td>0</td>\n",
       "      <td>0</td>\n",
       "      <td>0</td>\n",
       "      <td>0.0</td>\n",
       "      <td>0.0</td>\n",
       "      <td>0.0</td>\n",
       "      <td>0.0</td>\n",
       "      <td>0.0</td>\n",
       "      <td>1.0</td>\n",
       "    </tr>\n",
       "    <tr>\n",
       "      <th>1</th>\n",
       "      <td>100003</td>\n",
       "      <td>0</td>\n",
       "      <td>Cash loans</td>\n",
       "      <td>F</td>\n",
       "      <td>N</td>\n",
       "      <td>N</td>\n",
       "      <td>0</td>\n",
       "      <td>270000.0</td>\n",
       "      <td>1293502.5</td>\n",
       "      <td>35698.5</td>\n",
       "      <td>...</td>\n",
       "      <td>0</td>\n",
       "      <td>0</td>\n",
       "      <td>0</td>\n",
       "      <td>0</td>\n",
       "      <td>0.0</td>\n",
       "      <td>0.0</td>\n",
       "      <td>0.0</td>\n",
       "      <td>0.0</td>\n",
       "      <td>0.0</td>\n",
       "      <td>0.0</td>\n",
       "    </tr>\n",
       "    <tr>\n",
       "      <th>2</th>\n",
       "      <td>100004</td>\n",
       "      <td>0</td>\n",
       "      <td>Revolving loans</td>\n",
       "      <td>M</td>\n",
       "      <td>Y</td>\n",
       "      <td>Y</td>\n",
       "      <td>0</td>\n",
       "      <td>67500.0</td>\n",
       "      <td>135000.0</td>\n",
       "      <td>6750.0</td>\n",
       "      <td>...</td>\n",
       "      <td>0</td>\n",
       "      <td>0</td>\n",
       "      <td>0</td>\n",
       "      <td>0</td>\n",
       "      <td>0.0</td>\n",
       "      <td>0.0</td>\n",
       "      <td>0.0</td>\n",
       "      <td>0.0</td>\n",
       "      <td>0.0</td>\n",
       "      <td>0.0</td>\n",
       "    </tr>\n",
       "    <tr>\n",
       "      <th>3</th>\n",
       "      <td>100006</td>\n",
       "      <td>0</td>\n",
       "      <td>Cash loans</td>\n",
       "      <td>F</td>\n",
       "      <td>N</td>\n",
       "      <td>Y</td>\n",
       "      <td>0</td>\n",
       "      <td>135000.0</td>\n",
       "      <td>312682.5</td>\n",
       "      <td>29686.5</td>\n",
       "      <td>...</td>\n",
       "      <td>0</td>\n",
       "      <td>0</td>\n",
       "      <td>0</td>\n",
       "      <td>0</td>\n",
       "      <td>NaN</td>\n",
       "      <td>NaN</td>\n",
       "      <td>NaN</td>\n",
       "      <td>NaN</td>\n",
       "      <td>NaN</td>\n",
       "      <td>NaN</td>\n",
       "    </tr>\n",
       "    <tr>\n",
       "      <th>4</th>\n",
       "      <td>100007</td>\n",
       "      <td>0</td>\n",
       "      <td>Cash loans</td>\n",
       "      <td>M</td>\n",
       "      <td>N</td>\n",
       "      <td>Y</td>\n",
       "      <td>0</td>\n",
       "      <td>121500.0</td>\n",
       "      <td>513000.0</td>\n",
       "      <td>21865.5</td>\n",
       "      <td>...</td>\n",
       "      <td>0</td>\n",
       "      <td>0</td>\n",
       "      <td>0</td>\n",
       "      <td>0</td>\n",
       "      <td>0.0</td>\n",
       "      <td>0.0</td>\n",
       "      <td>0.0</td>\n",
       "      <td>0.0</td>\n",
       "      <td>0.0</td>\n",
       "      <td>0.0</td>\n",
       "    </tr>\n",
       "  </tbody>\n",
       "</table>\n",
       "<p>5 rows × 105 columns</p>\n",
       "</div>"
      ],
      "text/plain": [
       "   SK_ID_CURR  TARGET NAME_CONTRACT_TYPE CODE_GENDER FLAG_OWN_CAR  \\\n",
       "0      100002       1         Cash loans           M            N   \n",
       "1      100003       0         Cash loans           F            N   \n",
       "2      100004       0    Revolving loans           M            Y   \n",
       "3      100006       0         Cash loans           F            N   \n",
       "4      100007       0         Cash loans           M            N   \n",
       "\n",
       "  FLAG_OWN_REALTY  CNT_CHILDREN  AMT_INCOME_TOTAL  AMT_CREDIT  AMT_ANNUITY  \\\n",
       "0               Y             0          202500.0    406597.5      24700.5   \n",
       "1               N             0          270000.0   1293502.5      35698.5   \n",
       "2               Y             0           67500.0    135000.0       6750.0   \n",
       "3               Y             0          135000.0    312682.5      29686.5   \n",
       "4               Y             0          121500.0    513000.0      21865.5   \n",
       "\n",
       "              ...              FLAG_DOCUMENT_18 FLAG_DOCUMENT_19  \\\n",
       "0             ...                             0                0   \n",
       "1             ...                             0                0   \n",
       "2             ...                             0                0   \n",
       "3             ...                             0                0   \n",
       "4             ...                             0                0   \n",
       "\n",
       "  FLAG_DOCUMENT_20 FLAG_DOCUMENT_21 AMT_REQ_CREDIT_BUREAU_HOUR  \\\n",
       "0                0                0                        0.0   \n",
       "1                0                0                        0.0   \n",
       "2                0                0                        0.0   \n",
       "3                0                0                        NaN   \n",
       "4                0                0                        0.0   \n",
       "\n",
       "  AMT_REQ_CREDIT_BUREAU_DAY  AMT_REQ_CREDIT_BUREAU_WEEK  \\\n",
       "0                       0.0                         0.0   \n",
       "1                       0.0                         0.0   \n",
       "2                       0.0                         0.0   \n",
       "3                       NaN                         NaN   \n",
       "4                       0.0                         0.0   \n",
       "\n",
       "   AMT_REQ_CREDIT_BUREAU_MON  AMT_REQ_CREDIT_BUREAU_QRT  \\\n",
       "0                        0.0                        0.0   \n",
       "1                        0.0                        0.0   \n",
       "2                        0.0                        0.0   \n",
       "3                        NaN                        NaN   \n",
       "4                        0.0                        0.0   \n",
       "\n",
       "   AMT_REQ_CREDIT_BUREAU_YEAR  \n",
       "0                         1.0  \n",
       "1                         0.0  \n",
       "2                         0.0  \n",
       "3                         NaN  \n",
       "4                         0.0  \n",
       "\n",
       "[5 rows x 105 columns]"
      ]
     },
     "execution_count": 24,
     "metadata": {},
     "output_type": "execute_result"
    }
   ],
   "source": [
    "train_d.head()"
   ]
  },
  {
   "cell_type": "code",
   "execution_count": 25,
   "metadata": {},
   "outputs": [
    {
     "data": {
      "text/plain": [
       "Series([], dtype: float64)"
      ]
     },
     "execution_count": 25,
     "metadata": {},
     "output_type": "execute_result"
    }
   ],
   "source": [
    "train_d[int_col_all].max()"
   ]
  },
  {
   "cell_type": "code",
   "execution_count": 26,
   "metadata": {},
   "outputs": [],
   "source": [
    "train_d.to_csv('train_d.csv', index = False)"
   ]
  },
  {
   "cell_type": "code",
   "execution_count": 27,
   "metadata": {
    "scrolled": true
   },
   "outputs": [
    {
     "name": "stdout",
     "output_type": "stream",
     "text": [
      "['SK_ID_CURR', 'TARGET', 'NAME_CONTRACT_TYPE', 'CODE_GENDER', 'FLAG_OWN_CAR', 'FLAG_OWN_REALTY', 'CNT_CHILDREN', 'AMT_INCOME_TOTAL', 'AMT_CREDIT', 'AMT_ANNUITY', 'AMT_GOODS_PRICE', 'NAME_TYPE_SUITE', 'NAME_INCOME_TYPE', 'NAME_EDUCATION_TYPE', 'NAME_FAMILY_STATUS', 'NAME_HOUSING_TYPE', 'REGION_POPULATION_RELATIVE', 'DAYS_BIRTH', 'DAYS_EMPLOYED', 'DAYS_REGISTRATION', 'DAYS_ID_PUBLISH', 'FLAG_MOBIL', 'FLAG_EMP_PHONE', 'FLAG_WORK_PHONE', 'FLAG_CONT_MOBILE', 'FLAG_PHONE', 'FLAG_EMAIL', 'OCCUPATION_TYPE', 'CNT_FAM_MEMBERS', 'REGION_RATING_CLIENT', 'REGION_RATING_CLIENT_W_CITY', 'WEEKDAY_APPR_PROCESS_START', 'HOUR_APPR_PROCESS_START', 'REG_REGION_NOT_LIVE_REGION', 'REG_REGION_NOT_WORK_REGION', 'LIVE_REGION_NOT_WORK_REGION', 'REG_CITY_NOT_LIVE_CITY', 'REG_CITY_NOT_WORK_CITY', 'LIVE_CITY_NOT_WORK_CITY', 'ORGANIZATION_TYPE', 'EXT_SOURCE_1', 'EXT_SOURCE_2', 'EXT_SOURCE_3', 'APARTMENTS_AVG', 'BASEMENTAREA_AVG', 'YEARS_BEGINEXPLUATATION_AVG', 'ELEVATORS_AVG', 'ENTRANCES_AVG', 'FLOORSMAX_AVG', 'LANDAREA_AVG', 'LIVINGAREA_AVG', 'NONLIVINGAREA_AVG', 'APARTMENTS_MODE', 'BASEMENTAREA_MODE', 'YEARS_BEGINEXPLUATATION_MODE', 'ELEVATORS_MODE', 'ENTRANCES_MODE', 'FLOORSMAX_MODE', 'LANDAREA_MODE', 'LIVINGAREA_MODE', 'NONLIVINGAREA_MODE', 'APARTMENTS_MEDI', 'BASEMENTAREA_MEDI', 'YEARS_BEGINEXPLUATATION_MEDI', 'ELEVATORS_MEDI', 'ENTRANCES_MEDI', 'FLOORSMAX_MEDI', 'LANDAREA_MEDI', 'LIVINGAREA_MEDI', 'NONLIVINGAREA_MEDI', 'HOUSETYPE_MODE', 'TOTALAREA_MODE', 'WALLSMATERIAL_MODE', 'EMERGENCYSTATE_MODE', 'OBS_30_CNT_SOCIAL_CIRCLE', 'DEF_30_CNT_SOCIAL_CIRCLE', 'OBS_60_CNT_SOCIAL_CIRCLE', 'DEF_60_CNT_SOCIAL_CIRCLE', 'DAYS_LAST_PHONE_CHANGE', 'FLAG_DOCUMENT_2', 'FLAG_DOCUMENT_3', 'FLAG_DOCUMENT_4', 'FLAG_DOCUMENT_5', 'FLAG_DOCUMENT_6', 'FLAG_DOCUMENT_7', 'FLAG_DOCUMENT_8', 'FLAG_DOCUMENT_9', 'FLAG_DOCUMENT_10', 'FLAG_DOCUMENT_11', 'FLAG_DOCUMENT_12', 'FLAG_DOCUMENT_13', 'FLAG_DOCUMENT_14', 'FLAG_DOCUMENT_15', 'FLAG_DOCUMENT_16', 'FLAG_DOCUMENT_17', 'FLAG_DOCUMENT_18', 'FLAG_DOCUMENT_19', 'FLAG_DOCUMENT_20', 'FLAG_DOCUMENT_21', 'AMT_REQ_CREDIT_BUREAU_HOUR', 'AMT_REQ_CREDIT_BUREAU_DAY', 'AMT_REQ_CREDIT_BUREAU_WEEK', 'AMT_REQ_CREDIT_BUREAU_MON', 'AMT_REQ_CREDIT_BUREAU_QRT', 'AMT_REQ_CREDIT_BUREAU_YEAR']\n",
      "[{'SK_ID_CURR': '456255', 'TARGET': '0', 'NAME_CONTRACT_TYPE': 'Cash loans', 'CODE_GENDER': 'F', 'FLAG_OWN_CAR': 'N', 'FLAG_OWN_REALTY': 'N', 'CNT_CHILDREN': '0', 'AMT_INCOME_TOTAL': '157500.0', 'AMT_CREDIT': '675000.0', 'AMT_ANNUITY': '49117.5', 'AMT_GOODS_PRICE': '675000.0', 'NAME_TYPE_SUITE': 'Unaccompanied', 'NAME_INCOME_TYPE': 'Commercial associate', 'NAME_EDUCATION_TYPE': 'Higher education', 'NAME_FAMILY_STATUS': 'Married', 'NAME_HOUSING_TYPE': 'House / apartment', 'REGION_POPULATION_RELATIVE': '0.04622', 'DAYS_BIRTH': '-16856', 'DAYS_EMPLOYED': '-1262', 'DAYS_REGISTRATION': '-5128.0', 'DAYS_ID_PUBLISH': '-410', 'FLAG_MOBIL': '1', 'FLAG_EMP_PHONE': '1', 'FLAG_WORK_PHONE': '1', 'FLAG_CONT_MOBILE': '1', 'FLAG_PHONE': '1', 'FLAG_EMAIL': '0', 'OCCUPATION_TYPE': 'Laborers', 'CNT_FAM_MEMBERS': '2.0', 'REGION_RATING_CLIENT': '1', 'REGION_RATING_CLIENT_W_CITY': '1', 'WEEKDAY_APPR_PROCESS_START': 'THURSDAY', 'HOUR_APPR_PROCESS_START': '20', 'REG_REGION_NOT_LIVE_REGION': '0', 'REG_REGION_NOT_WORK_REGION': '0', 'LIVE_REGION_NOT_WORK_REGION': '0', 'REG_CITY_NOT_LIVE_CITY': '0', 'REG_CITY_NOT_WORK_CITY': '1', 'LIVE_CITY_NOT_WORK_CITY': '1', 'ORGANIZATION_TYPE': 'Business Entity Type 3', 'EXT_SOURCE_1': '0.7344596685467556', 'EXT_SOURCE_2': '0.708568896491169', 'EXT_SOURCE_3': '0.11392239629221085', 'APARTMENTS_AVG': '0.0742', 'BASEMENTAREA_AVG': '0.0526', 'YEARS_BEGINEXPLUATATION_AVG': '0.9881', 'ELEVATORS_AVG': '0.08', 'ENTRANCES_AVG': '0.069', 'FLOORSMAX_AVG': '0.375', 'LANDAREA_AVG': '', 'LIVINGAREA_AVG': '0.0791', 'NONLIVINGAREA_AVG': '0.0', 'APARTMENTS_MODE': '0.0756', 'BASEMENTAREA_MODE': '0.0546', 'YEARS_BEGINEXPLUATATION_MODE': '0.9881', 'ELEVATORS_MODE': '0.0806', 'ENTRANCES_MODE': '0.069', 'FLOORSMAX_MODE': '0.375', 'LANDAREA_MODE': '', 'LIVINGAREA_MODE': '0.0824', 'NONLIVINGAREA_MODE': '0.0', 'APARTMENTS_MEDI': '0.0749', 'BASEMENTAREA_MEDI': '0.0526', 'YEARS_BEGINEXPLUATATION_MEDI': '0.9881', 'ELEVATORS_MEDI': '0.08', 'ENTRANCES_MEDI': '0.069', 'FLOORSMAX_MEDI': '0.375', 'LANDAREA_MEDI': '', 'LIVINGAREA_MEDI': '0.0805', 'NONLIVINGAREA_MEDI': '0.0', 'HOUSETYPE_MODE': 'block of flats', 'TOTALAREA_MODE': '0.0718', 'WALLSMATERIAL_MODE': 'Panel', 'EMERGENCYSTATE_MODE': 'No', 'OBS_30_CNT_SOCIAL_CIRCLE': '0.0', 'DEF_30_CNT_SOCIAL_CIRCLE': '0.0', 'OBS_60_CNT_SOCIAL_CIRCLE': '0.0', 'DEF_60_CNT_SOCIAL_CIRCLE': '0.0', 'DAYS_LAST_PHONE_CHANGE': '-787.0', 'FLAG_DOCUMENT_2': '0', 'FLAG_DOCUMENT_3': '1', 'FLAG_DOCUMENT_4': '0', 'FLAG_DOCUMENT_5': '0', 'FLAG_DOCUMENT_6': '0', 'FLAG_DOCUMENT_7': '0', 'FLAG_DOCUMENT_8': '0', 'FLAG_DOCUMENT_9': '0', 'FLAG_DOCUMENT_10': '0', 'FLAG_DOCUMENT_11': '0', 'FLAG_DOCUMENT_12': '0', 'FLAG_DOCUMENT_13': '0', 'FLAG_DOCUMENT_14': '0', 'FLAG_DOCUMENT_15': '0', 'FLAG_DOCUMENT_16': '0', 'FLAG_DOCUMENT_17': '0', 'FLAG_DOCUMENT_18': '0', 'FLAG_DOCUMENT_19': '0', 'FLAG_DOCUMENT_20': '0', 'FLAG_DOCUMENT_21': '0', 'AMT_REQ_CREDIT_BUREAU_HOUR': '0.0', 'AMT_REQ_CREDIT_BUREAU_DAY': '0.0', 'AMT_REQ_CREDIT_BUREAU_WEEK': '0.0', 'AMT_REQ_CREDIT_BUREAU_MON': '2.0', 'AMT_REQ_CREDIT_BUREAU_QRT': '0.0', 'AMT_REQ_CREDIT_BUREAU_YEAR': '1.0'}, {'SK_ID_CURR': '456254', 'TARGET': '1', 'NAME_CONTRACT_TYPE': 'Cash loans', 'CODE_GENDER': 'F', 'FLAG_OWN_CAR': 'N', 'FLAG_OWN_REALTY': 'Y', 'CNT_CHILDREN': '0', 'AMT_INCOME_TOTAL': '171000.0', 'AMT_CREDIT': '370107.0', 'AMT_ANNUITY': '20205.0', 'AMT_GOODS_PRICE': '319500.0', 'NAME_TYPE_SUITE': 'Unaccompanied', 'NAME_INCOME_TYPE': 'Commercial associate', 'NAME_EDUCATION_TYPE': 'Secondary / secondary special', 'NAME_FAMILY_STATUS': 'Married', 'NAME_HOUSING_TYPE': 'House / apartment', 'REGION_POPULATION_RELATIVE': '0.005313', 'DAYS_BIRTH': '-11961', 'DAYS_EMPLOYED': '-4786', 'DAYS_REGISTRATION': '-2562.0', 'DAYS_ID_PUBLISH': '-931', 'FLAG_MOBIL': '1', 'FLAG_EMP_PHONE': '1', 'FLAG_WORK_PHONE': '0', 'FLAG_CONT_MOBILE': '1', 'FLAG_PHONE': '0', 'FLAG_EMAIL': '0', 'OCCUPATION_TYPE': 'Laborers', 'CNT_FAM_MEMBERS': '2.0', 'REGION_RATING_CLIENT': '2', 'REGION_RATING_CLIENT_W_CITY': '2', 'WEEKDAY_APPR_PROCESS_START': 'WEDNESDAY', 'HOUR_APPR_PROCESS_START': '9', 'REG_REGION_NOT_LIVE_REGION': '0', 'REG_REGION_NOT_WORK_REGION': '0', 'LIVE_REGION_NOT_WORK_REGION': '0', 'REG_CITY_NOT_LIVE_CITY': '1', 'REG_CITY_NOT_WORK_CITY': '1', 'LIVE_CITY_NOT_WORK_CITY': '0', 'ORGANIZATION_TYPE': 'Business Entity Type 1', 'EXT_SOURCE_1': '', 'EXT_SOURCE_2': '0.5141628203855193', 'EXT_SOURCE_3': '0.6610235391308081', 'APARTMENTS_AVG': '0.0124', 'BASEMENTAREA_AVG': '', 'YEARS_BEGINEXPLUATATION_AVG': '0.9771', 'ELEVATORS_AVG': '', 'ENTRANCES_AVG': '0.069', 'FLOORSMAX_AVG': '0.0417', 'LANDAREA_AVG': '', 'LIVINGAREA_AVG': '0.0061', 'NONLIVINGAREA_AVG': '', 'APARTMENTS_MODE': '0.0126', 'BASEMENTAREA_MODE': '', 'YEARS_BEGINEXPLUATATION_MODE': '0.9772', 'ELEVATORS_MODE': '', 'ENTRANCES_MODE': '0.069', 'FLOORSMAX_MODE': '0.0417', 'LANDAREA_MODE': '', 'LIVINGAREA_MODE': '0.0063', 'NONLIVINGAREA_MODE': '', 'APARTMENTS_MEDI': '0.0125', 'BASEMENTAREA_MEDI': '', 'YEARS_BEGINEXPLUATATION_MEDI': '0.9771', 'ELEVATORS_MEDI': '', 'ENTRANCES_MEDI': '0.069', 'FLOORSMAX_MEDI': '0.0417', 'LANDAREA_MEDI': '', 'LIVINGAREA_MEDI': '0.0062', 'NONLIVINGAREA_MEDI': '', 'HOUSETYPE_MODE': 'block of flats', 'TOTALAREA_MODE': '0.0086', 'WALLSMATERIAL_MODE': 'Stone, brick', 'EMERGENCYSTATE_MODE': 'No', 'OBS_30_CNT_SOCIAL_CIRCLE': '0.0', 'DEF_30_CNT_SOCIAL_CIRCLE': '0.0', 'OBS_60_CNT_SOCIAL_CIRCLE': '0.0', 'DEF_60_CNT_SOCIAL_CIRCLE': '0.0', 'DAYS_LAST_PHONE_CHANGE': '-322.0', 'FLAG_DOCUMENT_2': '0', 'FLAG_DOCUMENT_3': '1', 'FLAG_DOCUMENT_4': '0', 'FLAG_DOCUMENT_5': '0', 'FLAG_DOCUMENT_6': '0', 'FLAG_DOCUMENT_7': '0', 'FLAG_DOCUMENT_8': '0', 'FLAG_DOCUMENT_9': '0', 'FLAG_DOCUMENT_10': '0', 'FLAG_DOCUMENT_11': '0', 'FLAG_DOCUMENT_12': '0', 'FLAG_DOCUMENT_13': '0', 'FLAG_DOCUMENT_14': '0', 'FLAG_DOCUMENT_15': '0', 'FLAG_DOCUMENT_16': '0', 'FLAG_DOCUMENT_17': '0', 'FLAG_DOCUMENT_18': '0', 'FLAG_DOCUMENT_19': '0', 'FLAG_DOCUMENT_20': '0', 'FLAG_DOCUMENT_21': '0', 'AMT_REQ_CREDIT_BUREAU_HOUR': '0.0', 'AMT_REQ_CREDIT_BUREAU_DAY': '0.0', 'AMT_REQ_CREDIT_BUREAU_WEEK': '0.0', 'AMT_REQ_CREDIT_BUREAU_MON': '0.0', 'AMT_REQ_CREDIT_BUREAU_QRT': '0.0', 'AMT_REQ_CREDIT_BUREAU_YEAR': '0.0'}, {'SK_ID_CURR': '456253', 'TARGET': '0', 'NAME_CONTRACT_TYPE': 'Cash loans', 'CODE_GENDER': 'F', 'FLAG_OWN_CAR': 'N', 'FLAG_OWN_REALTY': 'Y', 'CNT_CHILDREN': '0', 'AMT_INCOME_TOTAL': '153000.0', 'AMT_CREDIT': '677664.0', 'AMT_ANNUITY': '29979.0', 'AMT_GOODS_PRICE': '585000.0', 'NAME_TYPE_SUITE': 'Unaccompanied', 'NAME_INCOME_TYPE': 'Working', 'NAME_EDUCATION_TYPE': 'Higher education', 'NAME_FAMILY_STATUS': 'Separated', 'NAME_HOUSING_TYPE': 'House / apartment', 'REGION_POPULATION_RELATIVE': '0.005002', 'DAYS_BIRTH': '-14966', 'DAYS_EMPLOYED': '-7921', 'DAYS_REGISTRATION': '-6737.0', 'DAYS_ID_PUBLISH': '-5150', 'FLAG_MOBIL': '1', 'FLAG_EMP_PHONE': '1', 'FLAG_WORK_PHONE': '0', 'FLAG_CONT_MOBILE': '1', 'FLAG_PHONE': '0', 'FLAG_EMAIL': '1', 'OCCUPATION_TYPE': 'Managers', 'CNT_FAM_MEMBERS': '1.0', 'REGION_RATING_CLIENT': '3', 'REGION_RATING_CLIENT_W_CITY': '3', 'WEEKDAY_APPR_PROCESS_START': 'THURSDAY', 'HOUR_APPR_PROCESS_START': '9', 'REG_REGION_NOT_LIVE_REGION': '0', 'REG_REGION_NOT_WORK_REGION': '0', 'LIVE_REGION_NOT_WORK_REGION': '0', 'REG_CITY_NOT_LIVE_CITY': '0', 'REG_CITY_NOT_WORK_CITY': '1', 'LIVE_CITY_NOT_WORK_CITY': '1', 'ORGANIZATION_TYPE': 'School', 'EXT_SOURCE_1': '0.7440264002044278', 'EXT_SOURCE_2': '0.5357217517056361', 'EXT_SOURCE_3': '0.21885908222837447', 'APARTMENTS_AVG': '0.1031', 'BASEMENTAREA_AVG': '0.0862', 'YEARS_BEGINEXPLUATATION_AVG': '0.9816', 'ELEVATORS_AVG': '0.0', 'ENTRANCES_AVG': '0.2069', 'FLOORSMAX_AVG': '0.1667', 'LANDAREA_AVG': '', 'LIVINGAREA_AVG': '0.9279', 'NONLIVINGAREA_AVG': '0.0', 'APARTMENTS_MODE': '0.105', 'BASEMENTAREA_MODE': '0.0894', 'YEARS_BEGINEXPLUATATION_MODE': '0.9816', 'ELEVATORS_MODE': '0.0', 'ENTRANCES_MODE': '0.2069', 'FLOORSMAX_MODE': '0.1667', 'LANDAREA_MODE': '', 'LIVINGAREA_MODE': '0.9667', 'NONLIVINGAREA_MODE': '0.0', 'APARTMENTS_MEDI': '0.1041', 'BASEMENTAREA_MEDI': '0.0862', 'YEARS_BEGINEXPLUATATION_MEDI': '0.9816', 'ELEVATORS_MEDI': '0.0', 'ENTRANCES_MEDI': '0.2069', 'FLOORSMAX_MEDI': '0.1667', 'LANDAREA_MEDI': '', 'LIVINGAREA_MEDI': '0.9445', 'NONLIVINGAREA_MEDI': '0.0', 'HOUSETYPE_MODE': 'block of flats', 'TOTALAREA_MODE': '0.797', 'WALLSMATERIAL_MODE': 'Panel', 'EMERGENCYSTATE_MODE': 'No', 'OBS_30_CNT_SOCIAL_CIRCLE': '6.0', 'DEF_30_CNT_SOCIAL_CIRCLE': '0.0', 'OBS_60_CNT_SOCIAL_CIRCLE': '6.0', 'DEF_60_CNT_SOCIAL_CIRCLE': '0.0', 'DAYS_LAST_PHONE_CHANGE': '-1909.0', 'FLAG_DOCUMENT_2': '0', 'FLAG_DOCUMENT_3': '1', 'FLAG_DOCUMENT_4': '0', 'FLAG_DOCUMENT_5': '0', 'FLAG_DOCUMENT_6': '0', 'FLAG_DOCUMENT_7': '0', 'FLAG_DOCUMENT_8': '0', 'FLAG_DOCUMENT_9': '0', 'FLAG_DOCUMENT_10': '0', 'FLAG_DOCUMENT_11': '0', 'FLAG_DOCUMENT_12': '0', 'FLAG_DOCUMENT_13': '0', 'FLAG_DOCUMENT_14': '0', 'FLAG_DOCUMENT_15': '0', 'FLAG_DOCUMENT_16': '0', 'FLAG_DOCUMENT_17': '0', 'FLAG_DOCUMENT_18': '0', 'FLAG_DOCUMENT_19': '0', 'FLAG_DOCUMENT_20': '0', 'FLAG_DOCUMENT_21': '0', 'AMT_REQ_CREDIT_BUREAU_HOUR': '1.0', 'AMT_REQ_CREDIT_BUREAU_DAY': '0.0', 'AMT_REQ_CREDIT_BUREAU_WEEK': '0.0', 'AMT_REQ_CREDIT_BUREAU_MON': '1.0', 'AMT_REQ_CREDIT_BUREAU_QRT': '0.0', 'AMT_REQ_CREDIT_BUREAU_YEAR': '1.0'}]\n"
     ]
    }
   ],
   "source": [
    "#extract training data\n",
    "import pickle\n",
    "import csv\n",
    "\n",
    "\n",
    "def csv2dicts(csvfile):\n",
    "    data = []\n",
    "    keys = []\n",
    "    for row_index, row in enumerate(csvfile):\n",
    "        if row_index == 0:\n",
    "            keys = row\n",
    "            print(row)\n",
    "            continue\n",
    "        # if row_index % 10000 == 0:\n",
    "        #     print(row_index)\n",
    "        data.append({key: value for key, value in zip(keys, row)})\n",
    "    return data\n",
    "\n",
    "\n",
    "def set_nan_as_string(data, replace_str='0'):\n",
    "    for i, x in enumerate(data):\n",
    "        for key, value in x.items():\n",
    "            if value == '':\n",
    "                x[key] = replace_str\n",
    "        data[i] = x\n",
    "\n",
    "\n",
    "train_data = \"train_d.csv\"\n",
    "\n",
    "with open(train_data) as csvfile:\n",
    "    data = csv.reader(csvfile, delimiter=',')\n",
    "    with open('train_data.pickle', 'wb') as f:\n",
    "        data = csv2dicts(data)\n",
    "        data = data[::-1]\n",
    "        pickle.dump(data, f, -1)\n",
    "        print(data[:3])\n",
    "\n",
    "\n",
    "\n"
   ]
  },
  {
   "cell_type": "code",
   "execution_count": 28,
   "metadata": {
    "scrolled": true
   },
   "outputs": [
    {
     "ename": "ValueError",
     "evalue": "invalid literal for int() with base 10: 'Cash loans'",
     "output_type": "error",
     "traceback": [
      "\u001b[1;31m---------------------------------------------------------------------------\u001b[0m",
      "\u001b[1;31mValueError\u001b[0m                                Traceback (most recent call last)",
      "\u001b[1;32m<ipython-input-28-ffe09db5b8ea>\u001b[0m in \u001b[0;36m<module>\u001b[1;34m()\u001b[0m\n\u001b[0;32m    179\u001b[0m \u001b[1;32mfor\u001b[0m \u001b[0mrecord\u001b[0m \u001b[1;32min\u001b[0m \u001b[0mtrain_data\u001b[0m\u001b[1;33m:\u001b[0m\u001b[1;33m\u001b[0m\u001b[0m\n\u001b[0;32m    180\u001b[0m \u001b[1;33m\u001b[0m\u001b[0m\n\u001b[1;32m--> 181\u001b[1;33m     \u001b[0mfl\u001b[0m \u001b[1;33m=\u001b[0m \u001b[0mfeature_list\u001b[0m\u001b[1;33m(\u001b[0m\u001b[1;33m)\u001b[0m\u001b[1;33m\u001b[0m\u001b[0m\n\u001b[0m\u001b[0;32m    182\u001b[0m     \u001b[0mtrain_data_X\u001b[0m\u001b[1;33m.\u001b[0m\u001b[0mappend\u001b[0m\u001b[1;33m(\u001b[0m\u001b[0mfl\u001b[0m\u001b[1;33m)\u001b[0m\u001b[1;33m\u001b[0m\u001b[0m\n\u001b[0;32m    183\u001b[0m     \u001b[0mtrain_data_y\u001b[0m\u001b[1;33m.\u001b[0m\u001b[0mappend\u001b[0m\u001b[1;33m(\u001b[0m\u001b[0mint\u001b[0m\u001b[1;33m(\u001b[0m\u001b[0mrecord\u001b[0m\u001b[1;33m[\u001b[0m\u001b[1;34m'TARGET'\u001b[0m\u001b[1;33m]\u001b[0m\u001b[1;33m)\u001b[0m\u001b[1;33m)\u001b[0m\u001b[1;33m\u001b[0m\u001b[0m\n",
      "\u001b[1;32m<ipython-input-28-ffe09db5b8ea>\u001b[0m in \u001b[0;36mfeature_list\u001b[1;34m()\u001b[0m\n\u001b[0;32m    104\u001b[0m     \u001b[0mdoc20\u001b[0m \u001b[1;33m=\u001b[0m \u001b[0mint\u001b[0m\u001b[1;33m(\u001b[0m\u001b[0mrecord\u001b[0m\u001b[1;33m[\u001b[0m\u001b[1;34m'FLAG_DOCUMENT_20'\u001b[0m\u001b[1;33m]\u001b[0m\u001b[1;33m)\u001b[0m\u001b[1;33m\u001b[0m\u001b[0m\n\u001b[0;32m    105\u001b[0m     \u001b[0mdoc21\u001b[0m \u001b[1;33m=\u001b[0m \u001b[0mint\u001b[0m\u001b[1;33m(\u001b[0m\u001b[0mrecord\u001b[0m\u001b[1;33m[\u001b[0m\u001b[1;34m'FLAG_DOCUMENT_21'\u001b[0m\u001b[1;33m]\u001b[0m\u001b[1;33m)\u001b[0m\u001b[1;33m\u001b[0m\u001b[0m\n\u001b[1;32m--> 106\u001b[1;33m     \u001b[0mcontract\u001b[0m \u001b[1;33m=\u001b[0m \u001b[0mint\u001b[0m\u001b[1;33m(\u001b[0m\u001b[0mrecord\u001b[0m\u001b[1;33m[\u001b[0m\u001b[1;34m'NAME_CONTRACT_TYPE'\u001b[0m\u001b[1;33m]\u001b[0m\u001b[1;33m)\u001b[0m\u001b[1;33m\u001b[0m\u001b[0m\n\u001b[0m\u001b[0;32m    107\u001b[0m     \u001b[0mgender\u001b[0m \u001b[1;33m=\u001b[0m \u001b[0mint\u001b[0m\u001b[1;33m(\u001b[0m\u001b[0mrecord\u001b[0m\u001b[1;33m[\u001b[0m\u001b[1;34m'CODE_GENDER'\u001b[0m\u001b[1;33m]\u001b[0m\u001b[1;33m)\u001b[0m\u001b[1;33m\u001b[0m\u001b[0m\n\u001b[0;32m    108\u001b[0m     \u001b[0mcar\u001b[0m \u001b[1;33m=\u001b[0m \u001b[0mint\u001b[0m\u001b[1;33m(\u001b[0m\u001b[0mrecord\u001b[0m\u001b[1;33m[\u001b[0m\u001b[1;34m'FLAG_OWN_CAR'\u001b[0m\u001b[1;33m]\u001b[0m\u001b[1;33m)\u001b[0m\u001b[1;33m\u001b[0m\u001b[0m\n",
      "\u001b[1;31mValueError\u001b[0m: invalid literal for int() with base 10: 'Cash loans'"
     ]
    }
   ],
   "source": [
    "# extract 50 categorical features\n",
    "\n",
    "\"\"\"['FLAG_MOBIL',\n",
    " 'FLAG_EMP_PHONE',\n",
    " 'FLAG_WORK_PHONE',\n",
    " 'FLAG_CONT_MOBILE',\n",
    " 'FLAG_PHONE',\n",
    " 'FLAG_EMAIL',\n",
    " 'REGION_RATING_CLIENT',\n",
    " 'REGION_RATING_CLIENT_W_CITY',\n",
    " 'HOUR_APPR_PROCESS_START',\n",
    " 'REG_REGION_NOT_LIVE_REGION',\n",
    " 'REG_REGION_NOT_WORK_REGION',\n",
    " 'LIVE_REGION_NOT_WORK_REGION',\n",
    " 'REG_CITY_NOT_LIVE_CITY',\n",
    " 'REG_CITY_NOT_WORK_CITY',\n",
    " 'LIVE_CITY_NOT_WORK_CITY',\n",
    " 'FLAG_DOCUMENT_2',\n",
    " 'FLAG_DOCUMENT_3',\n",
    " 'FLAG_DOCUMENT_4',\n",
    " 'FLAG_DOCUMENT_5',\n",
    " 'FLAG_DOCUMENT_6',\n",
    " 'FLAG_DOCUMENT_7',\n",
    " 'FLAG_DOCUMENT_8',\n",
    " 'FLAG_DOCUMENT_9',\n",
    " 'FLAG_DOCUMENT_10',\n",
    " 'FLAG_DOCUMENT_11',\n",
    " 'FLAG_DOCUMENT_12',\n",
    " 'FLAG_DOCUMENT_13',\n",
    " 'FLAG_DOCUMENT_14',\n",
    " 'FLAG_DOCUMENT_15',\n",
    " 'FLAG_DOCUMENT_16',\n",
    " 'FLAG_DOCUMENT_17',\n",
    " 'FLAG_DOCUMENT_18',\n",
    " 'FLAG_DOCUMENT_19',\n",
    " 'FLAG_DOCUMENT_20',\n",
    " 'FLAG_DOCUMENT_21',\n",
    " 'NAME_CONTRACT_TYPE',\n",
    " 'CODE_GENDER',\n",
    " 'FLAG_OWN_CAR',\n",
    " 'FLAG_OWN_REALTY',\n",
    " 'NAME_TYPE_SUITE',\n",
    " 'NAME_INCOME_TYPE',\n",
    " 'NAME_EDUCATION_TYPE',\n",
    " 'NAME_FAMILY_STATUS',\n",
    " 'NAME_HOUSING_TYPE',\n",
    " 'OCCUPATION_TYPE',\n",
    " 'WEEKDAY_APPR_PROCESS_START',\n",
    " 'ORGANIZATION_TYPE',\n",
    " 'HOUSETYPE_MODE',\n",
    " 'WALLSMATERIAL_MODE',\n",
    " 'EMERGENCYSTATE_MODE']\"\"\"\n",
    "import pickle\n",
    "from datetime import datetime\n",
    "from sklearn import preprocessing\n",
    "import numpy as np\n",
    "import random\n",
    "random.seed(42)\n",
    "\n",
    "with open('train_data.pickle', 'rb') as f:\n",
    "    train_data = pickle.load(f)\n",
    "    num_records = len(train_data)\n",
    "\n",
    "\n",
    "\n",
    "    \n",
    "    \n",
    "def feature_list():\n",
    "  \n",
    "    \n",
    "    mobile = int(record['FLAG_MOBIL'])\n",
    "    emp_phone = int(record['FLAG_EMP_PHONE'])\n",
    "    work_phone = int(record['FLAG_WORK_PHONE'])\n",
    "    cont_mo = int(record['FLAG_CONT_MOBILE'])\n",
    "    phone= int(record['FLAG_PHONE'])\n",
    "    email = int(record['FLAG_EMAIL'])\n",
    "    region_rating = int(record['REGION_RATING_CLIENT'])\n",
    "    region_city = int(record['REGION_RATING_CLIENT_W_CITY'])\n",
    "    hour = int(record['HOUR_APPR_PROCESS_START'])\n",
    "    region_live = int(record['REG_REGION_NOT_LIVE_REGION'])\n",
    "    region_work = int(record['REG_REGION_NOT_WORK_REGION'])\n",
    "    region_lw = int(record['LIVE_REGION_NOT_WORK_REGION'])\n",
    "    Region_nl = int(record['REG_CITY_NOT_LIVE_CITY'])\n",
    "    region_nw = int(record['REG_CITY_NOT_WORK_CITY'])\n",
    "    city_lw = int(record['LIVE_CITY_NOT_WORK_CITY'])\n",
    "    doc2 = int(record['FLAG_DOCUMENT_2'])\n",
    "    doc3 = int(record['FLAG_DOCUMENT_3'])\n",
    "    doc4 = int(record['FLAG_DOCUMENT_4'])\n",
    "    doc5 = int(record['FLAG_DOCUMENT_5'])\n",
    "    doc6 = int(record['FLAG_DOCUMENT_6'])\n",
    "    doc7 = int(record['FLAG_DOCUMENT_7'])\n",
    "    doc8 = int(record['FLAG_DOCUMENT_8'])\n",
    "    doc9 = int(record['FLAG_DOCUMENT_9'])\n",
    "    doc10 = int(record['FLAG_DOCUMENT_10'])\n",
    "    doc11 = int(record['FLAG_DOCUMENT_11'])\n",
    "    doc12 = int(record['FLAG_DOCUMENT_12'])\n",
    "    doc13 = int(record['FLAG_DOCUMENT_13'])\n",
    "    doc14 = int(record['FLAG_DOCUMENT_14'])\n",
    "    doc15 = int(record['FLAG_DOCUMENT_15'])\n",
    "    doc16 = int(record['FLAG_DOCUMENT_16'])\n",
    "    doc17 = int(record['FLAG_DOCUMENT_17'])\n",
    "    doc18 = int(record['FLAG_DOCUMENT_18'])\n",
    "    doc19 = int(record['FLAG_DOCUMENT_19'])\n",
    "    doc20 = int(record['FLAG_DOCUMENT_20'])\n",
    "    doc21 = int(record['FLAG_DOCUMENT_21'])\n",
    "    contract = int(record['NAME_CONTRACT_TYPE'])\n",
    "    gender = int(record['CODE_GENDER'])\n",
    "    car = int(record['FLAG_OWN_CAR'])\n",
    "    realty = int(record['FLAG_OWN_REALTY'])\n",
    "    suite = int(record['NAME_TYPE_SUITE'])\n",
    "    income_type = int(record['NAME_INCOME_TYPE'])\n",
    "    education = int(record['NAME_EDUCATION_TYPE'])\n",
    "    family = int(record['NAME_FAMILY_STATUS'])\n",
    "    housing = int(record['NAME_HOUSING_TYPE'])\n",
    "    occupation = int(record['OCCUPATION_TYPE'])\n",
    "    weekday = int(record['WEEKDAY_APPR_PROCESS_START'])\n",
    "    org = int(record['ORGANIZATION_TYPE'])\n",
    "    housetype = int(record['HOUSETYPE_MODE'])\n",
    "    wall = int(record['WALLSMATERIAL_MODE'])\n",
    "    eme = int(record['EMERGENCYSTATE_MODE'])\n",
    "\n",
    "    return [\n",
    "    mobile ,\n",
    "    emp_phone,\n",
    "    work_phone,\n",
    "    cont_mo ,\n",
    "    phone,\n",
    "    email,\n",
    "    region_rating,\n",
    "    region_city,\n",
    "    hour,\n",
    "    region_live,\n",
    "    region_work ,\n",
    "    region_lw ,\n",
    "    Region_nl ,\n",
    "    region_nw ,\n",
    "    city_lw ,\n",
    "    doc2 ,\n",
    "    doc3 ,\n",
    "    doc4 ,\n",
    "    doc5 ,\n",
    "    doc6 ,\n",
    "    doc7 ,\n",
    "    doc8 ,\n",
    "    doc9 ,\n",
    "    doc10 ,\n",
    "    doc11 ,\n",
    "    doc12 ,\n",
    "    doc13 ,\n",
    "    doc14 ,\n",
    "    doc15 ,\n",
    "    doc16 ,\n",
    "    doc17 ,\n",
    "    doc18 ,\n",
    "    doc19 ,\n",
    "    doc20 ,\n",
    "    doc21 ,\n",
    "    contract ,\n",
    "    gender ,\n",
    "    car ,\n",
    "    realty ,\n",
    "    suite ,\n",
    "    income_type,\n",
    "    education ,\n",
    "    family ,\n",
    "    housing ,\n",
    "    occupation ,\n",
    "    weekday ,\n",
    "    org ,\n",
    "    housetype ,\n",
    "    wall ,\n",
    "    eme \n",
    "            ]\n",
    "\n",
    "\n",
    "train_data_X = []\n",
    "train_data_y = []\n",
    "\n",
    "for record in train_data:\n",
    "    \n",
    "    fl = feature_list()\n",
    "    train_data_X.append(fl)\n",
    "    train_data_y.append(int(record['TARGET']))\n",
    "    print('f1:', len(fl))\n",
    "print(\"Number of train datapoints: \", len(train_data_y))\n",
    "\n",
    "print(min(train_data_y), max(train_data_y))\n",
    "#print(len(train_data_X[1]))\n",
    "\n",
    "\n"
   ]
  },
  {
   "cell_type": "code",
   "execution_count": null,
   "metadata": {},
   "outputs": [],
   "source": [
    "full_X = train_data_X\n",
    "full_X = np.array(full_X)\n",
    "train_data_X = np.array(train_data_X)\n",
    "les = []\n",
    "for i in range(train_data_X.shape[1]):\n",
    "    le = preprocessing.LabelEncoder()\n",
    "    le.fit(full_X[:, i])\n",
    "    les.append(le)\n",
    "    train_data_X[:, i] = le.transform(train_data_X[:, i])\n",
    "\n",
    "with open('les.pickle', 'wb') as f:\n",
    "    pickle.dump(les, f, -1)\n",
    "\n",
    "train_data_X = train_data_X.astype(int)\n",
    "train_data_y = np.array(train_data_y)\n",
    "\n",
    "with open('feature_train_data.pickle', 'wb') as f:\n",
    "    pickle.dump((train_data_X, train_data_y), f, -1)\n",
    "    print(train_data_X[0], train_data_y[0])"
   ]
  },
  {
   "cell_type": "code",
   "execution_count": null,
   "metadata": {},
   "outputs": [],
   "source": [
    "train_data_y[train_data_y==0]=-1\n",
    "train_data_y"
   ]
  },
  {
   "cell_type": "code",
   "execution_count": null,
   "metadata": {},
   "outputs": [],
   "source": [
    "train_data_X.shape"
   ]
  },
  {
   "cell_type": "code",
   "execution_count": null,
   "metadata": {},
   "outputs": [],
   "source": [
    "train_data_y.shape"
   ]
  },
  {
   "cell_type": "code",
   "execution_count": null,
   "metadata": {},
   "outputs": [],
   "source": [
    "!pip install tensorflow"
   ]
  },
  {
   "cell_type": "code",
   "execution_count": null,
   "metadata": {},
   "outputs": [],
   "source": [
    "def split_features(X):\n",
    "    X_list = []\n",
    "\n",
    "    store_index = X[..., [1]]\n",
    "    X_list.append(store_index)\n",
    "\n",
    "    day_of_week = X[..., [2]]\n",
    "    X_list.append(day_of_week)\n",
    "\n",
    "    promo = X[..., [3]]\n",
    "    X_list.append(promo)\n",
    "\n",
    "    year = X[..., [4]]\n",
    "    X_list.append(year)\n",
    "\n",
    "    month = X[..., [5]]\n",
    "    X_list.append(month)\n",
    "\n",
    "    day = X[..., [6]]\n",
    "    X_list.append(day)\n",
    "\n",
    "    State = X[..., [7]]\n",
    "    X_list.append(State)\n",
    "\n",
    "    return X_list\n",
    "\n",
    "    mobile =X[..., [1]]\n",
    "    X_list.append(mobile)\n",
    "    emp_phone=X[..., [2]]\n",
    "    X_list.append(emp_phone)\n",
    "    work_phone=X[..., [3]]\n",
    "    X_list.append(work_phone)\n",
    "    cont_mo =X[..., [4]]\n",
    "    X_list.append(cont_mo)\n",
    "    phone =X[..., [5]]\n",
    "    X_list.append(phone)\n",
    "    email =X[..., [6]]\n",
    "    X_list.append(email)\n",
    "    region_rating =X[..., [7]]\n",
    "    X_list.append(region_rating)\n",
    "    region_city =X[..., [8]]\n",
    "    X_list.append(region_city) \n",
    "    hour =X[..., [9]]\n",
    "    X_list.append(hour)\n",
    "    region_live =X[..., [10]]\n",
    "    X_list.append(region_live)\n",
    "    region_work =X[..., [11]]\n",
    "    X_list.append(region_work)\n",
    "    region_lw =X[..., [12]]\n",
    "    X_list.append(region_lw)\n",
    "    Region_nl =X[..., [13]]\n",
    "    X_list.append(region_ln)\n",
    "    region_nw =X[..., [14]]\n",
    "    X_list.append(region_nw) \n",
    "    city_lw =X[..., [15]]\n",
    "    X_list.append(city_lw)\n",
    "    doc2 =X[..., [16]]\n",
    "    X_list.append(doc2)\n",
    "    doc3 =X[..., [17]]\n",
    "    X_list.append(doc3)\n",
    "    doc4 =X[..., [18]]\n",
    "    X_list.append(doc4)\n",
    "    doc5 =X[..., [19]]\n",
    "    X_list.append(doc5)\n",
    "    doc6 =X[..., [20]]\n",
    "    X_list.append(doc6)\n",
    "    doc7  =X[..., [21]]\n",
    "    X_list.append(doc7)\n",
    "    doc8 =X[..., [22]]\n",
    "    X_list.append(doc8)\n",
    "    doc9 =X[..., [23]]\n",
    "    X_list.append(doc9)\n",
    "    doc10 =X[..., [24]]\n",
    "    X_list.append(doc10)\n",
    "    doc11 =X[..., [25]]\n",
    "    X_list.append(doc11)\n",
    "    doc12 =X[..., [26]]\n",
    "    X_list.append(doc12)\n",
    "    doc13 =X[..., [27]]\n",
    "    X_list.append(doc13) \n",
    "    doc14 =X[..., [28]]\n",
    "    X_list.append(doc14)\n",
    "    doc15 =X[..., [29]]\n",
    "    X_list.append(doc14)\n",
    "    doc16 =X[..., [30]]\n",
    "    X_list.append(doc16)\n",
    "    doc17 =X[..., [31]]\n",
    "    X_list.append(doc17)\n",
    "    doc18 =X[..., [32]]\n",
    "    X_list.append(doc18)\n",
    "    doc19 =X[..., [33]]\n",
    "    X_list.append(doc19)\n",
    "    doc20 =X[..., [34]]\n",
    "    X_list.append(doc20)\n",
    "    doc21 =X[..., [35]]\n",
    "    X_list.append(doc21)\n",
    "    contract =X[..., [36]]\n",
    "    X_list.append(contract)\n",
    "    gender =X[..., [37]]\n",
    "    X_list.append(gender)\n",
    "    car =X[..., [38]]\n",
    "    X_list.append(car)\n",
    "    realty =X[..., [39]]\n",
    "    X_list.append(realty)\n",
    "    suite =X[..., [40]]\n",
    "    X_list.append(suite)\n",
    "    income_type =X[..., [41]]\n",
    "    X_list.append(income_type)\n",
    "    education =X[..., [42]]\n",
    "    X_list.append(education)\n",
    "    family =X[..., [43]]\n",
    "    X_list.append(family)\n",
    "    housing =X[..., [44]]\n",
    "    X_list.append(housing)\n",
    "    occupation =X[..., [45]]\n",
    "    X_list.append(occupation)\n",
    "    weekday =X[..., [46]]\n",
    "    X_list.append(weekday)\n",
    "    org =X[..., [47]]\n",
    "    X_list.append(org)\n",
    "    housetype =X[..., [48]]\n",
    "    X_list.append(housetype)\n",
    "    wall =X[..., [49]]\n",
    "    X_list.append(wall)\n",
    "    eme =X[..., [50]]\n",
    "    X_list.append(eme)\n",
    "    return X_list"
   ]
  },
  {
   "cell_type": "code",
   "execution_count": 29,
   "metadata": {},
   "outputs": [
    {
     "name": "stderr",
     "output_type": "stream",
     "text": [
      "C:\\Users\\Vijayalaskmi\\Anaconda3\\lib\\site-packages\\h5py\\__init__.py:36: FutureWarning: Conversion of the second argument of issubdtype from `float` to `np.floating` is deprecated. In future, it will be treated as `np.float64 == np.dtype(float).type`.\n",
      "  from ._conv import register_converters as _register_converters\n",
      "Using TensorFlow backend.\n"
     ]
    }
   ],
   "source": [
    "import pickle\n",
    "import numpy\n",
    "import math\n",
    "\n",
    "from sklearn.preprocessing import StandardScaler\n",
    "\n",
    "from keras.models import Sequential\n",
    "from keras.layers.core import Dense, Dropout, Activation, Reshape\n",
    "from keras.layers.embeddings import Embedding\n",
    "from keras.callbacks import ModelCheckpoint\n",
    "from keras.layers import Concatenate, Dense, LSTM, Input, concatenate\n",
    "\n",
    "#from prepare_nn_features import split_features\n",
    "\n",
    "\n",
    "class Model(object):\n",
    "\n",
    "    def __init__(self, train_ratio):\n",
    "        self.train_ratio = train_ratio\n",
    "        self.__load_data()\n",
    "\n",
    "    def evaluate(self):\n",
    "        if self.train_ratio == 1:\n",
    "            return 0\n",
    "        total_sqe = 0\n",
    "        num_real_test = 0\n",
    "        for record, target in zip(self.X_val, self.y_val):\n",
    "    \n",
    "            sqe = ((target - self.y_val) / target) ** 2\n",
    "            total_sqe += sqe\n",
    "            num_real_test += 1\n",
    "        result = math.sqrt(total_sqe / num_real_test)\n",
    "        return result\n",
    "\n",
    "    def __load_data(self):\n",
    "        f = open('feature_train_data.pickle', 'rb')\n",
    "        (self.X, self.y) = pickle.load(f)\n",
    "        self.X = numpy.array(self.X)\n",
    "        self.y = numpy.array(self.y)\n",
    "        self.num_records = len(self.X)\n",
    "        self.train_size = int(self.train_ratio * self.num_records)\n",
    "        self.test_size = self.num_records - self.train_size\n",
    "        self.X, self.X_val = self.X[:self.train_size], self.X[self.train_size:]\n",
    "        self.y, self.y_val = self.y[:self.train_size], self.y[self.train_size:]\n",
    "\n",
    "\n",
    "class NN_with_EntityEmbedding(Model):\n",
    "\n",
    "    def __init__(self, train_ratio):\n",
    "        super().__init__(train_ratio)\n",
    "        self.preprocessing(self.X)\n",
    "        self.nb_epoch = 20\n",
    "        self.checkpointer = ModelCheckpoint(filepath=\"best_model_weights.hdf5\", verbose=1, save_best_only=True)\n",
    "        self.max_log_y = numpy.max(numpy.log(self.y))\n",
    "        self.min_log_y = numpy.min(numpy.log(self.y))\n",
    "        self.__build_keras_model()\n",
    "        self.fit()\n",
    "\n",
    "    def preprocessing(self, X):\n",
    "        X_list = split_features(X)\n",
    "        return X_list\n",
    "\n",
    "    def __build_keras_model(self):\n",
    "        models = []\n",
    "        \n",
    "        #1\n",
    "        model_mobile = Sequential()\n",
    "        model_mobile.add(Dense(2, input_dim=2))\n",
    "        models.append(model_mobile)\n",
    "        #2\n",
    "        model_emp_phone = Sequential()\n",
    "        model_emp_phone.add(Dense(2, input_dim=2))\n",
    "        models.append(model_emp_phone)\n",
    "        #3\n",
    "        model_work_phone = Sequential()\n",
    "        model_work_phone.add(Dense(2, input_dim=2))\n",
    "        models.append(model_work_phone)\n",
    "        #4\n",
    "        model_cont_mo = Sequential()\n",
    "        model_cont_mo.add(Dense(2, input_dim=2))\n",
    "        models.append(model_cont_mo)\n",
    "        #5\n",
    "        \n",
    "        \n",
    "        model_phone = Sequential()\n",
    "        model_phone.add(Dense(2, input_dim=2))\n",
    "        models.append(model_phone)\n",
    "        #6\n",
    "        model_email = Sequential()\n",
    "        model_email.add(Dense(2, input_dim=2))\n",
    "        models.append(model_email)\n",
    "        #7\n",
    "        model_region_rating = Sequential()\n",
    "        model_region_rating.add(Embedding(4, 2, input_length=1))\n",
    "        model_region_rating.add(Reshape((2,)))\n",
    "        models.append(model_region_rating)\n",
    "        #8\n",
    "        model_region_city = Sequential()\n",
    "        model_region_city.add(Embedding(4, 2, input_length=1))\n",
    "        model_region_city.add(Reshape((2,)))\n",
    "        models.append(model_region_city)\n",
    "        #9\n",
    "        model_hour = Sequential()\n",
    "        model_hour.add(Embedding(24, 2, input_length=1))\n",
    "        model_hour.add(Reshape((2,)))\n",
    "        models.append(model_hour)        \n",
    "        #10\n",
    "        model_region_live = Sequential()\n",
    "        model_region_live.add(Dense(2, input_dim=2))\n",
    "        models.append(model_region_live)\n",
    "        #11\n",
    "        model_region_work = Sequential()\n",
    "        model_region_work.add(Dense(2, input_dim=2))\n",
    "        models.append(model_region_work)\n",
    "        #12\n",
    "        model_region_lw = Sequential()\n",
    "        model_region_lw.add(Dense(2, input_dim=2))\n",
    "        models.append(model_region_lw)\n",
    "        #13\n",
    "        model_Region_nl = Sequential()\n",
    "        model_Region_nl.add(Dense(2, input_dim=2))\n",
    "        models.append(model_Region_nl)\n",
    "        #14\n",
    "        model_region_nw = Sequential()\n",
    "        model_region_nw.add(Dense(2, input_dim=2))\n",
    "        models.append(model_region_nw)        \n",
    "        #15\n",
    "        model_city_lw = Sequential()\n",
    "        model_city_lw.add(Dense(2, input_dim=2))\n",
    "        models.append(model_city_lw)\n",
    "        #16\n",
    "        model_doc2 = Sequential()\n",
    "        model_doc2.add(Dense(2, input_dim=2))\n",
    "        models.append(model_doc2)\n",
    "        #17\n",
    "        model_doc3 = Sequential()\n",
    "        model_doc3.add(Dense(2, input_dim=2))\n",
    "        models.append(model_doc3) \n",
    "        #18\n",
    "        model_doc4 = Sequential()\n",
    "        model_doc4.add(Dense(2, input_dim=2))\n",
    "        models.append(model_doc4)       \n",
    "        #19\n",
    "        model_doc5 = Sequential()\n",
    "        model_doc5.add(Dense(2, input_dim=2))\n",
    "        models.append(model_doc5)\n",
    "        #20\n",
    "        model_doc6 = Sequential()\n",
    "        model_doc6.add(Dense(2, input_dim=2))\n",
    "        models.append(model_doc6)\n",
    "        #21\n",
    "        model_doc7 = Sequential()\n",
    "        model_doc7.add(Dense(2, input_dim=2))\n",
    "        models.append(model_doc7)\n",
    "        #22\n",
    "        model_doc8 = Sequential()\n",
    "        model_doc8.add(Dense(2, input_dim=2))\n",
    "        models.append(model_doc8)\n",
    "        #23\n",
    "        model_doc9 = Sequential()\n",
    "        model_doc9.add(Dense(2, input_dim=2))\n",
    "        models.append(model_doc9)\n",
    "        #24\n",
    "        model_doc10 = Sequential()\n",
    "        model_doc10.add(Dense(2, input_dim=2))\n",
    "        models.append(model_doc10)\n",
    "        #25\n",
    "        model_doc11 = Sequential()\n",
    "        model_doc11.add(Dense(2, input_dim=2))\n",
    "        models.append(model_doc11)\n",
    "        #26\n",
    "        model_doc12 = Sequential()\n",
    "        model_doc12.add(Dense(2, input_dim=2))\n",
    "        models.append(model_doc12)\n",
    "        #27\n",
    "        model_doc13 = Sequential()\n",
    "        model_doc13.add(Dense(2, input_dim=2))\n",
    "        models.append(model_doc13)\n",
    "        #28\n",
    "        model_doc14 = Sequential()\n",
    "        model_doc14.add(Dense(2, input_dim=2))\n",
    "        models.append(model_doc14)\n",
    "        #29\n",
    "        model_doc15 = Sequential()\n",
    "        model_doc15.add(Dense(2, input_dim=2))\n",
    "        models.append(model_doc15)\n",
    "        #30\n",
    "        model_doc16 = Sequential()\n",
    "        model_doc16.add(Dense(2, input_dim=2))\n",
    "        models.append(model_doc16)\n",
    "        #31\n",
    "        model_doc17 = Sequential()\n",
    "        model_doc17.add(Dense(2, input_dim=2))\n",
    "        models.append(model_doc17)\n",
    "        #32\n",
    "        model_doc18 = Sequential()\n",
    "        model_doc18.add(Dense(2, input_dim=2))\n",
    "        models.append(model_doc18)\n",
    "        #33\n",
    "        model_doc19 = Sequential()\n",
    "        model_doc19.add(Dense(2, input_dim=2))\n",
    "        models.append(model_doc19)\n",
    "        #34\n",
    "        model_doc20 = Sequential()\n",
    "        model_doc20.add(Dense(2, input_dim=2))\n",
    "        models.append(model_doc20)\n",
    "        #35\n",
    "        model_doc21 = Sequential()\n",
    "        model_doc21.add(Dense(2, input_dim=2))\n",
    "        models.append(model_doc21)\n",
    "        #36\n",
    "        model_contract = Sequential()\n",
    "        model_contract.add(Dense(2, input_dim=2))\n",
    "        models.append(model_contract)\n",
    "        #37\n",
    "        model_gender = Sequential()\n",
    "        model_gender.add(Embedding(4, 2, input_length=1))\n",
    "        model_gender.add(Reshape((2,)))\n",
    "        models.append(model_gender)\n",
    "        #38\n",
    "        model_car = Sequential()\n",
    "        model_car.add(Dense(2, input_dim=2))\n",
    "        models.append(model_car)\n",
    "        #39\n",
    "        model_realty = Sequential()\n",
    "        model_realty.add(Dense(2, input_dim=2))\n",
    "        models.append(model_realty)\n",
    "        #40\n",
    "        model_suite = Sequential()\n",
    "        model_suite.add(Embedding(8, 3, input_length=1))\n",
    "        model_suite.add(Reshape((3,)))\n",
    "        models.append(model_suite)\n",
    "        #41\n",
    "        model_income_type = Sequential()\n",
    "        model_income_type.add(Embedding(7, 3, input_length=1))\n",
    "        model_income_type.add(Reshape((3,)))\n",
    "        models.append(model_income_type)\n",
    "        #42\n",
    "        model_education = Sequential()\n",
    "        model_education.add(Embedding(5, 2, input_length=1))\n",
    "        model_education.add(Reshape((2,)))\n",
    "        models.append(model_education)\n",
    "        #43\n",
    "        model_family = Sequential()\n",
    "        model_family.add(Embedding(6, 3, input_length=1))\n",
    "        model_family.add(Reshape((3,)))\n",
    "        models.append(model_family)\n",
    "        #44\n",
    "        model_housing = Sequential()\n",
    "        model_housing.add(Embedding(6, 3, input_length=1))\n",
    "        model_housing.add(Reshape((3,)))\n",
    "        models.append(model_housing)\n",
    "        #45\n",
    "        model_occupation = Sequential()\n",
    "        model_occupation.add(Embedding(19, 6, input_length=1))\n",
    "        model_occupation.add(Reshape((6,)))\n",
    "        models.append(model_occupation)\n",
    "        #46\n",
    "        model_weekday = Sequential()\n",
    "        model_weekday.add(Embedding(7, 3, input_length=1))\n",
    "        model_weekday.add(Reshape((3,)))\n",
    "        models.append(model_weekday)\n",
    "        #47\n",
    "        model_org = Sequential()\n",
    "        model_org.add(Embedding(57, 3, input_length=1))\n",
    "        model_org.add(Reshape((3,)))\n",
    "        models.append(model_org)\n",
    "        #48\n",
    "        model_housetype = Sequential()\n",
    "        model_housetype.add(Embedding(4, 2, input_length=1))\n",
    "        model_housetype.add(Reshape((2,)))\n",
    "        models.append(model_housetype)\n",
    "        #49\n",
    "        model_wall = Sequential()\n",
    "        model_wall.add(Embedding(7, 3, input_length=1))\n",
    "        model_wall.add(Reshape((3,)))\n",
    "        models.append(model_wall)\n",
    "        #50\n",
    "        model_eme = Sequential()\n",
    "        model_eme.add(Embedding(3, 1, input_length=1))\n",
    "        model_eme.add(Reshape((1,)))\n",
    "        models.append(model_eme)\n",
    "        \n",
    "        \n",
    "        #model_concat = concatenate([modela, modelb])\n",
    "        self.model = Sequential()\n",
    "        merged = concatenate(models)\n",
    "        self.model.add(merged)\n",
    "        self.model.add(Dropout(0.02))\n",
    "        self.model.add(Dense(1000, init='uniform'))\n",
    "        self.model.add(Activation('relu'))\n",
    "        self.model.add(Dense(500, init='uniform'))\n",
    "        self.model.add(Activation('relu'))\n",
    "        self.model.add(Dense(1))\n",
    "        self.model.add(Activation('sigmoid'))\n",
    "\n",
    "        self.model.compile(loss='mean_absolute_error', optimizer='adam')\n",
    "\n",
    "    def _val_for_fit(self, val):\n",
    "        val = numpy.log(val) / self.max_log_y\n",
    "        return val\n",
    "\n",
    "    def _val_for_pred(self, val):\n",
    "        return numpy.exp(val * self.max_log_y)\n",
    "\n",
    "    def fit(self):\n",
    "        if self.train_ratio < 1:\n",
    "            self.model.fit(self.preprocessing(self.X), self._val_for_fit(self.y),\n",
    "                           validation_data=(self.preprocessing(self.X_val), self._val_for_fit(self.y_val)),\n",
    "                           nb_epoch=self.nb_epoch, batch_size=128,\n",
    "                           # callbacks=[self.checkpointer],\n",
    "                           )\n",
    "            # self.model.load_weights('best_model_weights.hdf5')\n",
    "            print(\"Result on validation data: \", self.evaluate())\n",
    "        else:\n",
    "            self.model.fit(self.preprocessing(self.X), self._val_for_fit(self.y),\n",
    "                           nb_epoch=self.nb_epoch, batch_size=128)\n",
    "\n",
    "    def guess(self, feature):\n",
    "        feature = numpy.array(feature).reshape(1, -1)\n",
    "        return self._val_for_pred(self.model.predict(self.preprocessing(feature)))[0][0]\n"
   ]
  },
  {
   "cell_type": "code",
   "execution_count": 30,
   "metadata": {},
   "outputs": [
    {
     "name": "stdout",
     "output_type": "stream",
     "text": [
      "Fitting NN_with_EntityEmbedding...\n"
     ]
    },
    {
     "ename": "NameError",
     "evalue": "name 'split_features' is not defined",
     "output_type": "error",
     "traceback": [
      "\u001b[1;31m---------------------------------------------------------------------------\u001b[0m",
      "\u001b[1;31mNameError\u001b[0m                                 Traceback (most recent call last)",
      "\u001b[1;32m<ipython-input-30-b86fc03a6ffe>\u001b[0m in \u001b[0;36m<module>\u001b[1;34m()\u001b[0m\n\u001b[0;32m     16\u001b[0m \u001b[1;32mfor\u001b[0m \u001b[0mi\u001b[0m \u001b[1;32min\u001b[0m \u001b[0mrange\u001b[0m\u001b[1;33m(\u001b[0m\u001b[0mnum_networks\u001b[0m\u001b[1;33m)\u001b[0m\u001b[1;33m:\u001b[0m\u001b[1;33m\u001b[0m\u001b[0m\n\u001b[0;32m     17\u001b[0m     \u001b[0mprint\u001b[0m\u001b[1;33m(\u001b[0m\u001b[1;34m\"Fitting NN_with_EntityEmbedding...\"\u001b[0m\u001b[1;33m)\u001b[0m\u001b[1;33m\u001b[0m\u001b[0m\n\u001b[1;32m---> 18\u001b[1;33m     \u001b[0mmodels\u001b[0m\u001b[1;33m.\u001b[0m\u001b[0mappend\u001b[0m\u001b[1;33m(\u001b[0m\u001b[0mNN_with_EntityEmbedding\u001b[0m\u001b[1;33m(\u001b[0m\u001b[0mtrain_ratio\u001b[0m\u001b[1;33m)\u001b[0m\u001b[1;33m)\u001b[0m\u001b[1;33m\u001b[0m\u001b[0m\n\u001b[0m\u001b[0;32m     19\u001b[0m \u001b[1;33m\u001b[0m\u001b[0m\n\u001b[0;32m     20\u001b[0m \u001b[1;32mwith\u001b[0m \u001b[0mopen\u001b[0m\u001b[1;33m(\u001b[0m\u001b[1;34m'models.pickle'\u001b[0m\u001b[1;33m,\u001b[0m \u001b[1;34m'wb'\u001b[0m\u001b[1;33m)\u001b[0m \u001b[1;32mas\u001b[0m \u001b[0mf\u001b[0m\u001b[1;33m:\u001b[0m\u001b[1;33m\u001b[0m\u001b[0m\n",
      "\u001b[1;32m<ipython-input-29-c97ae9adf0da>\u001b[0m in \u001b[0;36m__init__\u001b[1;34m(self, train_ratio)\u001b[0m\n\u001b[0;32m     49\u001b[0m     \u001b[1;32mdef\u001b[0m \u001b[0m__init__\u001b[0m\u001b[1;33m(\u001b[0m\u001b[0mself\u001b[0m\u001b[1;33m,\u001b[0m \u001b[0mtrain_ratio\u001b[0m\u001b[1;33m)\u001b[0m\u001b[1;33m:\u001b[0m\u001b[1;33m\u001b[0m\u001b[0m\n\u001b[0;32m     50\u001b[0m         \u001b[0msuper\u001b[0m\u001b[1;33m(\u001b[0m\u001b[1;33m)\u001b[0m\u001b[1;33m.\u001b[0m\u001b[0m__init__\u001b[0m\u001b[1;33m(\u001b[0m\u001b[0mtrain_ratio\u001b[0m\u001b[1;33m)\u001b[0m\u001b[1;33m\u001b[0m\u001b[0m\n\u001b[1;32m---> 51\u001b[1;33m         \u001b[0mself\u001b[0m\u001b[1;33m.\u001b[0m\u001b[0mpreprocessing\u001b[0m\u001b[1;33m(\u001b[0m\u001b[0mself\u001b[0m\u001b[1;33m.\u001b[0m\u001b[0mX\u001b[0m\u001b[1;33m)\u001b[0m\u001b[1;33m\u001b[0m\u001b[0m\n\u001b[0m\u001b[0;32m     52\u001b[0m         \u001b[0mself\u001b[0m\u001b[1;33m.\u001b[0m\u001b[0mnb_epoch\u001b[0m \u001b[1;33m=\u001b[0m \u001b[1;36m20\u001b[0m\u001b[1;33m\u001b[0m\u001b[0m\n\u001b[0;32m     53\u001b[0m         \u001b[0mself\u001b[0m\u001b[1;33m.\u001b[0m\u001b[0mcheckpointer\u001b[0m \u001b[1;33m=\u001b[0m \u001b[0mModelCheckpoint\u001b[0m\u001b[1;33m(\u001b[0m\u001b[0mfilepath\u001b[0m\u001b[1;33m=\u001b[0m\u001b[1;34m\"best_model_weights.hdf5\"\u001b[0m\u001b[1;33m,\u001b[0m \u001b[0mverbose\u001b[0m\u001b[1;33m=\u001b[0m\u001b[1;36m1\u001b[0m\u001b[1;33m,\u001b[0m \u001b[0msave_best_only\u001b[0m\u001b[1;33m=\u001b[0m\u001b[1;32mTrue\u001b[0m\u001b[1;33m)\u001b[0m\u001b[1;33m\u001b[0m\u001b[0m\n",
      "\u001b[1;32m<ipython-input-29-c97ae9adf0da>\u001b[0m in \u001b[0;36mpreprocessing\u001b[1;34m(self, X)\u001b[0m\n\u001b[0;32m     58\u001b[0m \u001b[1;33m\u001b[0m\u001b[0m\n\u001b[0;32m     59\u001b[0m     \u001b[1;32mdef\u001b[0m \u001b[0mpreprocessing\u001b[0m\u001b[1;33m(\u001b[0m\u001b[0mself\u001b[0m\u001b[1;33m,\u001b[0m \u001b[0mX\u001b[0m\u001b[1;33m)\u001b[0m\u001b[1;33m:\u001b[0m\u001b[1;33m\u001b[0m\u001b[0m\n\u001b[1;32m---> 60\u001b[1;33m         \u001b[0mX_list\u001b[0m \u001b[1;33m=\u001b[0m \u001b[0msplit_features\u001b[0m\u001b[1;33m(\u001b[0m\u001b[0mX\u001b[0m\u001b[1;33m)\u001b[0m\u001b[1;33m\u001b[0m\u001b[0m\n\u001b[0m\u001b[0;32m     61\u001b[0m         \u001b[1;32mreturn\u001b[0m \u001b[0mX_list\u001b[0m\u001b[1;33m\u001b[0m\u001b[0m\n\u001b[0;32m     62\u001b[0m \u001b[1;33m\u001b[0m\u001b[0m\n",
      "\u001b[1;31mNameError\u001b[0m: name 'split_features' is not defined"
     ]
    }
   ],
   "source": [
    "import pickle\n",
    "#from models import NN_with_EntityEmbedding\n",
    "import math\n",
    "import numpy\n",
    "import sys\n",
    "sys.setrecursionlimit(10000)\n",
    "\n",
    "num_networks = 1\n",
    "train_ratio = 0.97\n",
    "\n",
    "with open('feature_train_data.pickle', 'rb') as f:\n",
    "    X, y = pickle.load(f)\n",
    "    num_records = len(y)\n",
    "\n",
    "models = []\n",
    "for i in range(num_networks):\n",
    "    print(\"Fitting NN_with_EntityEmbedding...\")\n",
    "    models.append(NN_with_EntityEmbedding(train_ratio))\n",
    "\n",
    "with open('models.pickle', 'wb') as f:\n",
    "    pickle.dump(models, f, -1)\n",
    "\n",
    "\n",
    "def evaluate_models(models, num_records):\n",
    "    model0 = models[0]\n",
    "    total_sqe = 0\n",
    "    num_real_test = 0\n",
    "    if model0.train_ratio == 1:\n",
    "        return 0\n",
    "    for i in range(model0.train_size, num_records):\n",
    "        record = X[i]\n",
    "        target = y[i]\n",
    "        \n",
    "        guessed_target = numpy.mean([model.guess(record) for model in models])\n",
    "        sqe = ((target - guessed_target) / sales) ** 2\n",
    "        total_sqe += sqe\n",
    "        num_real_test += 1\n",
    "        if num_real_test % 1000 == 0:\n",
    "            print(\"{}/{}\".format(num_real_test, num_records - model0.train_size))\n",
    "            print(target, guessed_target)\n",
    "    result = math.sqrt(total_sqe / num_real_test)\n",
    "    return result\n",
    "\n",
    "print(\"Evaluate combined models...\")\n",
    "r = evaluate_models(models, num_records)\n",
    "print(r)\n",
    "\n",
    "\n",
    "\n"
   ]
  },
  {
   "cell_type": "code",
   "execution_count": 31,
   "metadata": {},
   "outputs": [
    {
     "name": "stdout",
     "output_type": "stream",
     "text": [
      "2.2.4\n"
     ]
    }
   ],
   "source": [
    "import keras\n",
    "import tensorflow\n",
    "print(keras.__version__)"
   ]
  },
  {
   "cell_type": "code",
   "execution_count": 34,
   "metadata": {},
   "outputs": [
    {
     "ename": "FileNotFoundError",
     "evalue": "[Errno 2] No such file or directory: 'feature_test_data.pickle'",
     "output_type": "error",
     "traceback": [
      "\u001b[1;31m---------------------------------------------------------------------------\u001b[0m",
      "\u001b[1;31mFileNotFoundError\u001b[0m                         Traceback (most recent call last)",
      "\u001b[1;32m<ipython-input-34-ebcc92754bca>\u001b[0m in \u001b[0;36m<module>\u001b[1;34m()\u001b[0m\n\u001b[1;32m----> 1\u001b[1;33m \u001b[1;32mwith\u001b[0m \u001b[0mopen\u001b[0m\u001b[1;33m(\u001b[0m\u001b[1;34m'feature_test_data.pickle'\u001b[0m\u001b[1;33m,\u001b[0m \u001b[1;34m'rb'\u001b[0m\u001b[1;33m)\u001b[0m \u001b[1;32mas\u001b[0m \u001b[0mf\u001b[0m\u001b[1;33m:\u001b[0m\u001b[1;33m\u001b[0m\u001b[0m\n\u001b[0m\u001b[0;32m      2\u001b[0m     \u001b[0mtest_X\u001b[0m \u001b[1;33m=\u001b[0m \u001b[0mpickle\u001b[0m\u001b[1;33m.\u001b[0m\u001b[0mload\u001b[0m\u001b[1;33m(\u001b[0m\u001b[0mf\u001b[0m\u001b[1;33m)\u001b[0m\u001b[1;33m\u001b[0m\u001b[0m\n\u001b[0;32m      3\u001b[0m \u001b[1;33m\u001b[0m\u001b[0m\n\u001b[0;32m      4\u001b[0m \u001b[1;32mwith\u001b[0m \u001b[0mopen\u001b[0m\u001b[1;33m(\u001b[0m\u001b[1;34m'predictions.csv'\u001b[0m\u001b[1;33m,\u001b[0m \u001b[1;34m'w'\u001b[0m\u001b[1;33m)\u001b[0m \u001b[1;32mas\u001b[0m \u001b[0mf\u001b[0m\u001b[1;33m:\u001b[0m\u001b[1;33m\u001b[0m\u001b[0m\n\u001b[0;32m      5\u001b[0m     \u001b[0mf\u001b[0m\u001b[1;33m.\u001b[0m\u001b[0mwrite\u001b[0m\u001b[1;33m(\u001b[0m\u001b[1;34m'Id,Sales\\n'\u001b[0m\u001b[1;33m)\u001b[0m\u001b[1;33m\u001b[0m\u001b[0m\n",
      "\u001b[1;31mFileNotFoundError\u001b[0m: [Errno 2] No such file or directory: 'feature_test_data.pickle'"
     ]
    }
   ],
   "source": [
    "with open('feature_test_data.pickle', 'rb') as f:\n",
    "    test_X = pickle.load(f)\n",
    "\n",
    "with open('predictions.csv', 'w') as f:\n",
    "    f.write('Id,Sales\\n')\n",
    "    for i, record in enumerate(test_X):\n",
    "        store_open = record[0]\n",
    "        guessed_sales = numpy.mean([model.guess(record) for model in models]) if store_open else 0\n",
    "        f.write('{},{}\\n'.format(i+1, guessed_sales))"
   ]
  },
  {
   "cell_type": "markdown",
   "metadata": {},
   "source": [
    "### Check categorical data that are not quantitative "
   ]
  },
  {
   "cell_type": "code",
   "execution_count": 35,
   "metadata": {},
   "outputs": [],
   "source": [
    "def check_cat(data):\n",
    "    col = data.columns \n",
    "    num_col = data._get_numeric_data().columns\n",
    "    return list(set(col)-set(num_col))\n"
   ]
  },
  {
   "cell_type": "code",
   "execution_count": 36,
   "metadata": {},
   "outputs": [],
   "source": [
    "def check_quan_qual(file):\n",
    "    quan = list( file.loc[:,file.dtypes != 'object'].columns.values )\n",
    "    qual = list( file.loc[:,file.dtypes == 'object'].columns.values )\n",
    "   \n",
    "    print('number of quantitative columns:',len(quan))\n",
    "    print('number of qualitative columns:',len(qual))\n",
    "    print('qualitative columns',qual)\n",
    "        "
   ]
  },
  {
   "cell_type": "code",
   "execution_count": 37,
   "metadata": {},
   "outputs": [
    {
     "name": "stdout",
     "output_type": "stream",
     "text": [
      "number of quantitative columns: 90\n",
      "number of qualitative columns: 15\n",
      "qualitative columns ['NAME_CONTRACT_TYPE', 'CODE_GENDER', 'FLAG_OWN_CAR', 'FLAG_OWN_REALTY', 'NAME_TYPE_SUITE', 'NAME_INCOME_TYPE', 'NAME_EDUCATION_TYPE', 'NAME_FAMILY_STATUS', 'NAME_HOUSING_TYPE', 'OCCUPATION_TYPE', 'WEEKDAY_APPR_PROCESS_START', 'ORGANIZATION_TYPE', 'HOUSETYPE_MODE', 'WALLSMATERIAL_MODE', 'EMERGENCYSTATE_MODE']\n"
     ]
    }
   ],
   "source": [
    "check_quan_qual(train_d)"
   ]
  },
  {
   "cell_type": "code",
   "execution_count": 38,
   "metadata": {},
   "outputs": [
    {
     "data": {
      "text/plain": [
       "['NAME_CONTRACT_TYPE',\n",
       " 'CODE_GENDER',\n",
       " 'FLAG_OWN_CAR',\n",
       " 'FLAG_OWN_REALTY',\n",
       " 'NAME_TYPE_SUITE',\n",
       " 'NAME_INCOME_TYPE',\n",
       " 'NAME_EDUCATION_TYPE',\n",
       " 'NAME_FAMILY_STATUS',\n",
       " 'NAME_HOUSING_TYPE',\n",
       " 'OCCUPATION_TYPE',\n",
       " 'WEEKDAY_APPR_PROCESS_START',\n",
       " 'ORGANIZATION_TYPE',\n",
       " 'HOUSETYPE_MODE',\n",
       " 'WALLSMATERIAL_MODE',\n",
       " 'EMERGENCYSTATE_MODE']"
      ]
     },
     "execution_count": 38,
     "metadata": {},
     "output_type": "execute_result"
    }
   ],
   "source": [
    "cat_list_trn = list( train_d.loc[:,train_d.dtypes == 'object'].columns.values )\n",
    "cat_list_trn"
   ]
  },
  {
   "cell_type": "markdown",
   "metadata": {},
   "source": [
    "### Target encoding with smoothing\n",
    "min_samples_leaf define a threshold where prior and target mean (for a given category value) have the same weight. Below the threshold prior becomes more important and above mean becomes more important.\n",
    "\n",
    "How weight behaves against value counts is controlled by smoothing parameter"
   ]
  },
  {
   "cell_type": "code",
   "execution_count": 39,
   "metadata": {},
   "outputs": [],
   "source": [
    "def add_noise(series, noise_level):\n",
    "    return series * (1 + noise_level * np.random.randn(len(series)))\n",
    "\n",
    "def target_encode(trn_series=None, \n",
    "                  tst_series=None, \n",
    "                  target=None, \n",
    "                  min_samples_leaf=1, \n",
    "                  smoothing=1,\n",
    "                  noise_level=0):\n",
    "    \"\"\"\n",
    "    Smoothing is computed like in the following paper by Daniele Micci-Barreca\n",
    "    https://kaggle2.blob.core.windows.net/forum-message-attachments/225952/7441/high%20cardinality%20categoricals.pdf\n",
    "    trn_series : training categorical feature as a pd.Series\n",
    "    tst_series : test categorical feature as a pd.Series\n",
    "    target : target data as a pd.Series\n",
    "    min_samples_leaf (int) : minimum samples to take category average into account\n",
    "    smoothing (int) : smoothing effect to balance categorical average vs prior  \n",
    "    \"\"\" \n",
    "    assert len(trn_series) == len(target)\n",
    "    assert trn_series.name == tst_series.name\n",
    "    temp = pd.concat([trn_series, target], axis=1)\n",
    "    # Compute target mean \n",
    "    averages = temp.groupby(by=trn_series.name)[target.name].agg([\"mean\", \"count\"])\n",
    "    # Compute smoothing\n",
    "    smoothing = 1 / (1 + np.exp(-(averages[\"count\"] - min_samples_leaf) / smoothing))\n",
    "    # Apply average function to all target data\n",
    "    prior = target.mean()\n",
    "    # The bigger the count the less full_avg is taken into account\n",
    "    averages[target.name] = prior * (1 - smoothing) + averages[\"mean\"] * smoothing\n",
    "    averages.drop([\"mean\", \"count\"], axis=1, inplace=True)\n",
    "    # Apply averages to trn and tst series\n",
    "    ft_trn_series = pd.merge(\n",
    "        trn_series.to_frame(trn_series.name),\n",
    "        averages.reset_index().rename(columns={'index': target.name, target.name: 'average'}),\n",
    "        on=trn_series.name,\n",
    "        how='left')['average'].rename(trn_series.name + '_mean').fillna(prior)\n",
    "    # pd.merge does not keep the index so restore it\n",
    "    ft_trn_series.index = trn_series.index \n",
    "    ft_tst_series = pd.merge(\n",
    "        tst_series.to_frame(tst_series.name),\n",
    "        averages.reset_index().rename(columns={'index': target.name, target.name: 'average'}),\n",
    "        on=tst_series.name,\n",
    "        how='left')['average'].rename(trn_series.name + '_mean').fillna(prior)\n",
    "    # pd.merge does not keep the index so restore it\n",
    "    ft_tst_series.index = tst_series.index\n",
    "    return add_noise(ft_trn_series, noise_level), add_noise(ft_tst_series, noise_level)\n",
    "#https://www.kaggle.com/ogrellier/python-target-encoding-for-categorical-features"
   ]
  },
  {
   "cell_type": "code",
   "execution_count": 40,
   "metadata": {},
   "outputs": [],
   "source": [
    "cat_list_trn = list( train_d.loc[:,train_d.dtypes == 'object'].columns.values )\n",
    "cat_list_trn\n",
    "for item in cat_list_trn: \n",
    "    train_d[item], test[item] = target_encode(train_d[item], \n",
    "                             test[item], \n",
    "                             target=train_d.TARGET, \n",
    "                             min_samples_leaf=100,\n",
    "                             smoothing=10,\n",
    "                             noise_level=0.01)"
   ]
  },
  {
   "cell_type": "code",
   "execution_count": 41,
   "metadata": {
    "scrolled": true
   },
   "outputs": [
    {
     "data": {
      "text/plain": [
       "array([], dtype=object)"
      ]
     },
     "execution_count": 41,
     "metadata": {},
     "output_type": "execute_result"
    }
   ],
   "source": [
    "train_d.loc[:,train_d.dtypes == 'object'].columns.values"
   ]
  },
  {
   "cell_type": "code",
   "execution_count": 42,
   "metadata": {
    "scrolled": true
   },
   "outputs": [
    {
     "data": {
      "text/plain": [
       "array([], dtype=object)"
      ]
     },
     "execution_count": 42,
     "metadata": {},
     "output_type": "execute_result"
    }
   ],
   "source": [
    "test.loc[:,test.dtypes == 'object'].columns.values"
   ]
  },
  {
   "cell_type": "code",
   "execution_count": 43,
   "metadata": {},
   "outputs": [
    {
     "data": {
      "text/plain": [
       "0         0.091051\n",
       "1         0.091294\n",
       "2         0.056236\n",
       "3         0.089439\n",
       "4         0.089843\n",
       "5         0.089680\n",
       "6         0.089793\n",
       "7         0.091948\n",
       "9         0.055825\n",
       "10        0.088181\n",
       "12        0.090724\n",
       "13        0.089598\n",
       "14        0.089512\n",
       "15        0.091204\n",
       "16        0.090035\n",
       "17        0.055426\n",
       "18        0.056502\n",
       "19        0.090467\n",
       "20        0.057107\n",
       "21        0.088614\n",
       "22        0.090049\n",
       "24        0.089895\n",
       "25        0.090888\n",
       "26        0.089942\n",
       "27        0.087721\n",
       "28        0.089806\n",
       "29        0.056468\n",
       "30        0.091617\n",
       "31        0.089225\n",
       "32        0.091055\n",
       "            ...   \n",
       "307477    0.092022\n",
       "307478    0.092665\n",
       "307479    0.090951\n",
       "307480    0.089806\n",
       "307481    0.089245\n",
       "307482    0.090126\n",
       "307484    0.090372\n",
       "307485    0.057032\n",
       "307486    0.089115\n",
       "307488    0.090065\n",
       "307489    0.088746\n",
       "307490    0.090868\n",
       "307491    0.091050\n",
       "307492    0.092076\n",
       "307493    0.090770\n",
       "307494    0.089991\n",
       "307495    0.089864\n",
       "307496    0.055907\n",
       "307497    0.090740\n",
       "307498    0.090269\n",
       "307499    0.090199\n",
       "307500    0.088409\n",
       "307501    0.089851\n",
       "307502    0.090275\n",
       "307503    0.088990\n",
       "307504    0.088285\n",
       "307506    0.090004\n",
       "307508    0.091284\n",
       "307509    0.089459\n",
       "307510    0.090073\n",
       "Name: NAME_CONTRACT_TYPE, Length: 252137, dtype: float64"
      ]
     },
     "execution_count": 43,
     "metadata": {},
     "output_type": "execute_result"
    }
   ],
   "source": [
    "train_d['NAME_CONTRACT_TYPE']\n"
   ]
  },
  {
   "cell_type": "code",
   "execution_count": 44,
   "metadata": {},
   "outputs": [],
   "source": [
    "train_tar = train_d[['SK_ID_CURR','TARGET']]"
   ]
  },
  {
   "cell_type": "code",
   "execution_count": 45,
   "metadata": {},
   "outputs": [
    {
     "data": {
      "text/html": [
       "<div>\n",
       "<style scoped>\n",
       "    .dataframe tbody tr th:only-of-type {\n",
       "        vertical-align: middle;\n",
       "    }\n",
       "\n",
       "    .dataframe tbody tr th {\n",
       "        vertical-align: top;\n",
       "    }\n",
       "\n",
       "    .dataframe thead th {\n",
       "        text-align: right;\n",
       "    }\n",
       "</style>\n",
       "<table border=\"1\" class=\"dataframe\">\n",
       "  <thead>\n",
       "    <tr style=\"text-align: right;\">\n",
       "      <th></th>\n",
       "      <th>SK_ID_CURR</th>\n",
       "      <th>TARGET</th>\n",
       "    </tr>\n",
       "  </thead>\n",
       "  <tbody>\n",
       "    <tr>\n",
       "      <th>0</th>\n",
       "      <td>100002</td>\n",
       "      <td>1</td>\n",
       "    </tr>\n",
       "    <tr>\n",
       "      <th>1</th>\n",
       "      <td>100003</td>\n",
       "      <td>0</td>\n",
       "    </tr>\n",
       "    <tr>\n",
       "      <th>2</th>\n",
       "      <td>100004</td>\n",
       "      <td>0</td>\n",
       "    </tr>\n",
       "    <tr>\n",
       "      <th>3</th>\n",
       "      <td>100006</td>\n",
       "      <td>0</td>\n",
       "    </tr>\n",
       "    <tr>\n",
       "      <th>4</th>\n",
       "      <td>100007</td>\n",
       "      <td>0</td>\n",
       "    </tr>\n",
       "  </tbody>\n",
       "</table>\n",
       "</div>"
      ],
      "text/plain": [
       "   SK_ID_CURR  TARGET\n",
       "0      100002       1\n",
       "1      100003       0\n",
       "2      100004       0\n",
       "3      100006       0\n",
       "4      100007       0"
      ]
     },
     "execution_count": 45,
     "metadata": {},
     "output_type": "execute_result"
    }
   ],
   "source": [
    "train_tar.head()"
   ]
  },
  {
   "cell_type": "code",
   "execution_count": 46,
   "metadata": {},
   "outputs": [],
   "source": [
    "## join target encoding dataframes and join data frames on primary keys\n",
    "# dfs = [pre_app_d, pos_d, bu_d, ccba_d, pmt_d]\n",
    "def target_encode_dataframes(train_tar, df,key):\n",
    "\n",
    "    #dfs_new=[]\n",
    "    #for df in dfs:\n",
    "    new_df = pd.merge( df, train_tar,on=key)\n",
    "    #print(train_tar)\n",
    "    row = new_df.shape[0]\n",
    "    train_new_df = new_df.iloc[:round(row*.6), 0:]\n",
    "    #print(train_new_df.columns)\n",
    "    test_new_df = new_df.iloc[round(row*.6)+1:, :-2]\n",
    "    #print(test_new_df.columns)\n",
    "    cat_list_pre = list( train_new_df.loc[:,train_new_df.dtypes == 'object'].columns.values )\n",
    "    cat_list_pre\n",
    "    for item in cat_list_pre: \n",
    "        train_new_df[item], test_new_df[item] = target_encode(train_new_df[item], \n",
    "                                 test_new_df[item], \n",
    "                                 target=train_new_df.TARGET, \n",
    "                                 min_samples_leaf=100,\n",
    "                                 smoothing=10,\n",
    "                                 noise_level=0.01)\n",
    "    # add SK_ID_CURR back\n",
    "    #print(train_new_df.columns)\n",
    "    #train_j= pd.concat([train_new_df,train_new_df.iloc[:round(row*.6),0]], axis=1) \n",
    "    #print(train_j.columns)\n",
    "    # group by ID\n",
    "    train_g = train_new_df.groupby([key]).mean()\n",
    "    return train_g\n",
    "\n",
    "\n",
    "    "
   ]
  },
  {
   "cell_type": "code",
   "execution_count": 47,
   "metadata": {},
   "outputs": [
    {
     "data": {
      "text/plain": [
       "(252137, 105)"
      ]
     },
     "execution_count": 47,
     "metadata": {},
     "output_type": "execute_result"
    }
   ],
   "source": [
    "#check column numbers of final result\n",
    "train_d.shape"
   ]
  },
  {
   "cell_type": "markdown",
   "metadata": {},
   "source": [
    "### Log transformation\n",
    "\n",
    "Apply log transformation to highly skewed columns\n"
   ]
  },
  {
   "cell_type": "code",
   "execution_count": 48,
   "metadata": {},
   "outputs": [
    {
     "data": {
      "text/plain": [
       "Index(['TARGET', 'NAME_CONTRACT_TYPE', 'CODE_GENDER', 'FLAG_OWN_CAR',\n",
       "       'FLAG_OWN_REALTY', 'CNT_CHILDREN', 'AMT_INCOME_TOTAL', 'AMT_CREDIT',\n",
       "       'AMT_ANNUITY', 'AMT_GOODS_PRICE',\n",
       "       ...\n",
       "       'FLAG_DOCUMENT_17', 'FLAG_DOCUMENT_18', 'FLAG_DOCUMENT_19',\n",
       "       'FLAG_DOCUMENT_20', 'FLAG_DOCUMENT_21', 'AMT_REQ_CREDIT_BUREAU_HOUR',\n",
       "       'AMT_REQ_CREDIT_BUREAU_DAY', 'AMT_REQ_CREDIT_BUREAU_WEEK',\n",
       "       'AMT_REQ_CREDIT_BUREAU_MON', 'AMT_REQ_CREDIT_BUREAU_QRT'],\n",
       "      dtype='object', length=103)"
      ]
     },
     "execution_count": 48,
     "metadata": {},
     "output_type": "execute_result"
    }
   ],
   "source": [
    "train_d.columns[1:-1]"
   ]
  },
  {
   "cell_type": "code",
   "execution_count": 49,
   "metadata": {
    "scrolled": true
   },
   "outputs": [
    {
     "name": "stdout",
     "output_type": "stream",
     "text": [
      "AMT_INCOME_TOTAL\n",
      "AMT_CREDIT\n",
      "AMT_ANNUITY\n",
      "AMT_GOODS_PRICE\n"
     ]
    }
   ],
   "source": [
    "for c in train_d.columns[1:-1]:\n",
    "    if train_d[c].mean()>100:\n",
    "        print(c)\n",
    "        train_d[c] = train_d[c].apply(lambda x: np.log(x+1))"
   ]
  },
  {
   "cell_type": "markdown",
   "metadata": {},
   "source": [
    "### Fill missing values"
   ]
  },
  {
   "cell_type": "code",
   "execution_count": 50,
   "metadata": {},
   "outputs": [],
   "source": [
    "train_d = train_d.fillna(train_d.mean())\n",
    "test_f = test.fillna(test.mean())"
   ]
  },
  {
   "cell_type": "code",
   "execution_count": 51,
   "metadata": {
    "scrolled": true
   },
   "outputs": [
    {
     "data": {
      "text/plain": [
       "SK_ID_CURR                    0\n",
       "TARGET                        0\n",
       "NAME_CONTRACT_TYPE            0\n",
       "CODE_GENDER                   0\n",
       "FLAG_OWN_CAR                  0\n",
       "FLAG_OWN_REALTY               0\n",
       "CNT_CHILDREN                  0\n",
       "AMT_INCOME_TOTAL              0\n",
       "AMT_CREDIT                    0\n",
       "AMT_ANNUITY                   0\n",
       "AMT_GOODS_PRICE               0\n",
       "NAME_TYPE_SUITE               0\n",
       "NAME_INCOME_TYPE              0\n",
       "NAME_EDUCATION_TYPE           0\n",
       "NAME_FAMILY_STATUS            0\n",
       "NAME_HOUSING_TYPE             0\n",
       "REGION_POPULATION_RELATIVE    0\n",
       "DAYS_BIRTH                    0\n",
       "DAYS_EMPLOYED                 0\n",
       "DAYS_REGISTRATION             0\n",
       "DAYS_ID_PUBLISH               0\n",
       "FLAG_MOBIL                    0\n",
       "FLAG_EMP_PHONE                0\n",
       "FLAG_WORK_PHONE               0\n",
       "FLAG_CONT_MOBILE              0\n",
       "FLAG_PHONE                    0\n",
       "FLAG_EMAIL                    0\n",
       "OCCUPATION_TYPE               0\n",
       "CNT_FAM_MEMBERS               0\n",
       "REGION_RATING_CLIENT          0\n",
       "                             ..\n",
       "DEF_30_CNT_SOCIAL_CIRCLE      0\n",
       "OBS_60_CNT_SOCIAL_CIRCLE      0\n",
       "DEF_60_CNT_SOCIAL_CIRCLE      0\n",
       "DAYS_LAST_PHONE_CHANGE        0\n",
       "FLAG_DOCUMENT_2               0\n",
       "FLAG_DOCUMENT_3               0\n",
       "FLAG_DOCUMENT_4               0\n",
       "FLAG_DOCUMENT_5               0\n",
       "FLAG_DOCUMENT_6               0\n",
       "FLAG_DOCUMENT_7               0\n",
       "FLAG_DOCUMENT_8               0\n",
       "FLAG_DOCUMENT_9               0\n",
       "FLAG_DOCUMENT_10              0\n",
       "FLAG_DOCUMENT_11              0\n",
       "FLAG_DOCUMENT_12              0\n",
       "FLAG_DOCUMENT_13              0\n",
       "FLAG_DOCUMENT_14              0\n",
       "FLAG_DOCUMENT_15              0\n",
       "FLAG_DOCUMENT_16              0\n",
       "FLAG_DOCUMENT_17              0\n",
       "FLAG_DOCUMENT_18              0\n",
       "FLAG_DOCUMENT_19              0\n",
       "FLAG_DOCUMENT_20              0\n",
       "FLAG_DOCUMENT_21              0\n",
       "AMT_REQ_CREDIT_BUREAU_HOUR    0\n",
       "AMT_REQ_CREDIT_BUREAU_DAY     0\n",
       "AMT_REQ_CREDIT_BUREAU_WEEK    0\n",
       "AMT_REQ_CREDIT_BUREAU_MON     0\n",
       "AMT_REQ_CREDIT_BUREAU_QRT     0\n",
       "AMT_REQ_CREDIT_BUREAU_YEAR    0\n",
       "Length: 105, dtype: int64"
      ]
     },
     "execution_count": 51,
     "metadata": {},
     "output_type": "execute_result"
    }
   ],
   "source": [
    "train_d.isnull().sum()\n"
   ]
  },
  {
   "cell_type": "markdown",
   "metadata": {},
   "source": [
    "### Standardization"
   ]
  },
  {
   "cell_type": "code",
   "execution_count": 52,
   "metadata": {},
   "outputs": [
    {
     "data": {
      "text/plain": [
       "Index([], dtype='object')"
      ]
     },
     "execution_count": 52,
     "metadata": {},
     "output_type": "execute_result"
    }
   ],
   "source": [
    "# filter out columns that only has 0 as values\n",
    "sd = train_d.iloc[:, 1:-2]\n",
    "sd.columns[(sd == 0).all()]"
   ]
  },
  {
   "cell_type": "code",
   "execution_count": 53,
   "metadata": {},
   "outputs": [],
   "source": [
    "drop_c = ['FLAG_DOCUMENT_2', 'FLAG_DOCUMENT_4', 'FLAG_DOCUMENT_7',\n",
    "       'FLAG_DOCUMENT_10', 'FLAG_DOCUMENT_12', 'FLAG_DOCUMENT_17',\n",
    "       'FLAG_DOCUMENT_21']\n",
    "\n",
    "sd = sd.drop(drop_c, 1)"
   ]
  },
  {
   "cell_type": "code",
   "execution_count": 54,
   "metadata": {},
   "outputs": [
    {
     "data": {
      "text/plain": [
       "(252137, 95)"
      ]
     },
     "execution_count": 54,
     "metadata": {},
     "output_type": "execute_result"
    }
   ],
   "source": [
    "sd.shape"
   ]
  },
  {
   "cell_type": "code",
   "execution_count": 55,
   "metadata": {
    "scrolled": true
   },
   "outputs": [
    {
     "data": {
      "text/plain": [
       "Index([], dtype='object')"
      ]
     },
     "execution_count": 55,
     "metadata": {},
     "output_type": "execute_result"
    }
   ],
   "source": [
    "sd.columns[(sd == np.inf).all()]"
   ]
  },
  {
   "cell_type": "code",
   "execution_count": 56,
   "metadata": {},
   "outputs": [
    {
     "data": {
      "text/plain": [
       "Int64Index([     0,      1,      2,      3,      4,      5,      6,      7,\n",
       "                 9,     10,\n",
       "            ...\n",
       "            307499, 307500, 307501, 307502, 307503, 307504, 307506, 307508,\n",
       "            307509, 307510],\n",
       "           dtype='int64', length=252137)"
      ]
     },
     "execution_count": 56,
     "metadata": {},
     "output_type": "execute_result"
    }
   ],
   "source": [
    "sd.index"
   ]
  },
  {
   "cell_type": "code",
   "execution_count": 57,
   "metadata": {},
   "outputs": [
    {
     "name": "stdout",
     "output_type": "stream",
     "text": [
      "                             Any_NaN  Any_inf\n",
      "TARGET                         False     True\n",
      "NAME_CONTRACT_TYPE             False     True\n",
      "CODE_GENDER                    False     True\n",
      "FLAG_OWN_CAR                   False     True\n",
      "FLAG_OWN_REALTY                False     True\n",
      "CNT_CHILDREN                   False     True\n",
      "AMT_INCOME_TOTAL               False     True\n",
      "AMT_CREDIT                     False     True\n",
      "AMT_ANNUITY                    False     True\n",
      "AMT_GOODS_PRICE                False     True\n",
      "NAME_TYPE_SUITE                False     True\n",
      "NAME_INCOME_TYPE               False     True\n",
      "NAME_EDUCATION_TYPE            False     True\n",
      "NAME_FAMILY_STATUS             False     True\n",
      "NAME_HOUSING_TYPE              False     True\n",
      "REGION_POPULATION_RELATIVE     False     True\n",
      "DAYS_BIRTH                     False     True\n",
      "DAYS_EMPLOYED                  False     True\n",
      "DAYS_REGISTRATION              False     True\n",
      "DAYS_ID_PUBLISH                False     True\n",
      "FLAG_MOBIL                     False     True\n",
      "FLAG_EMP_PHONE                 False     True\n",
      "FLAG_WORK_PHONE                False     True\n",
      "FLAG_CONT_MOBILE               False     True\n",
      "FLAG_PHONE                     False     True\n",
      "FLAG_EMAIL                     False     True\n",
      "OCCUPATION_TYPE                False     True\n",
      "CNT_FAM_MEMBERS                False     True\n",
      "REGION_RATING_CLIENT           False     True\n",
      "REGION_RATING_CLIENT_W_CITY    False     True\n",
      "...                              ...      ...\n",
      "FLOORSMAX_MEDI                 False     True\n",
      "LANDAREA_MEDI                  False     True\n",
      "LIVINGAREA_MEDI                False     True\n",
      "NONLIVINGAREA_MEDI             False     True\n",
      "HOUSETYPE_MODE                 False     True\n",
      "TOTALAREA_MODE                 False     True\n",
      "WALLSMATERIAL_MODE             False     True\n",
      "EMERGENCYSTATE_MODE            False     True\n",
      "OBS_30_CNT_SOCIAL_CIRCLE       False     True\n",
      "DEF_30_CNT_SOCIAL_CIRCLE       False     True\n",
      "OBS_60_CNT_SOCIAL_CIRCLE       False     True\n",
      "DEF_60_CNT_SOCIAL_CIRCLE       False     True\n",
      "DAYS_LAST_PHONE_CHANGE         False     True\n",
      "FLAG_DOCUMENT_3                False     True\n",
      "FLAG_DOCUMENT_5                False     True\n",
      "FLAG_DOCUMENT_6                False     True\n",
      "FLAG_DOCUMENT_8                False     True\n",
      "FLAG_DOCUMENT_9                False     True\n",
      "FLAG_DOCUMENT_11               False     True\n",
      "FLAG_DOCUMENT_13               False     True\n",
      "FLAG_DOCUMENT_14               False     True\n",
      "FLAG_DOCUMENT_15               False     True\n",
      "FLAG_DOCUMENT_16               False     True\n",
      "FLAG_DOCUMENT_18               False     True\n",
      "FLAG_DOCUMENT_19               False     True\n",
      "FLAG_DOCUMENT_20               False     True\n",
      "AMT_REQ_CREDIT_BUREAU_HOUR     False     True\n",
      "AMT_REQ_CREDIT_BUREAU_DAY      False     True\n",
      "AMT_REQ_CREDIT_BUREAU_WEEK     False     True\n",
      "AMT_REQ_CREDIT_BUREAU_MON      False     True\n",
      "\n",
      "[95 rows x 2 columns]\n"
     ]
    }
   ],
   "source": [
    "index = []\n",
    "NaN_counter = []\n",
    "inf_counter = []\n",
    "\n",
    "for col in sd.columns:\n",
    "    index.append(col)\n",
    "    inf_counter.append(np.any(np.isfinite(train_d[col])))\n",
    "    NaN_counter.append(np.any(np.isnan(train_d[col])))\n",
    "\n",
    "data_check = {'Any_NaN': NaN_counter, 'Any_inf': inf_counter}\n",
    "data_verification = pd.DataFrame(data=data_check, index=index)\n",
    "print(data_verification)"
   ]
  },
  {
   "cell_type": "code",
   "execution_count": 58,
   "metadata": {},
   "outputs": [],
   "source": [
    "sd = sd.replace([np.inf, -np.inf], np.nan)"
   ]
  },
  {
   "cell_type": "code",
   "execution_count": 59,
   "metadata": {},
   "outputs": [],
   "source": [
    "sd = sd.fillna(sd.mean())"
   ]
  },
  {
   "cell_type": "code",
   "execution_count": 60,
   "metadata": {},
   "outputs": [
    {
     "name": "stderr",
     "output_type": "stream",
     "text": [
      "C:\\Users\\Vijayalaskmi\\Anaconda3\\lib\\site-packages\\ipykernel_launcher.py:2: DataConversionWarning: Data with input dtype int64, float64 were all converted to float64 by the scale function.\n",
      "  \n"
     ]
    }
   ],
   "source": [
    "from sklearn import preprocessing\n",
    "standardized_X = preprocessing.scale(sd)"
   ]
  },
  {
   "cell_type": "code",
   "execution_count": 61,
   "metadata": {},
   "outputs": [],
   "source": [
    "standardized_X= pd.DataFrame(standardized_X, columns = sd.columns)"
   ]
  },
  {
   "cell_type": "code",
   "execution_count": 62,
   "metadata": {},
   "outputs": [
    {
     "data": {
      "text/plain": [
       "(252137, 95)"
      ]
     },
     "execution_count": 62,
     "metadata": {},
     "output_type": "execute_result"
    }
   ],
   "source": [
    "standardized_X.shape"
   ]
  },
  {
   "cell_type": "code",
   "execution_count": 63,
   "metadata": {},
   "outputs": [],
   "source": [
    "y = train_d.iloc[:, -1]"
   ]
  },
  {
   "cell_type": "code",
   "execution_count": 64,
   "metadata": {},
   "outputs": [],
   "source": [
    "y=y.values.reshape(-1,1)"
   ]
  },
  {
   "cell_type": "code",
   "execution_count": 65,
   "metadata": {},
   "outputs": [
    {
     "data": {
      "text/plain": [
       "(252137, 1)"
      ]
     },
     "execution_count": 65,
     "metadata": {},
     "output_type": "execute_result"
    }
   ],
   "source": [
    "y.shape"
   ]
  },
  {
   "cell_type": "markdown",
   "metadata": {},
   "source": [
    "## Feature Engineer\n",
    "\n",
    "After the above steps, there are 2919 rows and 159 attributes left in the dataset. Below is to employ our approach for feature selection. \n",
    "\n",
    "Our approach is to use a inverted pyramid structure to filter out desired feature sets. All of the features was first filtered out by VIF (Variance Inflation Factor) score. VIF is a metric that evaluates collinearity. The higher the score is, the the severe the collinearity for a feature it indicates. We set a threshold of 10. Any features that have a score less than 10 were preserved to dataframe X_reduced.\n",
    "\n",
    "The inverted pyramid structure contains two levels. The first level include two filters, RFE+ random forest and RFE + logistic regression. The second level includes RFE + SVR. RFE is a recursive feature elimination wrapper class that selects features by their importance. The two filter on the first level is to categorize features into two categories: selected and unselected. Due to different mechanisms of random forest and logistic regression, the features selected by each filter varies to a extend. We then package the common sets and feed the them into the second level filter, which is consist of RFE+SVR with a linear kernel. A final set of feature then generated.   "
   ]
  },
  {
   "cell_type": "markdown",
   "metadata": {},
   "source": [
    "### RFE and random forest regressor using VIF filter"
   ]
  },
  {
   "cell_type": "markdown",
   "metadata": {},
   "source": [
    "1. calculate VIF (Variance Inflation Factor) for each column of X\n",
    "2. set the threshold of VIF to 10 \n",
    "3. remove columns that has a VIF value higher than the threshold\n",
    "4. feed the reduced X to RFE with RF and select 53 features"
   ]
  },
  {
   "cell_type": "code",
   "execution_count": 70,
   "metadata": {},
   "outputs": [],
   "source": [
    "#import sys\n",
    "#!{sys.executable} -m pip install statsmodels\n",
    "\n",
    "from statsmodels.stats.outliers_influence import variance_inflation_factor\n",
    "\n",
    "X = standardized_X\n",
    "y = y"
   ]
  },
  {
   "cell_type": "code",
   "execution_count": 71,
   "metadata": {},
   "outputs": [],
   "source": [
    "# For each X, calculate VIF and save in dataframe\n",
    "vif = pd.DataFrame()\n",
    "vif[\"VIF Factor\"] = [variance_inflation_factor(X.values, i) for i in range(X.shape[1])]\n",
    "vif[\"features\"] = X.columns"
   ]
  },
  {
   "cell_type": "code",
   "execution_count": 72,
   "metadata": {
    "scrolled": true
   },
   "outputs": [
    {
     "data": {
      "text/html": [
       "<div>\n",
       "<style scoped>\n",
       "    .dataframe tbody tr th:only-of-type {\n",
       "        vertical-align: middle;\n",
       "    }\n",
       "\n",
       "    .dataframe tbody tr th {\n",
       "        vertical-align: top;\n",
       "    }\n",
       "\n",
       "    .dataframe thead th {\n",
       "        text-align: right;\n",
       "    }\n",
       "</style>\n",
       "<table border=\"1\" class=\"dataframe\">\n",
       "  <thead>\n",
       "    <tr style=\"text-align: right;\">\n",
       "      <th></th>\n",
       "      <th>VIF Factor</th>\n",
       "      <th>features</th>\n",
       "    </tr>\n",
       "  </thead>\n",
       "  <tbody>\n",
       "    <tr>\n",
       "      <th>0</th>\n",
       "      <td>1.072038</td>\n",
       "      <td>TARGET</td>\n",
       "    </tr>\n",
       "    <tr>\n",
       "      <th>1</th>\n",
       "      <td>5.003173</td>\n",
       "      <td>NAME_CONTRACT_TYPE</td>\n",
       "    </tr>\n",
       "    <tr>\n",
       "      <th>2</th>\n",
       "      <td>1.420521</td>\n",
       "      <td>CODE_GENDER</td>\n",
       "    </tr>\n",
       "    <tr>\n",
       "      <th>3</th>\n",
       "      <td>1.217869</td>\n",
       "      <td>FLAG_OWN_CAR</td>\n",
       "    </tr>\n",
       "    <tr>\n",
       "      <th>4</th>\n",
       "      <td>1.050360</td>\n",
       "      <td>FLAG_OWN_REALTY</td>\n",
       "    </tr>\n",
       "    <tr>\n",
       "      <th>5</th>\n",
       "      <td>5.769470</td>\n",
       "      <td>CNT_CHILDREN</td>\n",
       "    </tr>\n",
       "    <tr>\n",
       "      <th>6</th>\n",
       "      <td>1.645712</td>\n",
       "      <td>AMT_INCOME_TOTAL</td>\n",
       "    </tr>\n",
       "    <tr>\n",
       "      <th>7</th>\n",
       "      <td>50.514796</td>\n",
       "      <td>AMT_CREDIT</td>\n",
       "    </tr>\n",
       "    <tr>\n",
       "      <th>8</th>\n",
       "      <td>4.277303</td>\n",
       "      <td>AMT_ANNUITY</td>\n",
       "    </tr>\n",
       "    <tr>\n",
       "      <th>9</th>\n",
       "      <td>50.986187</td>\n",
       "      <td>AMT_GOODS_PRICE</td>\n",
       "    </tr>\n",
       "    <tr>\n",
       "      <th>10</th>\n",
       "      <td>1.016675</td>\n",
       "      <td>NAME_TYPE_SUITE</td>\n",
       "    </tr>\n",
       "    <tr>\n",
       "      <th>11</th>\n",
       "      <td>1.117775</td>\n",
       "      <td>NAME_INCOME_TYPE</td>\n",
       "    </tr>\n",
       "    <tr>\n",
       "      <th>12</th>\n",
       "      <td>1.259851</td>\n",
       "      <td>NAME_EDUCATION_TYPE</td>\n",
       "    </tr>\n",
       "    <tr>\n",
       "      <th>13</th>\n",
       "      <td>1.338411</td>\n",
       "      <td>NAME_FAMILY_STATUS</td>\n",
       "    </tr>\n",
       "    <tr>\n",
       "      <th>14</th>\n",
       "      <td>1.098822</td>\n",
       "      <td>NAME_HOUSING_TYPE</td>\n",
       "    </tr>\n",
       "    <tr>\n",
       "      <th>15</th>\n",
       "      <td>1.524690</td>\n",
       "      <td>REGION_POPULATION_RELATIVE</td>\n",
       "    </tr>\n",
       "    <tr>\n",
       "      <th>16</th>\n",
       "      <td>1.673705</td>\n",
       "      <td>DAYS_BIRTH</td>\n",
       "    </tr>\n",
       "    <tr>\n",
       "      <th>17</th>\n",
       "      <td>1.249942</td>\n",
       "      <td>DAYS_EMPLOYED</td>\n",
       "    </tr>\n",
       "    <tr>\n",
       "      <th>18</th>\n",
       "      <td>1.159382</td>\n",
       "      <td>DAYS_REGISTRATION</td>\n",
       "    </tr>\n",
       "    <tr>\n",
       "      <th>19</th>\n",
       "      <td>1.065690</td>\n",
       "      <td>DAYS_ID_PUBLISH</td>\n",
       "    </tr>\n",
       "    <tr>\n",
       "      <th>20</th>\n",
       "      <td>1.000550</td>\n",
       "      <td>FLAG_MOBIL</td>\n",
       "    </tr>\n",
       "    <tr>\n",
       "      <th>21</th>\n",
       "      <td>1.000516</td>\n",
       "      <td>FLAG_EMP_PHONE</td>\n",
       "    </tr>\n",
       "    <tr>\n",
       "      <th>22</th>\n",
       "      <td>1.241762</td>\n",
       "      <td>FLAG_WORK_PHONE</td>\n",
       "    </tr>\n",
       "    <tr>\n",
       "      <th>23</th>\n",
       "      <td>1.070103</td>\n",
       "      <td>FLAG_CONT_MOBILE</td>\n",
       "    </tr>\n",
       "    <tr>\n",
       "      <th>24</th>\n",
       "      <td>1.189334</td>\n",
       "      <td>FLAG_PHONE</td>\n",
       "    </tr>\n",
       "    <tr>\n",
       "      <th>25</th>\n",
       "      <td>1.030974</td>\n",
       "      <td>FLAG_EMAIL</td>\n",
       "    </tr>\n",
       "    <tr>\n",
       "      <th>26</th>\n",
       "      <td>1.374387</td>\n",
       "      <td>OCCUPATION_TYPE</td>\n",
       "    </tr>\n",
       "    <tr>\n",
       "      <th>27</th>\n",
       "      <td>6.258970</td>\n",
       "      <td>CNT_FAM_MEMBERS</td>\n",
       "    </tr>\n",
       "    <tr>\n",
       "      <th>28</th>\n",
       "      <td>10.862164</td>\n",
       "      <td>REGION_RATING_CLIENT</td>\n",
       "    </tr>\n",
       "    <tr>\n",
       "      <th>29</th>\n",
       "      <td>10.756239</td>\n",
       "      <td>REGION_RATING_CLIENT_W_CITY</td>\n",
       "    </tr>\n",
       "    <tr>\n",
       "      <th>...</th>\n",
       "      <td>...</td>\n",
       "      <td>...</td>\n",
       "    </tr>\n",
       "    <tr>\n",
       "      <th>65</th>\n",
       "      <td>245.000995</td>\n",
       "      <td>FLOORSMAX_MEDI</td>\n",
       "    </tr>\n",
       "    <tr>\n",
       "      <th>66</th>\n",
       "      <td>90.547247</td>\n",
       "      <td>LANDAREA_MEDI</td>\n",
       "    </tr>\n",
       "    <tr>\n",
       "      <th>67</th>\n",
       "      <td>215.966328</td>\n",
       "      <td>LIVINGAREA_MEDI</td>\n",
       "    </tr>\n",
       "    <tr>\n",
       "      <th>68</th>\n",
       "      <td>84.200111</td>\n",
       "      <td>NONLIVINGAREA_MEDI</td>\n",
       "    </tr>\n",
       "    <tr>\n",
       "      <th>69</th>\n",
       "      <td>3.089902</td>\n",
       "      <td>HOUSETYPE_MODE</td>\n",
       "    </tr>\n",
       "    <tr>\n",
       "      <th>70</th>\n",
       "      <td>7.836061</td>\n",
       "      <td>TOTALAREA_MODE</td>\n",
       "    </tr>\n",
       "    <tr>\n",
       "      <th>71</th>\n",
       "      <td>2.361800</td>\n",
       "      <td>WALLSMATERIAL_MODE</td>\n",
       "    </tr>\n",
       "    <tr>\n",
       "      <th>72</th>\n",
       "      <td>3.235054</td>\n",
       "      <td>EMERGENCYSTATE_MODE</td>\n",
       "    </tr>\n",
       "    <tr>\n",
       "      <th>73</th>\n",
       "      <td>328.458694</td>\n",
       "      <td>OBS_30_CNT_SOCIAL_CIRCLE</td>\n",
       "    </tr>\n",
       "    <tr>\n",
       "      <th>74</th>\n",
       "      <td>4.118236</td>\n",
       "      <td>DEF_30_CNT_SOCIAL_CIRCLE</td>\n",
       "    </tr>\n",
       "    <tr>\n",
       "      <th>75</th>\n",
       "      <td>329.005448</td>\n",
       "      <td>OBS_60_CNT_SOCIAL_CIRCLE</td>\n",
       "    </tr>\n",
       "    <tr>\n",
       "      <th>76</th>\n",
       "      <td>3.919731</td>\n",
       "      <td>DEF_60_CNT_SOCIAL_CIRCLE</td>\n",
       "    </tr>\n",
       "    <tr>\n",
       "      <th>77</th>\n",
       "      <td>1.111069</td>\n",
       "      <td>DAYS_LAST_PHONE_CHANGE</td>\n",
       "    </tr>\n",
       "    <tr>\n",
       "      <th>78</th>\n",
       "      <td>8.944911</td>\n",
       "      <td>FLAG_DOCUMENT_3</td>\n",
       "    </tr>\n",
       "    <tr>\n",
       "      <th>79</th>\n",
       "      <td>1.547011</td>\n",
       "      <td>FLAG_DOCUMENT_5</td>\n",
       "    </tr>\n",
       "    <tr>\n",
       "      <th>80</th>\n",
       "      <td>1.423787</td>\n",
       "      <td>FLAG_DOCUMENT_6</td>\n",
       "    </tr>\n",
       "    <tr>\n",
       "      <th>81</th>\n",
       "      <td>5.164066</td>\n",
       "      <td>FLAG_DOCUMENT_8</td>\n",
       "    </tr>\n",
       "    <tr>\n",
       "      <th>82</th>\n",
       "      <td>1.198403</td>\n",
       "      <td>FLAG_DOCUMENT_9</td>\n",
       "    </tr>\n",
       "    <tr>\n",
       "      <th>83</th>\n",
       "      <td>1.159349</td>\n",
       "      <td>FLAG_DOCUMENT_11</td>\n",
       "    </tr>\n",
       "    <tr>\n",
       "      <th>84</th>\n",
       "      <td>1.027510</td>\n",
       "      <td>FLAG_DOCUMENT_13</td>\n",
       "    </tr>\n",
       "    <tr>\n",
       "      <th>85</th>\n",
       "      <td>1.019805</td>\n",
       "      <td>FLAG_DOCUMENT_14</td>\n",
       "    </tr>\n",
       "    <tr>\n",
       "      <th>86</th>\n",
       "      <td>1.006934</td>\n",
       "      <td>FLAG_DOCUMENT_15</td>\n",
       "    </tr>\n",
       "    <tr>\n",
       "      <th>87</th>\n",
       "      <td>1.034292</td>\n",
       "      <td>FLAG_DOCUMENT_16</td>\n",
       "    </tr>\n",
       "    <tr>\n",
       "      <th>88</th>\n",
       "      <td>1.033167</td>\n",
       "      <td>FLAG_DOCUMENT_18</td>\n",
       "    </tr>\n",
       "    <tr>\n",
       "      <th>89</th>\n",
       "      <td>1.003344</td>\n",
       "      <td>FLAG_DOCUMENT_19</td>\n",
       "    </tr>\n",
       "    <tr>\n",
       "      <th>90</th>\n",
       "      <td>1.020101</td>\n",
       "      <td>FLAG_DOCUMENT_20</td>\n",
       "    </tr>\n",
       "    <tr>\n",
       "      <th>91</th>\n",
       "      <td>1.058938</td>\n",
       "      <td>AMT_REQ_CREDIT_BUREAU_HOUR</td>\n",
       "    </tr>\n",
       "    <tr>\n",
       "      <th>92</th>\n",
       "      <td>1.118997</td>\n",
       "      <td>AMT_REQ_CREDIT_BUREAU_DAY</td>\n",
       "    </tr>\n",
       "    <tr>\n",
       "      <th>93</th>\n",
       "      <td>1.060901</td>\n",
       "      <td>AMT_REQ_CREDIT_BUREAU_WEEK</td>\n",
       "    </tr>\n",
       "    <tr>\n",
       "      <th>94</th>\n",
       "      <td>1.015295</td>\n",
       "      <td>AMT_REQ_CREDIT_BUREAU_MON</td>\n",
       "    </tr>\n",
       "  </tbody>\n",
       "</table>\n",
       "<p>95 rows × 2 columns</p>\n",
       "</div>"
      ],
      "text/plain": [
       "    VIF Factor                     features\n",
       "0     1.072038                       TARGET\n",
       "1     5.003173           NAME_CONTRACT_TYPE\n",
       "2     1.420521                  CODE_GENDER\n",
       "3     1.217869                 FLAG_OWN_CAR\n",
       "4     1.050360              FLAG_OWN_REALTY\n",
       "5     5.769470                 CNT_CHILDREN\n",
       "6     1.645712             AMT_INCOME_TOTAL\n",
       "7    50.514796                   AMT_CREDIT\n",
       "8     4.277303                  AMT_ANNUITY\n",
       "9    50.986187              AMT_GOODS_PRICE\n",
       "10    1.016675              NAME_TYPE_SUITE\n",
       "11    1.117775             NAME_INCOME_TYPE\n",
       "12    1.259851          NAME_EDUCATION_TYPE\n",
       "13    1.338411           NAME_FAMILY_STATUS\n",
       "14    1.098822            NAME_HOUSING_TYPE\n",
       "15    1.524690   REGION_POPULATION_RELATIVE\n",
       "16    1.673705                   DAYS_BIRTH\n",
       "17    1.249942                DAYS_EMPLOYED\n",
       "18    1.159382            DAYS_REGISTRATION\n",
       "19    1.065690              DAYS_ID_PUBLISH\n",
       "20    1.000550                   FLAG_MOBIL\n",
       "21    1.000516               FLAG_EMP_PHONE\n",
       "22    1.241762              FLAG_WORK_PHONE\n",
       "23    1.070103             FLAG_CONT_MOBILE\n",
       "24    1.189334                   FLAG_PHONE\n",
       "25    1.030974                   FLAG_EMAIL\n",
       "26    1.374387              OCCUPATION_TYPE\n",
       "27    6.258970              CNT_FAM_MEMBERS\n",
       "28   10.862164         REGION_RATING_CLIENT\n",
       "29   10.756239  REGION_RATING_CLIENT_W_CITY\n",
       "..         ...                          ...\n",
       "65  245.000995               FLOORSMAX_MEDI\n",
       "66   90.547247                LANDAREA_MEDI\n",
       "67  215.966328              LIVINGAREA_MEDI\n",
       "68   84.200111           NONLIVINGAREA_MEDI\n",
       "69    3.089902               HOUSETYPE_MODE\n",
       "70    7.836061               TOTALAREA_MODE\n",
       "71    2.361800           WALLSMATERIAL_MODE\n",
       "72    3.235054          EMERGENCYSTATE_MODE\n",
       "73  328.458694     OBS_30_CNT_SOCIAL_CIRCLE\n",
       "74    4.118236     DEF_30_CNT_SOCIAL_CIRCLE\n",
       "75  329.005448     OBS_60_CNT_SOCIAL_CIRCLE\n",
       "76    3.919731     DEF_60_CNT_SOCIAL_CIRCLE\n",
       "77    1.111069       DAYS_LAST_PHONE_CHANGE\n",
       "78    8.944911              FLAG_DOCUMENT_3\n",
       "79    1.547011              FLAG_DOCUMENT_5\n",
       "80    1.423787              FLAG_DOCUMENT_6\n",
       "81    5.164066              FLAG_DOCUMENT_8\n",
       "82    1.198403              FLAG_DOCUMENT_9\n",
       "83    1.159349             FLAG_DOCUMENT_11\n",
       "84    1.027510             FLAG_DOCUMENT_13\n",
       "85    1.019805             FLAG_DOCUMENT_14\n",
       "86    1.006934             FLAG_DOCUMENT_15\n",
       "87    1.034292             FLAG_DOCUMENT_16\n",
       "88    1.033167             FLAG_DOCUMENT_18\n",
       "89    1.003344             FLAG_DOCUMENT_19\n",
       "90    1.020101             FLAG_DOCUMENT_20\n",
       "91    1.058938   AMT_REQ_CREDIT_BUREAU_HOUR\n",
       "92    1.118997    AMT_REQ_CREDIT_BUREAU_DAY\n",
       "93    1.060901   AMT_REQ_CREDIT_BUREAU_WEEK\n",
       "94    1.015295    AMT_REQ_CREDIT_BUREAU_MON\n",
       "\n",
       "[95 rows x 2 columns]"
      ]
     },
     "execution_count": 72,
     "metadata": {},
     "output_type": "execute_result"
    }
   ],
   "source": [
    "vif"
   ]
  },
  {
   "cell_type": "code",
   "execution_count": 73,
   "metadata": {},
   "outputs": [],
   "source": [
    "threshold = 10\n",
    "collinearity_col = vif[\"features\"].loc[vif[\"VIF Factor\"]>threshold].tolist()"
   ]
  },
  {
   "cell_type": "code",
   "execution_count": 74,
   "metadata": {
    "scrolled": true
   },
   "outputs": [
    {
     "data": {
      "text/plain": [
       "['AMT_CREDIT',\n",
       " 'AMT_GOODS_PRICE',\n",
       " 'REGION_RATING_CLIENT',\n",
       " 'REGION_RATING_CLIENT_W_CITY',\n",
       " 'APARTMENTS_AVG',\n",
       " 'BASEMENTAREA_AVG',\n",
       " 'YEARS_BEGINEXPLUATATION_AVG',\n",
       " 'ELEVATORS_AVG',\n",
       " 'ENTRANCES_AVG',\n",
       " 'FLOORSMAX_AVG',\n",
       " 'LANDAREA_AVG',\n",
       " 'LIVINGAREA_AVG',\n",
       " 'NONLIVINGAREA_AVG',\n",
       " 'APARTMENTS_MODE',\n",
       " 'BASEMENTAREA_MODE',\n",
       " 'YEARS_BEGINEXPLUATATION_MODE',\n",
       " 'ELEVATORS_MODE',\n",
       " 'ENTRANCES_MODE',\n",
       " 'FLOORSMAX_MODE',\n",
       " 'LANDAREA_MODE',\n",
       " 'LIVINGAREA_MODE',\n",
       " 'NONLIVINGAREA_MODE',\n",
       " 'APARTMENTS_MEDI',\n",
       " 'BASEMENTAREA_MEDI',\n",
       " 'YEARS_BEGINEXPLUATATION_MEDI',\n",
       " 'ELEVATORS_MEDI',\n",
       " 'ENTRANCES_MEDI',\n",
       " 'FLOORSMAX_MEDI',\n",
       " 'LANDAREA_MEDI',\n",
       " 'LIVINGAREA_MEDI',\n",
       " 'NONLIVINGAREA_MEDI',\n",
       " 'OBS_30_CNT_SOCIAL_CIRCLE',\n",
       " 'OBS_60_CNT_SOCIAL_CIRCLE']"
      ]
     },
     "execution_count": 74,
     "metadata": {},
     "output_type": "execute_result"
    }
   ],
   "source": [
    "collinearity_col"
   ]
  },
  {
   "cell_type": "code",
   "execution_count": 77,
   "metadata": {},
   "outputs": [
    {
     "data": {
      "text/plain": [
       "(252137, 62)"
      ]
     },
     "execution_count": 77,
     "metadata": {},
     "output_type": "execute_result"
    }
   ],
   "source": [
    "X_reduced=X.drop(collinearity_col, axis=1)\n",
    "X_reduced.shape"
   ]
  },
  {
   "cell_type": "code",
   "execution_count": 78,
   "metadata": {},
   "outputs": [
    {
     "name": "stderr",
     "output_type": "stream",
     "text": [
      "C:\\Users\\Vijayalaskmi\\Anaconda3\\lib\\site-packages\\sklearn\\utils\\validation.py:761: DataConversionWarning: A column-vector y was passed when a 1d array was expected. Please change the shape of y to (n_samples, ), for example using ravel().\n",
      "  y = column_or_1d(y, warn=True)\n",
      "C:\\Users\\Vijayalaskmi\\Anaconda3\\lib\\site-packages\\sklearn\\ensemble\\forest.py:246: FutureWarning: The default value of n_estimators will change from 10 in version 0.20 to 100 in 0.22.\n",
      "  \"10 in version 0.20 to 100 in 0.22.\", FutureWarning)\n"
     ]
    },
    {
     "ename": "ValueError",
     "evalue": "Unknown label type: 'continuous'",
     "output_type": "error",
     "traceback": [
      "\u001b[1;31m---------------------------------------------------------------------------\u001b[0m",
      "\u001b[1;31mValueError\u001b[0m                                Traceback (most recent call last)",
      "\u001b[1;32m<ipython-input-78-c0261184995e>\u001b[0m in \u001b[0;36m<module>\u001b[1;34m()\u001b[0m\n\u001b[0;32m      8\u001b[0m \u001b[1;31m# create the RFE model and select 100 attributes\u001b[0m\u001b[1;33m\u001b[0m\u001b[1;33m\u001b[0m\u001b[0m\n\u001b[0;32m      9\u001b[0m \u001b[0mrfe\u001b[0m \u001b[1;33m=\u001b[0m \u001b[0mRFE\u001b[0m\u001b[1;33m(\u001b[0m\u001b[0mrf_model\u001b[0m\u001b[1;33m,\u001b[0m \u001b[1;36m53\u001b[0m\u001b[1;33m,\u001b[0m \u001b[0mstep\u001b[0m\u001b[1;33m=\u001b[0m\u001b[1;36m10\u001b[0m\u001b[1;33m)\u001b[0m\u001b[1;33m\u001b[0m\u001b[0m\n\u001b[1;32m---> 10\u001b[1;33m \u001b[0mrfe_fit\u001b[0m \u001b[1;33m=\u001b[0m \u001b[0mrfe\u001b[0m\u001b[1;33m.\u001b[0m\u001b[0mfit\u001b[0m\u001b[1;33m(\u001b[0m\u001b[0mX_reduced\u001b[0m\u001b[1;33m,\u001b[0m \u001b[0my\u001b[0m\u001b[1;33m)\u001b[0m\u001b[1;33m\u001b[0m\u001b[0m\n\u001b[0m\u001b[0;32m     11\u001b[0m \u001b[1;33m\u001b[0m\u001b[0m\n\u001b[0;32m     12\u001b[0m \u001b[1;31m# summarize the selection of the attributes\u001b[0m\u001b[1;33m\u001b[0m\u001b[1;33m\u001b[0m\u001b[0m\n",
      "\u001b[1;32m~\\Anaconda3\\lib\\site-packages\\sklearn\\feature_selection\\rfe.py\u001b[0m in \u001b[0;36mfit\u001b[1;34m(self, X, y)\u001b[0m\n\u001b[0;32m    138\u001b[0m             \u001b[0mThe\u001b[0m \u001b[0mtarget\u001b[0m \u001b[0mvalues\u001b[0m\u001b[1;33m.\u001b[0m\u001b[1;33m\u001b[0m\u001b[0m\n\u001b[0;32m    139\u001b[0m         \"\"\"\n\u001b[1;32m--> 140\u001b[1;33m         \u001b[1;32mreturn\u001b[0m \u001b[0mself\u001b[0m\u001b[1;33m.\u001b[0m\u001b[0m_fit\u001b[0m\u001b[1;33m(\u001b[0m\u001b[0mX\u001b[0m\u001b[1;33m,\u001b[0m \u001b[0my\u001b[0m\u001b[1;33m)\u001b[0m\u001b[1;33m\u001b[0m\u001b[0m\n\u001b[0m\u001b[0;32m    141\u001b[0m \u001b[1;33m\u001b[0m\u001b[0m\n\u001b[0;32m    142\u001b[0m     \u001b[1;32mdef\u001b[0m \u001b[0m_fit\u001b[0m\u001b[1;33m(\u001b[0m\u001b[0mself\u001b[0m\u001b[1;33m,\u001b[0m \u001b[0mX\u001b[0m\u001b[1;33m,\u001b[0m \u001b[0my\u001b[0m\u001b[1;33m,\u001b[0m \u001b[0mstep_score\u001b[0m\u001b[1;33m=\u001b[0m\u001b[1;32mNone\u001b[0m\u001b[1;33m)\u001b[0m\u001b[1;33m:\u001b[0m\u001b[1;33m\u001b[0m\u001b[0m\n",
      "\u001b[1;32m~\\Anaconda3\\lib\\site-packages\\sklearn\\feature_selection\\rfe.py\u001b[0m in \u001b[0;36m_fit\u001b[1;34m(self, X, y, step_score)\u001b[0m\n\u001b[0;32m    177\u001b[0m                 \u001b[0mprint\u001b[0m\u001b[1;33m(\u001b[0m\u001b[1;34m\"Fitting estimator with %d features.\"\u001b[0m \u001b[1;33m%\u001b[0m \u001b[0mnp\u001b[0m\u001b[1;33m.\u001b[0m\u001b[0msum\u001b[0m\u001b[1;33m(\u001b[0m\u001b[0msupport_\u001b[0m\u001b[1;33m)\u001b[0m\u001b[1;33m)\u001b[0m\u001b[1;33m\u001b[0m\u001b[0m\n\u001b[0;32m    178\u001b[0m \u001b[1;33m\u001b[0m\u001b[0m\n\u001b[1;32m--> 179\u001b[1;33m             \u001b[0mestimator\u001b[0m\u001b[1;33m.\u001b[0m\u001b[0mfit\u001b[0m\u001b[1;33m(\u001b[0m\u001b[0mX\u001b[0m\u001b[1;33m[\u001b[0m\u001b[1;33m:\u001b[0m\u001b[1;33m,\u001b[0m \u001b[0mfeatures\u001b[0m\u001b[1;33m]\u001b[0m\u001b[1;33m,\u001b[0m \u001b[0my\u001b[0m\u001b[1;33m)\u001b[0m\u001b[1;33m\u001b[0m\u001b[0m\n\u001b[0m\u001b[0;32m    180\u001b[0m \u001b[1;33m\u001b[0m\u001b[0m\n\u001b[0;32m    181\u001b[0m             \u001b[1;31m# Get coefs\u001b[0m\u001b[1;33m\u001b[0m\u001b[1;33m\u001b[0m\u001b[0m\n",
      "\u001b[1;32m~\\Anaconda3\\lib\\site-packages\\sklearn\\ensemble\\forest.py\u001b[0m in \u001b[0;36mfit\u001b[1;34m(self, X, y, sample_weight)\u001b[0m\n\u001b[0;32m    274\u001b[0m         \u001b[0mself\u001b[0m\u001b[1;33m.\u001b[0m\u001b[0mn_outputs_\u001b[0m \u001b[1;33m=\u001b[0m \u001b[0my\u001b[0m\u001b[1;33m.\u001b[0m\u001b[0mshape\u001b[0m\u001b[1;33m[\u001b[0m\u001b[1;36m1\u001b[0m\u001b[1;33m]\u001b[0m\u001b[1;33m\u001b[0m\u001b[0m\n\u001b[0;32m    275\u001b[0m \u001b[1;33m\u001b[0m\u001b[0m\n\u001b[1;32m--> 276\u001b[1;33m         \u001b[0my\u001b[0m\u001b[1;33m,\u001b[0m \u001b[0mexpanded_class_weight\u001b[0m \u001b[1;33m=\u001b[0m \u001b[0mself\u001b[0m\u001b[1;33m.\u001b[0m\u001b[0m_validate_y_class_weight\u001b[0m\u001b[1;33m(\u001b[0m\u001b[0my\u001b[0m\u001b[1;33m)\u001b[0m\u001b[1;33m\u001b[0m\u001b[0m\n\u001b[0m\u001b[0;32m    277\u001b[0m \u001b[1;33m\u001b[0m\u001b[0m\n\u001b[0;32m    278\u001b[0m         \u001b[1;32mif\u001b[0m \u001b[0mgetattr\u001b[0m\u001b[1;33m(\u001b[0m\u001b[0my\u001b[0m\u001b[1;33m,\u001b[0m \u001b[1;34m\"dtype\"\u001b[0m\u001b[1;33m,\u001b[0m \u001b[1;32mNone\u001b[0m\u001b[1;33m)\u001b[0m \u001b[1;33m!=\u001b[0m \u001b[0mDOUBLE\u001b[0m \u001b[1;32mor\u001b[0m \u001b[1;32mnot\u001b[0m \u001b[0my\u001b[0m\u001b[1;33m.\u001b[0m\u001b[0mflags\u001b[0m\u001b[1;33m.\u001b[0m\u001b[0mcontiguous\u001b[0m\u001b[1;33m:\u001b[0m\u001b[1;33m\u001b[0m\u001b[0m\n",
      "\u001b[1;32m~\\Anaconda3\\lib\\site-packages\\sklearn\\ensemble\\forest.py\u001b[0m in \u001b[0;36m_validate_y_class_weight\u001b[1;34m(self, y)\u001b[0m\n\u001b[0;32m    474\u001b[0m \u001b[1;33m\u001b[0m\u001b[0m\n\u001b[0;32m    475\u001b[0m     \u001b[1;32mdef\u001b[0m \u001b[0m_validate_y_class_weight\u001b[0m\u001b[1;33m(\u001b[0m\u001b[0mself\u001b[0m\u001b[1;33m,\u001b[0m \u001b[0my\u001b[0m\u001b[1;33m)\u001b[0m\u001b[1;33m:\u001b[0m\u001b[1;33m\u001b[0m\u001b[0m\n\u001b[1;32m--> 476\u001b[1;33m         \u001b[0mcheck_classification_targets\u001b[0m\u001b[1;33m(\u001b[0m\u001b[0my\u001b[0m\u001b[1;33m)\u001b[0m\u001b[1;33m\u001b[0m\u001b[0m\n\u001b[0m\u001b[0;32m    477\u001b[0m \u001b[1;33m\u001b[0m\u001b[0m\n\u001b[0;32m    478\u001b[0m         \u001b[0my\u001b[0m \u001b[1;33m=\u001b[0m \u001b[0mnp\u001b[0m\u001b[1;33m.\u001b[0m\u001b[0mcopy\u001b[0m\u001b[1;33m(\u001b[0m\u001b[0my\u001b[0m\u001b[1;33m)\u001b[0m\u001b[1;33m\u001b[0m\u001b[0m\n",
      "\u001b[1;32m~\\Anaconda3\\lib\\site-packages\\sklearn\\utils\\multiclass.py\u001b[0m in \u001b[0;36mcheck_classification_targets\u001b[1;34m(y)\u001b[0m\n\u001b[0;32m    169\u001b[0m     if y_type not in ['binary', 'multiclass', 'multiclass-multioutput',\n\u001b[0;32m    170\u001b[0m                       'multilabel-indicator', 'multilabel-sequences']:\n\u001b[1;32m--> 171\u001b[1;33m         \u001b[1;32mraise\u001b[0m \u001b[0mValueError\u001b[0m\u001b[1;33m(\u001b[0m\u001b[1;34m\"Unknown label type: %r\"\u001b[0m \u001b[1;33m%\u001b[0m \u001b[0my_type\u001b[0m\u001b[1;33m)\u001b[0m\u001b[1;33m\u001b[0m\u001b[0m\n\u001b[0m\u001b[0;32m    172\u001b[0m \u001b[1;33m\u001b[0m\u001b[0m\n\u001b[0;32m    173\u001b[0m \u001b[1;33m\u001b[0m\u001b[0m\n",
      "\u001b[1;31mValueError\u001b[0m: Unknown label type: 'continuous'"
     ]
    }
   ],
   "source": [
    "\n",
    "# from sklearn.feature_selection import RFE\n",
    "# from sklearn.ensemble import RandomForestClassifier\n",
    "\n",
    "\n",
    "# rf_model = RandomForestClassifier()\n",
    "\n",
    "# # create the RFE model and select 100 attributes\n",
    "# rfe = RFE(rf_model, 53, step=10)\n",
    "# rfe_fit = rfe.fit(X_reduced, y)\n",
    "\n",
    "# # summarize the selection of the attributes\n",
    "# print(\"Num Features: \", rfe_fit.n_features_)\n",
    "# print(\"Selected Features:\", rfe_fit.support_)\n",
    "# print(\"Feature Ranking: \", rfe_fit.ranking_)\n",
    "\n",
    "# # evaluate the model on testing set\n",
    "# pred_y = rfe_model.predict(test_x)\n",
    "# predictions = [round(value) for value in pred_y]\n"
   ]
  },
  {
   "cell_type": "code",
   "execution_count": 79,
   "metadata": {},
   "outputs": [
    {
     "ename": "NameError",
     "evalue": "name 'rfe_fit' is not defined",
     "output_type": "error",
     "traceback": [
      "\u001b[1;31m---------------------------------------------------------------------------\u001b[0m",
      "\u001b[1;31mNameError\u001b[0m                                 Traceback (most recent call last)",
      "\u001b[1;32m<ipython-input-79-a077bd7544e1>\u001b[0m in \u001b[0;36m<module>\u001b[1;34m()\u001b[0m\n\u001b[1;32m----> 1\u001b[1;33m \u001b[0mselected_featureset_rf\u001b[0m \u001b[1;33m=\u001b[0m \u001b[0mX_reduced\u001b[0m\u001b[1;33m.\u001b[0m\u001b[0mcolumns\u001b[0m\u001b[1;33m[\u001b[0m\u001b[0mrfe_fit\u001b[0m\u001b[1;33m.\u001b[0m\u001b[0msupport_\u001b[0m\u001b[1;33m]\u001b[0m\u001b[1;33m\u001b[0m\u001b[0m\n\u001b[0m",
      "\u001b[1;31mNameError\u001b[0m: name 'rfe_fit' is not defined"
     ]
    }
   ],
   "source": [
    "# selected_featureset_rf = X_reduced.columns[rfe_fit.support_]"
   ]
  },
  {
   "cell_type": "code",
   "execution_count": 80,
   "metadata": {},
   "outputs": [
    {
     "ename": "NameError",
     "evalue": "name 'selected_featureset_rf' is not defined",
     "output_type": "error",
     "traceback": [
      "\u001b[1;31m---------------------------------------------------------------------------\u001b[0m",
      "\u001b[1;31mNameError\u001b[0m                                 Traceback (most recent call last)",
      "\u001b[1;32m<ipython-input-80-5bde9057faf0>\u001b[0m in \u001b[0;36m<module>\u001b[1;34m()\u001b[0m\n\u001b[1;32m----> 1\u001b[1;33m \u001b[0mselected_featureset_rf\u001b[0m\u001b[1;33m\u001b[0m\u001b[0m\n\u001b[0m",
      "\u001b[1;31mNameError\u001b[0m: name 'selected_featureset_rf' is not defined"
     ]
    }
   ],
   "source": [
    "# selected_featureset_rf"
   ]
  },
  {
   "cell_type": "code",
   "execution_count": null,
   "metadata": {},
   "outputs": [],
   "source": [
    "# unselected_featureset_rf = X_reduced.columns[~rfe_fit.support_]"
   ]
  },
  {
   "cell_type": "code",
   "execution_count": null,
   "metadata": {
    "scrolled": true
   },
   "outputs": [],
   "source": [
    "# unselected_featureset_rf"
   ]
  },
  {
   "cell_type": "markdown",
   "metadata": {},
   "source": [
    "### RFE and logistic regression\n",
    "\n",
    "This is a parallel feature selection. The main goal of this process is to use logistic regression to select 54 features from the dataset according to the importance of the features (features that offer maximum likelihood). "
   ]
  },
  {
   "cell_type": "code",
   "execution_count": 162,
   "metadata": {},
   "outputs": [
    {
     "name": "stderr",
     "output_type": "stream",
     "text": [
      "C:\\Users\\Vijayalaskmi\\Anaconda3\\lib\\site-packages\\sklearn\\utils\\validation.py:761: DataConversionWarning: A column-vector y was passed when a 1d array was expected. Please change the shape of y to (n_samples, ), for example using ravel().\n",
      "  y = column_or_1d(y, warn=True)\n",
      "C:\\Users\\Vijayalaskmi\\Anaconda3\\lib\\site-packages\\sklearn\\linear_model\\logistic.py:433: FutureWarning: Default solver will be changed to 'lbfgs' in 0.22. Specify a solver to silence this warning.\n",
      "  FutureWarning)\n"
     ]
    },
    {
     "ename": "ValueError",
     "evalue": "Unknown label type: 'continuous'",
     "output_type": "error",
     "traceback": [
      "\u001b[1;31m---------------------------------------------------------------------------\u001b[0m",
      "\u001b[1;31mValueError\u001b[0m                                Traceback (most recent call last)",
      "\u001b[1;32m<ipython-input-162-fecce9e57275>\u001b[0m in \u001b[0;36m<module>\u001b[1;34m()\u001b[0m\n\u001b[0;32m      5\u001b[0m \u001b[0mmodel_lr\u001b[0m \u001b[1;33m=\u001b[0m \u001b[0mLogisticRegression\u001b[0m\u001b[1;33m(\u001b[0m\u001b[1;33m)\u001b[0m\u001b[1;33m\u001b[0m\u001b[0m\n\u001b[0;32m      6\u001b[0m \u001b[0mrfe_lr\u001b[0m \u001b[1;33m=\u001b[0m \u001b[0mRFE\u001b[0m\u001b[1;33m(\u001b[0m\u001b[0mmodel_lr\u001b[0m\u001b[1;33m,\u001b[0m \u001b[1;36m54\u001b[0m\u001b[1;33m,\u001b[0m \u001b[0mstep\u001b[0m\u001b[1;33m=\u001b[0m\u001b[1;36m10\u001b[0m\u001b[1;33m)\u001b[0m\u001b[1;33m\u001b[0m\u001b[0m\n\u001b[1;32m----> 7\u001b[1;33m \u001b[0mfit_lr\u001b[0m \u001b[1;33m=\u001b[0m \u001b[0mrfe_lr\u001b[0m\u001b[1;33m.\u001b[0m\u001b[0mfit\u001b[0m\u001b[1;33m(\u001b[0m\u001b[0mX_reduced\u001b[0m\u001b[1;33m,\u001b[0m \u001b[0my\u001b[0m\u001b[1;33m)\u001b[0m\u001b[1;33m\u001b[0m\u001b[0m\n\u001b[0m\u001b[0;32m      8\u001b[0m \u001b[0mprint\u001b[0m\u001b[1;33m(\u001b[0m\u001b[1;34m\"Num Features: \"\u001b[0m\u001b[1;33m,\u001b[0m \u001b[0mfit_lr\u001b[0m\u001b[1;33m.\u001b[0m\u001b[0mn_features_\u001b[0m\u001b[1;33m)\u001b[0m\u001b[1;33m\u001b[0m\u001b[0m\n\u001b[0;32m      9\u001b[0m \u001b[0mprint\u001b[0m\u001b[1;33m(\u001b[0m\u001b[1;34m\"Selected Features:\"\u001b[0m\u001b[1;33m,\u001b[0m \u001b[0mfit_lr\u001b[0m\u001b[1;33m.\u001b[0m\u001b[0msupport_\u001b[0m\u001b[1;33m)\u001b[0m\u001b[1;33m\u001b[0m\u001b[0m\n",
      "\u001b[1;32m~\\Anaconda3\\lib\\site-packages\\sklearn\\feature_selection\\rfe.py\u001b[0m in \u001b[0;36mfit\u001b[1;34m(self, X, y)\u001b[0m\n\u001b[0;32m    138\u001b[0m             \u001b[0mThe\u001b[0m \u001b[0mtarget\u001b[0m \u001b[0mvalues\u001b[0m\u001b[1;33m.\u001b[0m\u001b[1;33m\u001b[0m\u001b[0m\n\u001b[0;32m    139\u001b[0m         \"\"\"\n\u001b[1;32m--> 140\u001b[1;33m         \u001b[1;32mreturn\u001b[0m \u001b[0mself\u001b[0m\u001b[1;33m.\u001b[0m\u001b[0m_fit\u001b[0m\u001b[1;33m(\u001b[0m\u001b[0mX\u001b[0m\u001b[1;33m,\u001b[0m \u001b[0my\u001b[0m\u001b[1;33m)\u001b[0m\u001b[1;33m\u001b[0m\u001b[0m\n\u001b[0m\u001b[0;32m    141\u001b[0m \u001b[1;33m\u001b[0m\u001b[0m\n\u001b[0;32m    142\u001b[0m     \u001b[1;32mdef\u001b[0m \u001b[0m_fit\u001b[0m\u001b[1;33m(\u001b[0m\u001b[0mself\u001b[0m\u001b[1;33m,\u001b[0m \u001b[0mX\u001b[0m\u001b[1;33m,\u001b[0m \u001b[0my\u001b[0m\u001b[1;33m,\u001b[0m \u001b[0mstep_score\u001b[0m\u001b[1;33m=\u001b[0m\u001b[1;32mNone\u001b[0m\u001b[1;33m)\u001b[0m\u001b[1;33m:\u001b[0m\u001b[1;33m\u001b[0m\u001b[0m\n",
      "\u001b[1;32m~\\Anaconda3\\lib\\site-packages\\sklearn\\feature_selection\\rfe.py\u001b[0m in \u001b[0;36m_fit\u001b[1;34m(self, X, y, step_score)\u001b[0m\n\u001b[0;32m    177\u001b[0m                 \u001b[0mprint\u001b[0m\u001b[1;33m(\u001b[0m\u001b[1;34m\"Fitting estimator with %d features.\"\u001b[0m \u001b[1;33m%\u001b[0m \u001b[0mnp\u001b[0m\u001b[1;33m.\u001b[0m\u001b[0msum\u001b[0m\u001b[1;33m(\u001b[0m\u001b[0msupport_\u001b[0m\u001b[1;33m)\u001b[0m\u001b[1;33m)\u001b[0m\u001b[1;33m\u001b[0m\u001b[0m\n\u001b[0;32m    178\u001b[0m \u001b[1;33m\u001b[0m\u001b[0m\n\u001b[1;32m--> 179\u001b[1;33m             \u001b[0mestimator\u001b[0m\u001b[1;33m.\u001b[0m\u001b[0mfit\u001b[0m\u001b[1;33m(\u001b[0m\u001b[0mX\u001b[0m\u001b[1;33m[\u001b[0m\u001b[1;33m:\u001b[0m\u001b[1;33m,\u001b[0m \u001b[0mfeatures\u001b[0m\u001b[1;33m]\u001b[0m\u001b[1;33m,\u001b[0m \u001b[0my\u001b[0m\u001b[1;33m)\u001b[0m\u001b[1;33m\u001b[0m\u001b[0m\n\u001b[0m\u001b[0;32m    180\u001b[0m \u001b[1;33m\u001b[0m\u001b[0m\n\u001b[0;32m    181\u001b[0m             \u001b[1;31m# Get coefs\u001b[0m\u001b[1;33m\u001b[0m\u001b[1;33m\u001b[0m\u001b[0m\n",
      "\u001b[1;32m~\\Anaconda3\\lib\\site-packages\\sklearn\\linear_model\\logistic.py\u001b[0m in \u001b[0;36mfit\u001b[1;34m(self, X, y, sample_weight)\u001b[0m\n\u001b[0;32m   1287\u001b[0m         X, y = check_X_y(X, y, accept_sparse='csr', dtype=_dtype, order=\"C\",\n\u001b[0;32m   1288\u001b[0m                          accept_large_sparse=solver != 'liblinear')\n\u001b[1;32m-> 1289\u001b[1;33m         \u001b[0mcheck_classification_targets\u001b[0m\u001b[1;33m(\u001b[0m\u001b[0my\u001b[0m\u001b[1;33m)\u001b[0m\u001b[1;33m\u001b[0m\u001b[0m\n\u001b[0m\u001b[0;32m   1290\u001b[0m         \u001b[0mself\u001b[0m\u001b[1;33m.\u001b[0m\u001b[0mclasses_\u001b[0m \u001b[1;33m=\u001b[0m \u001b[0mnp\u001b[0m\u001b[1;33m.\u001b[0m\u001b[0munique\u001b[0m\u001b[1;33m(\u001b[0m\u001b[0my\u001b[0m\u001b[1;33m)\u001b[0m\u001b[1;33m\u001b[0m\u001b[0m\n\u001b[0;32m   1291\u001b[0m         \u001b[0mn_samples\u001b[0m\u001b[1;33m,\u001b[0m \u001b[0mn_features\u001b[0m \u001b[1;33m=\u001b[0m \u001b[0mX\u001b[0m\u001b[1;33m.\u001b[0m\u001b[0mshape\u001b[0m\u001b[1;33m\u001b[0m\u001b[0m\n",
      "\u001b[1;32m~\\Anaconda3\\lib\\site-packages\\sklearn\\utils\\multiclass.py\u001b[0m in \u001b[0;36mcheck_classification_targets\u001b[1;34m(y)\u001b[0m\n\u001b[0;32m    169\u001b[0m     if y_type not in ['binary', 'multiclass', 'multiclass-multioutput',\n\u001b[0;32m    170\u001b[0m                       'multilabel-indicator', 'multilabel-sequences']:\n\u001b[1;32m--> 171\u001b[1;33m         \u001b[1;32mraise\u001b[0m \u001b[0mValueError\u001b[0m\u001b[1;33m(\u001b[0m\u001b[1;34m\"Unknown label type: %r\"\u001b[0m \u001b[1;33m%\u001b[0m \u001b[0my_type\u001b[0m\u001b[1;33m)\u001b[0m\u001b[1;33m\u001b[0m\u001b[0m\n\u001b[0m\u001b[0;32m    172\u001b[0m \u001b[1;33m\u001b[0m\u001b[0m\n\u001b[0;32m    173\u001b[0m \u001b[1;33m\u001b[0m\u001b[0m\n",
      "\u001b[1;31mValueError\u001b[0m: Unknown label type: 'continuous'"
     ]
    }
   ],
   "source": [
    "# from sklearn.feature_selection import RFE\n",
    "# from sklearn.linear_model import LogisticRegression\n",
    "\n",
    "# # feature extraction\n",
    "# model_lr = LogisticRegression()\n",
    "# rfe_lr = RFE(model_lr, 54, step=10)\n",
    "# fit_lr = rfe_lr.fit(X_reduced, y)\n",
    "# print(\"Num Features: \", fit_lr.n_features_)\n",
    "# print(\"Selected Features:\", fit_lr.support_)\n",
    "# print(\"Feature Ranking: \", fit_lr.ranking_)"
   ]
  },
  {
   "cell_type": "code",
   "execution_count": 163,
   "metadata": {},
   "outputs": [
    {
     "ename": "NameError",
     "evalue": "name 'fit_lr' is not defined",
     "output_type": "error",
     "traceback": [
      "\u001b[1;31m---------------------------------------------------------------------------\u001b[0m",
      "\u001b[1;31mNameError\u001b[0m                                 Traceback (most recent call last)",
      "\u001b[1;32m<ipython-input-163-05da2226ccd0>\u001b[0m in \u001b[0;36m<module>\u001b[1;34m()\u001b[0m\n\u001b[1;32m----> 1\u001b[1;33m \u001b[0mselected_featureset_lr\u001b[0m \u001b[1;33m=\u001b[0m \u001b[0mX_reduced\u001b[0m\u001b[1;33m.\u001b[0m\u001b[0mcolumns\u001b[0m\u001b[1;33m[\u001b[0m\u001b[0mfit_lr\u001b[0m\u001b[1;33m.\u001b[0m\u001b[0msupport_\u001b[0m\u001b[1;33m]\u001b[0m\u001b[1;33m\u001b[0m\u001b[0m\n\u001b[0m",
      "\u001b[1;31mNameError\u001b[0m: name 'fit_lr' is not defined"
     ]
    }
   ],
   "source": [
    "# selected_featureset_lr = X_reduced.columns[fit_lr.support_]"
   ]
  },
  {
   "cell_type": "code",
   "execution_count": 164,
   "metadata": {},
   "outputs": [
    {
     "ename": "NameError",
     "evalue": "name 'selected_featureset_lr' is not defined",
     "output_type": "error",
     "traceback": [
      "\u001b[1;31m---------------------------------------------------------------------------\u001b[0m",
      "\u001b[1;31mNameError\u001b[0m                                 Traceback (most recent call last)",
      "\u001b[1;32m<ipython-input-164-82974d72de2a>\u001b[0m in \u001b[0;36m<module>\u001b[1;34m()\u001b[0m\n\u001b[1;32m----> 1\u001b[1;33m \u001b[0mselected_featureset_lr\u001b[0m\u001b[1;33m\u001b[0m\u001b[0m\n\u001b[0m",
      "\u001b[1;31mNameError\u001b[0m: name 'selected_featureset_lr' is not defined"
     ]
    }
   ],
   "source": [
    "# selected_featureset_lr"
   ]
  },
  {
   "cell_type": "code",
   "execution_count": 165,
   "metadata": {},
   "outputs": [
    {
     "ename": "NameError",
     "evalue": "name 'fit_lr' is not defined",
     "output_type": "error",
     "traceback": [
      "\u001b[1;31m---------------------------------------------------------------------------\u001b[0m",
      "\u001b[1;31mNameError\u001b[0m                                 Traceback (most recent call last)",
      "\u001b[1;32m<ipython-input-165-c53d45bcb36b>\u001b[0m in \u001b[0;36m<module>\u001b[1;34m()\u001b[0m\n\u001b[1;32m----> 1\u001b[1;33m \u001b[0munselected_featureset_lr\u001b[0m \u001b[1;33m=\u001b[0m \u001b[0mX_reduced\u001b[0m\u001b[1;33m.\u001b[0m\u001b[0mcolumns\u001b[0m\u001b[1;33m[\u001b[0m\u001b[1;33m~\u001b[0m\u001b[0mfit_lr\u001b[0m\u001b[1;33m.\u001b[0m\u001b[0msupport_\u001b[0m\u001b[1;33m]\u001b[0m\u001b[1;33m\u001b[0m\u001b[0m\n\u001b[0m",
      "\u001b[1;31mNameError\u001b[0m: name 'fit_lr' is not defined"
     ]
    }
   ],
   "source": [
    "# unselected_featureset_lr = X_reduced.columns[~fit_lr.support_]"
   ]
  },
  {
   "cell_type": "code",
   "execution_count": 166,
   "metadata": {},
   "outputs": [
    {
     "ename": "NameError",
     "evalue": "name 'unselected_featureset_lr' is not defined",
     "output_type": "error",
     "traceback": [
      "\u001b[1;31m---------------------------------------------------------------------------\u001b[0m",
      "\u001b[1;31mNameError\u001b[0m                                 Traceback (most recent call last)",
      "\u001b[1;32m<ipython-input-166-6ac269c92472>\u001b[0m in \u001b[0;36m<module>\u001b[1;34m()\u001b[0m\n\u001b[1;32m----> 1\u001b[1;33m \u001b[0munselected_featureset_lr\u001b[0m\u001b[1;33m\u001b[0m\u001b[0m\n\u001b[0m",
      "\u001b[1;31mNameError\u001b[0m: name 'unselected_featureset_lr' is not defined"
     ]
    }
   ],
   "source": [
    "# unselected_featureset_lr"
   ]
  },
  {
   "cell_type": "code",
   "execution_count": 167,
   "metadata": {},
   "outputs": [
    {
     "ename": "NameError",
     "evalue": "name 'selected_featureset_lr' is not defined",
     "output_type": "error",
     "traceback": [
      "\u001b[1;31m---------------------------------------------------------------------------\u001b[0m",
      "\u001b[1;31mNameError\u001b[0m                                 Traceback (most recent call last)",
      "\u001b[1;32m<ipython-input-167-951674ad4d6e>\u001b[0m in \u001b[0;36m<module>\u001b[1;34m()\u001b[0m\n\u001b[0;32m      1\u001b[0m \u001b[1;31m# commom feature sets\u001b[0m\u001b[1;33m\u001b[0m\u001b[1;33m\u001b[0m\u001b[0m\n\u001b[1;32m----> 2\u001b[1;33m \u001b[0mcommon_selected\u001b[0m \u001b[1;33m=\u001b[0m \u001b[1;33m[\u001b[0m\u001b[0mi\u001b[0m \u001b[1;32mfor\u001b[0m \u001b[0mi\u001b[0m \u001b[1;32min\u001b[0m \u001b[0mselected_featureset_lr\u001b[0m \u001b[1;32mif\u001b[0m \u001b[0mi\u001b[0m \u001b[1;32min\u001b[0m \u001b[0mselected_featureset_rf\u001b[0m\u001b[1;33m]\u001b[0m\u001b[1;33m\u001b[0m\u001b[0m\n\u001b[0m\u001b[0;32m      3\u001b[0m \u001b[0mprint\u001b[0m\u001b[1;33m(\u001b[0m\u001b[1;34m'common features selected by both: '\u001b[0m\u001b[1;33m,\u001b[0m \u001b[0mlen\u001b[0m\u001b[1;33m(\u001b[0m\u001b[0mcommon_selected\u001b[0m\u001b[1;33m)\u001b[0m\u001b[1;33m)\u001b[0m\u001b[1;33m\u001b[0m\u001b[0m\n\u001b[0;32m      4\u001b[0m \u001b[0mcommon_selected\u001b[0m\u001b[1;33m\u001b[0m\u001b[0m\n",
      "\u001b[1;31mNameError\u001b[0m: name 'selected_featureset_lr' is not defined"
     ]
    }
   ],
   "source": [
    "# # commom feature sets\n",
    "# common_selected = [i for i in selected_featureset_lr if i in selected_featureset_rf]\n",
    "# print('common features selected by both: ', len(common_selected))\n",
    "# common_selected"
   ]
  },
  {
   "cell_type": "code",
   "execution_count": 168,
   "metadata": {},
   "outputs": [
    {
     "ename": "NameError",
     "evalue": "name 'unselected_featureset_lr' is not defined",
     "output_type": "error",
     "traceback": [
      "\u001b[1;31m---------------------------------------------------------------------------\u001b[0m",
      "\u001b[1;31mNameError\u001b[0m                                 Traceback (most recent call last)",
      "\u001b[1;32m<ipython-input-168-bb37bc4cb5c7>\u001b[0m in \u001b[0;36m<module>\u001b[1;34m()\u001b[0m\n\u001b[1;32m----> 1\u001b[1;33m \u001b[0mcommon_unselected\u001b[0m \u001b[1;33m=\u001b[0m \u001b[1;33m[\u001b[0m\u001b[0mi\u001b[0m \u001b[1;32mfor\u001b[0m \u001b[0mi\u001b[0m \u001b[1;32min\u001b[0m \u001b[0munselected_featureset_lr\u001b[0m \u001b[1;32mif\u001b[0m \u001b[0mi\u001b[0m \u001b[1;32min\u001b[0m \u001b[0munselected_featureset_rf\u001b[0m\u001b[1;33m]\u001b[0m\u001b[1;33m\u001b[0m\u001b[0m\n\u001b[0m\u001b[0;32m      2\u001b[0m \u001b[0mprint\u001b[0m\u001b[1;33m(\u001b[0m\u001b[1;34m'common features unselected by both: '\u001b[0m\u001b[1;33m,\u001b[0m \u001b[0mlen\u001b[0m\u001b[1;33m(\u001b[0m\u001b[0mcommon_unselected\u001b[0m\u001b[1;33m)\u001b[0m\u001b[1;33m)\u001b[0m\u001b[1;33m\u001b[0m\u001b[0m\n\u001b[0;32m      3\u001b[0m \u001b[0mcommon_unselected\u001b[0m\u001b[1;33m\u001b[0m\u001b[0m\n",
      "\u001b[1;31mNameError\u001b[0m: name 'unselected_featureset_lr' is not defined"
     ]
    }
   ],
   "source": [
    "# common_unselected = [i for i in unselected_featureset_lr if i in unselected_featureset_rf]\n",
    "# print('common features unselected by both: ', len(common_unselected))\n",
    "# common_unselected"
   ]
  },
  {
   "cell_type": "markdown",
   "metadata": {},
   "source": [
    "### RFE and SVR selection\n",
    "\n",
    "Above process select favorable features and least favorable features according to the ensemble methods. Below process is to feed the common favorable feature as well as common least favorable features to the third ensemble to finalize a 40 feature set as the input for the baseline model. "
   ]
  },
  {
   "cell_type": "code",
   "execution_count": 81,
   "metadata": {},
   "outputs": [
    {
     "ename": "NameError",
     "evalue": "name 'common_unselected' is not defined",
     "output_type": "error",
     "traceback": [
      "\u001b[1;31m---------------------------------------------------------------------------\u001b[0m",
      "\u001b[1;31mNameError\u001b[0m                                 Traceback (most recent call last)",
      "\u001b[1;32m<ipython-input-81-990d34c4c85d>\u001b[0m in \u001b[0;36m<module>\u001b[1;34m()\u001b[0m\n\u001b[1;32m----> 1\u001b[1;33m \u001b[0mcommon_features\u001b[0m \u001b[1;33m=\u001b[0m \u001b[0mcommon_unselected\u001b[0m\u001b[1;33m+\u001b[0m \u001b[0mcommon_selected\u001b[0m\u001b[1;33m\u001b[0m\u001b[0m\n\u001b[0m",
      "\u001b[1;31mNameError\u001b[0m: name 'common_unselected' is not defined"
     ]
    }
   ],
   "source": [
    "# common_features = common_unselected+ common_selected"
   ]
  },
  {
   "cell_type": "code",
   "execution_count": 82,
   "metadata": {},
   "outputs": [
    {
     "ename": "NameError",
     "evalue": "name 'common_unselected' is not defined",
     "output_type": "error",
     "traceback": [
      "\u001b[1;31m---------------------------------------------------------------------------\u001b[0m",
      "\u001b[1;31mNameError\u001b[0m                                 Traceback (most recent call last)",
      "\u001b[1;32m<ipython-input-82-4b217e140c7b>\u001b[0m in \u001b[0;36m<module>\u001b[1;34m()\u001b[0m\n\u001b[1;32m----> 1\u001b[1;33m \u001b[0mX_commonf\u001b[0m \u001b[1;33m=\u001b[0m \u001b[0mX_reduced\u001b[0m\u001b[1;33m[\u001b[0m\u001b[0mcommon_unselected\u001b[0m\u001b[1;33m+\u001b[0m\u001b[0mcommon_selected\u001b[0m\u001b[1;33m]\u001b[0m\u001b[1;33m\u001b[0m\u001b[0m\n\u001b[0m",
      "\u001b[1;31mNameError\u001b[0m: name 'common_unselected' is not defined"
     ]
    }
   ],
   "source": [
    "# X_commonf = X_reduced[common_unselected+common_selected]"
   ]
  },
  {
   "cell_type": "code",
   "execution_count": 83,
   "metadata": {},
   "outputs": [
    {
     "ename": "NameError",
     "evalue": "name 'X_commonf' is not defined",
     "output_type": "error",
     "traceback": [
      "\u001b[1;31m---------------------------------------------------------------------------\u001b[0m",
      "\u001b[1;31mNameError\u001b[0m                                 Traceback (most recent call last)",
      "\u001b[1;32m<ipython-input-83-9a4a1f02a7ca>\u001b[0m in \u001b[0;36m<module>\u001b[1;34m()\u001b[0m\n\u001b[0;32m      4\u001b[0m \u001b[0mmodel_svr\u001b[0m \u001b[1;33m=\u001b[0m \u001b[0mSVR\u001b[0m\u001b[1;33m(\u001b[0m\u001b[0mkernel\u001b[0m\u001b[1;33m=\u001b[0m\u001b[1;34m\"linear\"\u001b[0m\u001b[1;33m)\u001b[0m\u001b[1;33m\u001b[0m\u001b[0m\n\u001b[0;32m      5\u001b[0m \u001b[0mrfe_svr\u001b[0m \u001b[1;33m=\u001b[0m \u001b[0mRFE\u001b[0m\u001b[1;33m(\u001b[0m\u001b[0mmodel_svr\u001b[0m\u001b[1;33m,\u001b[0m \u001b[1;36m40\u001b[0m\u001b[1;33m,\u001b[0m \u001b[0mstep\u001b[0m\u001b[1;33m=\u001b[0m\u001b[1;36m5\u001b[0m\u001b[1;33m)\u001b[0m\u001b[1;33m\u001b[0m\u001b[0m\n\u001b[1;32m----> 6\u001b[1;33m \u001b[0mfit_svr\u001b[0m \u001b[1;33m=\u001b[0m \u001b[0mrfe_svr\u001b[0m\u001b[1;33m.\u001b[0m\u001b[0mfit\u001b[0m\u001b[1;33m(\u001b[0m\u001b[0mX_commonf\u001b[0m\u001b[1;33m,\u001b[0m \u001b[0my\u001b[0m\u001b[1;33m)\u001b[0m\u001b[1;33m\u001b[0m\u001b[0m\n\u001b[0m\u001b[0;32m      7\u001b[0m \u001b[0mprint\u001b[0m\u001b[1;33m(\u001b[0m\u001b[1;34m\"Num Features: \"\u001b[0m\u001b[1;33m,\u001b[0m \u001b[0mfit_svr\u001b[0m\u001b[1;33m.\u001b[0m\u001b[0mn_features_\u001b[0m\u001b[1;33m)\u001b[0m\u001b[1;33m\u001b[0m\u001b[0m\n\u001b[0;32m      8\u001b[0m \u001b[0mprint\u001b[0m\u001b[1;33m(\u001b[0m\u001b[1;34m\"Selected Features:\"\u001b[0m\u001b[1;33m,\u001b[0m \u001b[0mfit_svr\u001b[0m\u001b[1;33m.\u001b[0m\u001b[0msupport_\u001b[0m\u001b[1;33m)\u001b[0m\u001b[1;33m\u001b[0m\u001b[0m\n",
      "\u001b[1;31mNameError\u001b[0m: name 'X_commonf' is not defined"
     ]
    }
   ],
   "source": [
    "# from sklearn.svm import SVR\n",
    "\n",
    "# # feature extraction\n",
    "# model_svr = SVR(kernel=\"linear\")\n",
    "# rfe_svr = RFE(model_svr, 40, step=5)\n",
    "# fit_svr = rfe_svr.fit(X_commonf, y)\n",
    "# print(\"Num Features: \", fit_svr.n_features_)\n",
    "# print(\"Selected Features:\", fit_svr.support_)\n",
    "# print(\"Feature Ranking: \", fit_svr.ranking_)"
   ]
  },
  {
   "cell_type": "code",
   "execution_count": 84,
   "metadata": {},
   "outputs": [
    {
     "ename": "NameError",
     "evalue": "name 'X_commonf' is not defined",
     "output_type": "error",
     "traceback": [
      "\u001b[1;31m---------------------------------------------------------------------------\u001b[0m",
      "\u001b[1;31mNameError\u001b[0m                                 Traceback (most recent call last)",
      "\u001b[1;32m<ipython-input-84-9875d8844fe3>\u001b[0m in \u001b[0;36m<module>\u001b[1;34m()\u001b[0m\n\u001b[1;32m----> 1\u001b[1;33m \u001b[0mfinal_featureset\u001b[0m \u001b[1;33m=\u001b[0m \u001b[0mX_commonf\u001b[0m\u001b[1;33m.\u001b[0m\u001b[0mcolumns\u001b[0m\u001b[1;33m[\u001b[0m\u001b[0mfit_svr\u001b[0m\u001b[1;33m.\u001b[0m\u001b[0msupport_\u001b[0m\u001b[1;33m]\u001b[0m\u001b[1;33m\u001b[0m\u001b[0m\n\u001b[0m\u001b[0;32m      2\u001b[0m \u001b[0mfinal_featureset\u001b[0m\u001b[1;33m\u001b[0m\u001b[0m\n",
      "\u001b[1;31mNameError\u001b[0m: name 'X_commonf' is not defined"
     ]
    }
   ],
   "source": [
    "# final_featureset = X_commonf.columns[fit_svr.support_]\n",
    "# final_featureset"
   ]
  },
  {
   "cell_type": "code",
   "execution_count": 85,
   "metadata": {},
   "outputs": [
    {
     "ename": "NameError",
     "evalue": "name 'final_featureset' is not defined",
     "output_type": "error",
     "traceback": [
      "\u001b[1;31m---------------------------------------------------------------------------\u001b[0m",
      "\u001b[1;31mNameError\u001b[0m                                 Traceback (most recent call last)",
      "\u001b[1;32m<ipython-input-85-f403b7b415a3>\u001b[0m in \u001b[0;36m<module>\u001b[1;34m()\u001b[0m\n\u001b[1;32m----> 1\u001b[1;33m \u001b[0mcommon_last_pick\u001b[0m \u001b[1;33m=\u001b[0m \u001b[1;33m[\u001b[0m\u001b[0mi\u001b[0m \u001b[1;32mfor\u001b[0m \u001b[0mi\u001b[0m \u001b[1;32min\u001b[0m \u001b[0mfinal_featureset\u001b[0m \u001b[1;32mif\u001b[0m \u001b[0mi\u001b[0m \u001b[1;32min\u001b[0m \u001b[0mcommon_selected\u001b[0m\u001b[1;33m]\u001b[0m\u001b[1;33m\u001b[0m\u001b[0m\n\u001b[0m\u001b[0;32m      2\u001b[0m \u001b[0mprint\u001b[0m\u001b[1;33m(\u001b[0m\u001b[1;34m'common features selected by both svr and rf: '\u001b[0m\u001b[1;33m,\u001b[0m \u001b[0mlen\u001b[0m\u001b[1;33m(\u001b[0m\u001b[0mcommon_last_pick\u001b[0m\u001b[1;33m)\u001b[0m\u001b[1;33m)\u001b[0m\u001b[1;33m\u001b[0m\u001b[0m\n\u001b[0;32m      3\u001b[0m \u001b[0mcommon_last_pick\u001b[0m\u001b[1;33m\u001b[0m\u001b[0m\n",
      "\u001b[1;31mNameError\u001b[0m: name 'final_featureset' is not defined"
     ]
    }
   ],
   "source": [
    "# common_last_pick = [i for i in final_featureset if i in common_selected]\n",
    "# print('common features selected by both svr and rf: ', len(common_last_pick))\n",
    "# common_last_pick\n"
   ]
  },
  {
   "cell_type": "code",
   "execution_count": 86,
   "metadata": {},
   "outputs": [
    {
     "ename": "NameError",
     "evalue": "name 'X_commonf' is not defined",
     "output_type": "error",
     "traceback": [
      "\u001b[1;31m---------------------------------------------------------------------------\u001b[0m",
      "\u001b[1;31mNameError\u001b[0m                                 Traceback (most recent call last)",
      "\u001b[1;32m<ipython-input-86-0958c1105b0a>\u001b[0m in \u001b[0;36m<module>\u001b[1;34m()\u001b[0m\n\u001b[1;32m----> 1\u001b[1;33m \u001b[0mX_final\u001b[0m \u001b[1;33m=\u001b[0m \u001b[0mX_commonf\u001b[0m\u001b[1;33m[\u001b[0m\u001b[0mfinal_featureset\u001b[0m\u001b[1;33m]\u001b[0m\u001b[1;33m\u001b[0m\u001b[0m\n\u001b[0m",
      "\u001b[1;31mNameError\u001b[0m: name 'X_commonf' is not defined"
     ]
    }
   ],
   "source": [
    "# X_final = X_commonf[final_featureset]"
   ]
  },
  {
   "cell_type": "markdown",
   "metadata": {},
   "source": [
    "### Baseline model \n",
    "\n",
    "We used a baseline model of two layers of mlp model from keras for simplicity's sake. 10-fold cross validation is used to evaluate the model. The accuracy of the model is 89%, which is mush higher than the one of the first place of the competition (80%). The result may not be an accurate reflection of the model, as during the process of joining the training set with other tables, the number of rows dropped as not all the applicants have the same amount of information collected. "
   ]
  },
  {
   "cell_type": "code",
   "execution_count": 88,
   "metadata": {},
   "outputs": [],
   "source": [
    "def create_baseline():\n",
    "    # create model\n",
    "    model = Sequential()\n",
    "    model.add(Dense(512, input_dim=40, kernel_initializer='normal', activation='relu'))\n",
    "    model.add(Dense(1, kernel_initializer='normal', activation='sigmoid'))\n",
    "    \n",
    "    model.compile(loss='binary_crossentropy', optimizer='adam', metrics=['accuracy'])\n",
    "    return model"
   ]
  },
  {
   "cell_type": "code",
   "execution_count": 89,
   "metadata": {},
   "outputs": [
    {
     "ename": "NameError",
     "evalue": "name 'X_final' is not defined",
     "output_type": "error",
     "traceback": [
      "\u001b[1;31m---------------------------------------------------------------------------\u001b[0m",
      "\u001b[1;31mNameError\u001b[0m                                 Traceback (most recent call last)",
      "\u001b[1;32m<ipython-input-89-da0e076f7bc5>\u001b[0m in \u001b[0;36m<module>\u001b[1;34m()\u001b[0m\n\u001b[0;32m     12\u001b[0m \u001b[0mpipeline\u001b[0m \u001b[1;33m=\u001b[0m \u001b[0mPipeline\u001b[0m\u001b[1;33m(\u001b[0m\u001b[0mestimators\u001b[0m\u001b[1;33m)\u001b[0m\u001b[1;33m\u001b[0m\u001b[0m\n\u001b[0;32m     13\u001b[0m \u001b[0mkfold\u001b[0m \u001b[1;33m=\u001b[0m \u001b[0mStratifiedKFold\u001b[0m\u001b[1;33m(\u001b[0m\u001b[0mn_splits\u001b[0m\u001b[1;33m=\u001b[0m\u001b[1;36m10\u001b[0m\u001b[1;33m,\u001b[0m \u001b[0mshuffle\u001b[0m\u001b[1;33m=\u001b[0m\u001b[1;32mTrue\u001b[0m\u001b[1;33m)\u001b[0m\u001b[1;33m\u001b[0m\u001b[0m\n\u001b[1;32m---> 14\u001b[1;33m \u001b[0mresults\u001b[0m \u001b[1;33m=\u001b[0m \u001b[0mcross_val_score\u001b[0m\u001b[1;33m(\u001b[0m\u001b[0mpipeline\u001b[0m\u001b[1;33m,\u001b[0m \u001b[0mX_final\u001b[0m\u001b[1;33m,\u001b[0m \u001b[0my\u001b[0m\u001b[1;33m,\u001b[0m \u001b[0mcv\u001b[0m\u001b[1;33m=\u001b[0m\u001b[0mkfold\u001b[0m\u001b[1;33m)\u001b[0m\u001b[1;33m\u001b[0m\u001b[0m\n\u001b[0m\u001b[0;32m     15\u001b[0m \u001b[0mprint\u001b[0m\u001b[1;33m(\u001b[0m\u001b[1;34m\"Results: %.2f%% (%.2f%%)\"\u001b[0m \u001b[1;33m%\u001b[0m \u001b[1;33m(\u001b[0m\u001b[0mresults\u001b[0m\u001b[1;33m.\u001b[0m\u001b[0mmean\u001b[0m\u001b[1;33m(\u001b[0m\u001b[1;33m)\u001b[0m\u001b[1;33m*\u001b[0m\u001b[1;36m100\u001b[0m\u001b[1;33m,\u001b[0m \u001b[0mresults\u001b[0m\u001b[1;33m.\u001b[0m\u001b[0mstd\u001b[0m\u001b[1;33m(\u001b[0m\u001b[1;33m)\u001b[0m\u001b[1;33m*\u001b[0m\u001b[1;36m100\u001b[0m\u001b[1;33m)\u001b[0m\u001b[1;33m)\u001b[0m\u001b[1;33m\u001b[0m\u001b[0m\n",
      "\u001b[1;31mNameError\u001b[0m: name 'X_final' is not defined"
     ]
    }
   ],
   "source": [
    "from sklearn.preprocessing import StandardScaler\n",
    "from keras.models import Sequential\n",
    "from keras.layers import Dense\n",
    "from keras.wrappers.scikit_learn import KerasClassifier\n",
    "from sklearn.model_selection import StratifiedKFold\n",
    "from sklearn.model_selection import cross_val_score\n",
    "from sklearn.pipeline import Pipeline\n",
    "\n",
    "estimators = []\n",
    "estimators.append(('standardize', StandardScaler()))\n",
    "estimators.append(('mlp', KerasClassifier(build_fn=create_baseline, epochs=100, batch_size=50, verbose=0)))\n",
    "pipeline = Pipeline(estimators)\n",
    "kfold = StratifiedKFold(n_splits=10, shuffle=True)\n",
    "results = cross_val_score(pipeline, X_final, y, cv=kfold)\n",
    "print(\"Results: %.2f%% (%.2f%%)\" % (results.mean()*100, results.std()*100))"
   ]
  },
  {
   "cell_type": "markdown",
   "metadata": {},
   "source": [
    "## Data Exploratory Analysis"
   ]
  },
  {
   "cell_type": "markdown",
   "metadata": {},
   "source": [
    "Below is the DEA done at the beginning of the project. It shows the skewness of the distribution of the features. "
   ]
  },
  {
   "cell_type": "code",
   "execution_count": 90,
   "metadata": {},
   "outputs": [],
   "source": [
    "def plot_stats(feature,label_rotation=False,horizontal_layout=True):\n",
    "    temp = train[feature].value_counts()\n",
    "    df1 = pd.DataFrame({feature: temp.index,'Number of contracts': temp.values})\n",
    "\n",
    "    # Calculate the percentage of target=1 per category value\n",
    "    cat_perc = train[[feature, 'TARGET']].groupby([feature],as_index=False).mean()\n",
    "    cat_perc.sort_values(by='TARGET', ascending=False, inplace=True)\n",
    "    \n",
    "    if(horizontal_layout):\n",
    "        fig, (ax1, ax2) = plt.subplots(ncols=2, figsize=(12,6))\n",
    "    else:\n",
    "        fig, (ax1, ax2) = plt.subplots(nrows=2, figsize=(12,14))\n",
    "    sns.set_color_codes(\"pastel\")\n",
    "    s = sns.barplot(ax=ax1, x = feature, y=\"Number of contracts\",data=df1)\n",
    "    if(label_rotation):\n",
    "        s.set_xticklabels(s.get_xticklabels(),rotation=90)\n",
    "    \n",
    "    s = sns.barplot(ax=ax2, x = feature, y='TARGET', order=cat_perc[feature], data=cat_perc)\n",
    "    if(label_rotation):\n",
    "        s.set_xticklabels(s.get_xticklabels(),rotation=90)\n",
    "    plt.ylabel('Percent of target with value 1 [%]', fontsize=10)\n",
    "    plt.tick_params(axis='both', which='major', labelsize=10)\n",
    "\n",
    "    plt.show();"
   ]
  },
  {
   "cell_type": "code",
   "execution_count": 91,
   "metadata": {},
   "outputs": [],
   "source": [
    "def plot_distribution(var):\n",
    "    \n",
    "    i = 0\n",
    "    t1 = train.loc[train['TARGET'] != 0]\n",
    "    t0 = train.loc[train['TARGET'] == 0]\n",
    "\n",
    "    sns.set_style('whitegrid')\n",
    "    plt.figure()\n",
    "    fig, ax = plt.subplots(2,2,figsize=(12,12))\n",
    "\n",
    "    for feature in var:\n",
    "        i += 1\n",
    "        plt.subplot(2,2,i)\n",
    "        sns.kdeplot(t1[feature], bw=0.5,label=\"TARGET = 1\")\n",
    "        sns.kdeplot(t0[feature], bw=0.5,label=\"TARGET = 0\")\n",
    "        plt.ylabel('Density plot', fontsize=12)\n",
    "        plt.xlabel(feature, fontsize=12)\n",
    "        locs, labels = plt.xticks()\n",
    "        plt.tick_params(axis='both', which='major', labelsize=12)\n",
    "    plt.show();"
   ]
  },
  {
   "cell_type": "code",
   "execution_count": 92,
   "metadata": {},
   "outputs": [
    {
     "ename": "NameError",
     "evalue": "name 'sns' is not defined",
     "output_type": "error",
     "traceback": [
      "\u001b[1;31m---------------------------------------------------------------------------\u001b[0m",
      "\u001b[1;31mNameError\u001b[0m                                 Traceback (most recent call last)",
      "\u001b[1;32m<ipython-input-92-f75f580b8975>\u001b[0m in \u001b[0;36m<module>\u001b[1;34m()\u001b[0m\n\u001b[0;32m      5\u001b[0m \u001b[0mplt\u001b[0m\u001b[1;33m.\u001b[0m\u001b[0mfigure\u001b[0m\u001b[1;33m(\u001b[0m\u001b[0mfigsize\u001b[0m \u001b[1;33m=\u001b[0m \u001b[1;33m(\u001b[0m\u001b[1;36m6\u001b[0m\u001b[1;33m,\u001b[0m\u001b[1;36m6\u001b[0m\u001b[1;33m)\u001b[0m\u001b[1;33m)\u001b[0m\u001b[1;33m\u001b[0m\u001b[0m\n\u001b[0;32m      6\u001b[0m \u001b[0mplt\u001b[0m\u001b[1;33m.\u001b[0m\u001b[0mtitle\u001b[0m\u001b[1;33m(\u001b[0m\u001b[1;34m'Application loans repayed - train dataset'\u001b[0m\u001b[1;33m)\u001b[0m\u001b[1;33m\u001b[0m\u001b[0m\n\u001b[1;32m----> 7\u001b[1;33m \u001b[0msns\u001b[0m\u001b[1;33m.\u001b[0m\u001b[0mset_color_codes\u001b[0m\u001b[1;33m(\u001b[0m\u001b[1;34m\"pastel\"\u001b[0m\u001b[1;33m)\u001b[0m\u001b[1;33m\u001b[0m\u001b[0m\n\u001b[0m\u001b[0;32m      8\u001b[0m \u001b[0msns\u001b[0m\u001b[1;33m.\u001b[0m\u001b[0mbarplot\u001b[0m\u001b[1;33m(\u001b[0m\u001b[0mx\u001b[0m \u001b[1;33m=\u001b[0m \u001b[1;34m'labels'\u001b[0m\u001b[1;33m,\u001b[0m \u001b[0my\u001b[0m\u001b[1;33m=\u001b[0m\u001b[1;34m\"values\"\u001b[0m\u001b[1;33m,\u001b[0m \u001b[0mdata\u001b[0m\u001b[1;33m=\u001b[0m\u001b[0mdf\u001b[0m\u001b[1;33m)\u001b[0m\u001b[1;33m\u001b[0m\u001b[0m\n\u001b[0;32m      9\u001b[0m \u001b[0mlocs\u001b[0m\u001b[1;33m,\u001b[0m \u001b[0mlabels\u001b[0m \u001b[1;33m=\u001b[0m \u001b[0mplt\u001b[0m\u001b[1;33m.\u001b[0m\u001b[0mxticks\u001b[0m\u001b[1;33m(\u001b[0m\u001b[1;33m)\u001b[0m\u001b[1;33m\u001b[0m\u001b[0m\n",
      "\u001b[1;31mNameError\u001b[0m: name 'sns' is not defined"
     ]
    },
    {
     "data": {
      "image/png": "[encoded data removed]",
      "text/plain": [
       "<Figure size 432x432 with 1 Axes>"
      ]
     },
     "metadata": {},
     "output_type": "display_data"
    }
   ],
   "source": [
    "temp = train[\"TARGET\"].value_counts()\n",
    "df = pd.DataFrame({'labels': temp.index,\n",
    "                   'values': temp.values\n",
    "                  })\n",
    "plt.figure(figsize = (6,6))\n",
    "plt.title('Application loans repayed - train dataset')\n",
    "sns.set_color_codes(\"pastel\")\n",
    "sns.barplot(x = 'labels', y=\"values\", data=df)\n",
    "locs, labels = plt.xticks()\n",
    "plt.show()"
   ]
  },
  {
   "cell_type": "code",
   "execution_count": 93,
   "metadata": {},
   "outputs": [
    {
     "ename": "NameError",
     "evalue": "name 'sns' is not defined",
     "output_type": "error",
     "traceback": [
      "\u001b[1;31m---------------------------------------------------------------------------\u001b[0m",
      "\u001b[1;31mNameError\u001b[0m                                 Traceback (most recent call last)",
      "\u001b[1;32m<ipython-input-93-3f08eb0830d3>\u001b[0m in \u001b[0;36m<module>\u001b[1;34m()\u001b[0m\n\u001b[1;32m----> 1\u001b[1;33m \u001b[0mplot_stats\u001b[0m\u001b[1;33m(\u001b[0m\u001b[1;34m'NAME_CONTRACT_TYPE'\u001b[0m\u001b[1;33m)\u001b[0m\u001b[1;33m\u001b[0m\u001b[0m\n\u001b[0m",
      "\u001b[1;32m<ipython-input-90-e15199365cca>\u001b[0m in \u001b[0;36mplot_stats\u001b[1;34m(feature, label_rotation, horizontal_layout)\u001b[0m\n\u001b[0;32m     11\u001b[0m     \u001b[1;32melse\u001b[0m\u001b[1;33m:\u001b[0m\u001b[1;33m\u001b[0m\u001b[0m\n\u001b[0;32m     12\u001b[0m         \u001b[0mfig\u001b[0m\u001b[1;33m,\u001b[0m \u001b[1;33m(\u001b[0m\u001b[0max1\u001b[0m\u001b[1;33m,\u001b[0m \u001b[0max2\u001b[0m\u001b[1;33m)\u001b[0m \u001b[1;33m=\u001b[0m \u001b[0mplt\u001b[0m\u001b[1;33m.\u001b[0m\u001b[0msubplots\u001b[0m\u001b[1;33m(\u001b[0m\u001b[0mnrows\u001b[0m\u001b[1;33m=\u001b[0m\u001b[1;36m2\u001b[0m\u001b[1;33m,\u001b[0m \u001b[0mfigsize\u001b[0m\u001b[1;33m=\u001b[0m\u001b[1;33m(\u001b[0m\u001b[1;36m12\u001b[0m\u001b[1;33m,\u001b[0m\u001b[1;36m14\u001b[0m\u001b[1;33m)\u001b[0m\u001b[1;33m)\u001b[0m\u001b[1;33m\u001b[0m\u001b[0m\n\u001b[1;32m---> 13\u001b[1;33m     \u001b[0msns\u001b[0m\u001b[1;33m.\u001b[0m\u001b[0mset_color_codes\u001b[0m\u001b[1;33m(\u001b[0m\u001b[1;34m\"pastel\"\u001b[0m\u001b[1;33m)\u001b[0m\u001b[1;33m\u001b[0m\u001b[0m\n\u001b[0m\u001b[0;32m     14\u001b[0m     \u001b[0ms\u001b[0m \u001b[1;33m=\u001b[0m \u001b[0msns\u001b[0m\u001b[1;33m.\u001b[0m\u001b[0mbarplot\u001b[0m\u001b[1;33m(\u001b[0m\u001b[0max\u001b[0m\u001b[1;33m=\u001b[0m\u001b[0max1\u001b[0m\u001b[1;33m,\u001b[0m \u001b[0mx\u001b[0m \u001b[1;33m=\u001b[0m \u001b[0mfeature\u001b[0m\u001b[1;33m,\u001b[0m \u001b[0my\u001b[0m\u001b[1;33m=\u001b[0m\u001b[1;34m\"Number of contracts\"\u001b[0m\u001b[1;33m,\u001b[0m\u001b[0mdata\u001b[0m\u001b[1;33m=\u001b[0m\u001b[0mdf1\u001b[0m\u001b[1;33m)\u001b[0m\u001b[1;33m\u001b[0m\u001b[0m\n\u001b[0;32m     15\u001b[0m     \u001b[1;32mif\u001b[0m\u001b[1;33m(\u001b[0m\u001b[0mlabel_rotation\u001b[0m\u001b[1;33m)\u001b[0m\u001b[1;33m:\u001b[0m\u001b[1;33m\u001b[0m\u001b[0m\n",
      "\u001b[1;31mNameError\u001b[0m: name 'sns' is not defined"
     ]
    },
    {
     "data": {
      "image/png": "[encoded data removed]",
      "text/plain": [
       "<Figure size 864x432 with 2 Axes>"
      ]
     },
     "metadata": {},
     "output_type": "display_data"
    }
   ],
   "source": [
    "plot_stats('NAME_CONTRACT_TYPE')"
   ]
  },
  {
   "cell_type": "code",
   "execution_count": 94,
   "metadata": {},
   "outputs": [
    {
     "ename": "NameError",
     "evalue": "name 'sns' is not defined",
     "output_type": "error",
     "traceback": [
      "\u001b[1;31m---------------------------------------------------------------------------\u001b[0m",
      "\u001b[1;31mNameError\u001b[0m                                 Traceback (most recent call last)",
      "\u001b[1;32m<ipython-input-94-a596f61ce308>\u001b[0m in \u001b[0;36m<module>\u001b[1;34m()\u001b[0m\n\u001b[1;32m----> 1\u001b[1;33m \u001b[0mplot_stats\u001b[0m\u001b[1;33m(\u001b[0m\u001b[1;34m'CODE_GENDER'\u001b[0m\u001b[1;33m)\u001b[0m\u001b[1;33m\u001b[0m\u001b[0m\n\u001b[0m",
      "\u001b[1;32m<ipython-input-90-e15199365cca>\u001b[0m in \u001b[0;36mplot_stats\u001b[1;34m(feature, label_rotation, horizontal_layout)\u001b[0m\n\u001b[0;32m     11\u001b[0m     \u001b[1;32melse\u001b[0m\u001b[1;33m:\u001b[0m\u001b[1;33m\u001b[0m\u001b[0m\n\u001b[0;32m     12\u001b[0m         \u001b[0mfig\u001b[0m\u001b[1;33m,\u001b[0m \u001b[1;33m(\u001b[0m\u001b[0max1\u001b[0m\u001b[1;33m,\u001b[0m \u001b[0max2\u001b[0m\u001b[1;33m)\u001b[0m \u001b[1;33m=\u001b[0m \u001b[0mplt\u001b[0m\u001b[1;33m.\u001b[0m\u001b[0msubplots\u001b[0m\u001b[1;33m(\u001b[0m\u001b[0mnrows\u001b[0m\u001b[1;33m=\u001b[0m\u001b[1;36m2\u001b[0m\u001b[1;33m,\u001b[0m \u001b[0mfigsize\u001b[0m\u001b[1;33m=\u001b[0m\u001b[1;33m(\u001b[0m\u001b[1;36m12\u001b[0m\u001b[1;33m,\u001b[0m\u001b[1;36m14\u001b[0m\u001b[1;33m)\u001b[0m\u001b[1;33m)\u001b[0m\u001b[1;33m\u001b[0m\u001b[0m\n\u001b[1;32m---> 13\u001b[1;33m     \u001b[0msns\u001b[0m\u001b[1;33m.\u001b[0m\u001b[0mset_color_codes\u001b[0m\u001b[1;33m(\u001b[0m\u001b[1;34m\"pastel\"\u001b[0m\u001b[1;33m)\u001b[0m\u001b[1;33m\u001b[0m\u001b[0m\n\u001b[0m\u001b[0;32m     14\u001b[0m     \u001b[0ms\u001b[0m \u001b[1;33m=\u001b[0m \u001b[0msns\u001b[0m\u001b[1;33m.\u001b[0m\u001b[0mbarplot\u001b[0m\u001b[1;33m(\u001b[0m\u001b[0max\u001b[0m\u001b[1;33m=\u001b[0m\u001b[0max1\u001b[0m\u001b[1;33m,\u001b[0m \u001b[0mx\u001b[0m \u001b[1;33m=\u001b[0m \u001b[0mfeature\u001b[0m\u001b[1;33m,\u001b[0m \u001b[0my\u001b[0m\u001b[1;33m=\u001b[0m\u001b[1;34m\"Number of contracts\"\u001b[0m\u001b[1;33m,\u001b[0m\u001b[0mdata\u001b[0m\u001b[1;33m=\u001b[0m\u001b[0mdf1\u001b[0m\u001b[1;33m)\u001b[0m\u001b[1;33m\u001b[0m\u001b[0m\n\u001b[0;32m     15\u001b[0m     \u001b[1;32mif\u001b[0m\u001b[1;33m(\u001b[0m\u001b[0mlabel_rotation\u001b[0m\u001b[1;33m)\u001b[0m\u001b[1;33m:\u001b[0m\u001b[1;33m\u001b[0m\u001b[0m\n",
      "\u001b[1;31mNameError\u001b[0m: name 'sns' is not defined"
     ]
    },
    {
     "data": {
      "image/png": "[encoded data removed]",
      "text/plain": [
       "<Figure size 864x432 with 2 Axes>"
      ]
     },
     "metadata": {},
     "output_type": "display_data"
    }
   ],
   "source": [
    "plot_stats('CODE_GENDER')"
   ]
  },
  {
   "cell_type": "code",
   "execution_count": 95,
   "metadata": {},
   "outputs": [
    {
     "ename": "NameError",
     "evalue": "name 'sns' is not defined",
     "output_type": "error",
     "traceback": [
      "\u001b[1;31m---------------------------------------------------------------------------\u001b[0m",
      "\u001b[1;31mNameError\u001b[0m                                 Traceback (most recent call last)",
      "\u001b[1;32m<ipython-input-95-9ccedbf4bfb3>\u001b[0m in \u001b[0;36m<module>\u001b[1;34m()\u001b[0m\n\u001b[1;32m----> 1\u001b[1;33m \u001b[0mplot_stats\u001b[0m\u001b[1;33m(\u001b[0m\u001b[1;34m'FLAG_OWN_CAR'\u001b[0m\u001b[1;33m)\u001b[0m\u001b[1;33m\u001b[0m\u001b[0m\n\u001b[0m\u001b[0;32m      2\u001b[0m \u001b[0mplot_stats\u001b[0m\u001b[1;33m(\u001b[0m\u001b[1;34m'FLAG_OWN_REALTY'\u001b[0m\u001b[1;33m)\u001b[0m\u001b[1;33m\u001b[0m\u001b[0m\n",
      "\u001b[1;32m<ipython-input-90-e15199365cca>\u001b[0m in \u001b[0;36mplot_stats\u001b[1;34m(feature, label_rotation, horizontal_layout)\u001b[0m\n\u001b[0;32m     11\u001b[0m     \u001b[1;32melse\u001b[0m\u001b[1;33m:\u001b[0m\u001b[1;33m\u001b[0m\u001b[0m\n\u001b[0;32m     12\u001b[0m         \u001b[0mfig\u001b[0m\u001b[1;33m,\u001b[0m \u001b[1;33m(\u001b[0m\u001b[0max1\u001b[0m\u001b[1;33m,\u001b[0m \u001b[0max2\u001b[0m\u001b[1;33m)\u001b[0m \u001b[1;33m=\u001b[0m \u001b[0mplt\u001b[0m\u001b[1;33m.\u001b[0m\u001b[0msubplots\u001b[0m\u001b[1;33m(\u001b[0m\u001b[0mnrows\u001b[0m\u001b[1;33m=\u001b[0m\u001b[1;36m2\u001b[0m\u001b[1;33m,\u001b[0m \u001b[0mfigsize\u001b[0m\u001b[1;33m=\u001b[0m\u001b[1;33m(\u001b[0m\u001b[1;36m12\u001b[0m\u001b[1;33m,\u001b[0m\u001b[1;36m14\u001b[0m\u001b[1;33m)\u001b[0m\u001b[1;33m)\u001b[0m\u001b[1;33m\u001b[0m\u001b[0m\n\u001b[1;32m---> 13\u001b[1;33m     \u001b[0msns\u001b[0m\u001b[1;33m.\u001b[0m\u001b[0mset_color_codes\u001b[0m\u001b[1;33m(\u001b[0m\u001b[1;34m\"pastel\"\u001b[0m\u001b[1;33m)\u001b[0m\u001b[1;33m\u001b[0m\u001b[0m\n\u001b[0m\u001b[0;32m     14\u001b[0m     \u001b[0ms\u001b[0m \u001b[1;33m=\u001b[0m \u001b[0msns\u001b[0m\u001b[1;33m.\u001b[0m\u001b[0mbarplot\u001b[0m\u001b[1;33m(\u001b[0m\u001b[0max\u001b[0m\u001b[1;33m=\u001b[0m\u001b[0max1\u001b[0m\u001b[1;33m,\u001b[0m \u001b[0mx\u001b[0m \u001b[1;33m=\u001b[0m \u001b[0mfeature\u001b[0m\u001b[1;33m,\u001b[0m \u001b[0my\u001b[0m\u001b[1;33m=\u001b[0m\u001b[1;34m\"Number of contracts\"\u001b[0m\u001b[1;33m,\u001b[0m\u001b[0mdata\u001b[0m\u001b[1;33m=\u001b[0m\u001b[0mdf1\u001b[0m\u001b[1;33m)\u001b[0m\u001b[1;33m\u001b[0m\u001b[0m\n\u001b[0;32m     15\u001b[0m     \u001b[1;32mif\u001b[0m\u001b[1;33m(\u001b[0m\u001b[0mlabel_rotation\u001b[0m\u001b[1;33m)\u001b[0m\u001b[1;33m:\u001b[0m\u001b[1;33m\u001b[0m\u001b[0m\n",
      "\u001b[1;31mNameError\u001b[0m: name 'sns' is not defined"
     ]
    },
    {
     "data": {
      "image/png": "[encoded data removed]",
      "text/plain": [
       "<Figure size 864x432 with 2 Axes>"
      ]
     },
     "metadata": {},
     "output_type": "display_data"
    }
   ],
   "source": [
    "plot_stats('FLAG_OWN_CAR')\n",
    "plot_stats('FLAG_OWN_REALTY')"
   ]
  },
  {
   "cell_type": "code",
   "execution_count": 96,
   "metadata": {},
   "outputs": [
    {
     "ename": "NameError",
     "evalue": "name 'sns' is not defined",
     "output_type": "error",
     "traceback": [
      "\u001b[1;31m---------------------------------------------------------------------------\u001b[0m",
      "\u001b[1;31mNameError\u001b[0m                                 Traceback (most recent call last)",
      "\u001b[1;32m<ipython-input-96-489e00e4daa5>\u001b[0m in \u001b[0;36m<module>\u001b[1;34m()\u001b[0m\n\u001b[1;32m----> 1\u001b[1;33m \u001b[0mplot_stats\u001b[0m\u001b[1;33m(\u001b[0m\u001b[1;34m'NAME_FAMILY_STATUS'\u001b[0m\u001b[1;33m,\u001b[0m\u001b[1;32mTrue\u001b[0m\u001b[1;33m,\u001b[0m \u001b[1;32mTrue\u001b[0m\u001b[1;33m)\u001b[0m\u001b[1;33m\u001b[0m\u001b[0m\n\u001b[0m",
      "\u001b[1;32m<ipython-input-90-e15199365cca>\u001b[0m in \u001b[0;36mplot_stats\u001b[1;34m(feature, label_rotation, horizontal_layout)\u001b[0m\n\u001b[0;32m     11\u001b[0m     \u001b[1;32melse\u001b[0m\u001b[1;33m:\u001b[0m\u001b[1;33m\u001b[0m\u001b[0m\n\u001b[0;32m     12\u001b[0m         \u001b[0mfig\u001b[0m\u001b[1;33m,\u001b[0m \u001b[1;33m(\u001b[0m\u001b[0max1\u001b[0m\u001b[1;33m,\u001b[0m \u001b[0max2\u001b[0m\u001b[1;33m)\u001b[0m \u001b[1;33m=\u001b[0m \u001b[0mplt\u001b[0m\u001b[1;33m.\u001b[0m\u001b[0msubplots\u001b[0m\u001b[1;33m(\u001b[0m\u001b[0mnrows\u001b[0m\u001b[1;33m=\u001b[0m\u001b[1;36m2\u001b[0m\u001b[1;33m,\u001b[0m \u001b[0mfigsize\u001b[0m\u001b[1;33m=\u001b[0m\u001b[1;33m(\u001b[0m\u001b[1;36m12\u001b[0m\u001b[1;33m,\u001b[0m\u001b[1;36m14\u001b[0m\u001b[1;33m)\u001b[0m\u001b[1;33m)\u001b[0m\u001b[1;33m\u001b[0m\u001b[0m\n\u001b[1;32m---> 13\u001b[1;33m     \u001b[0msns\u001b[0m\u001b[1;33m.\u001b[0m\u001b[0mset_color_codes\u001b[0m\u001b[1;33m(\u001b[0m\u001b[1;34m\"pastel\"\u001b[0m\u001b[1;33m)\u001b[0m\u001b[1;33m\u001b[0m\u001b[0m\n\u001b[0m\u001b[0;32m     14\u001b[0m     \u001b[0ms\u001b[0m \u001b[1;33m=\u001b[0m \u001b[0msns\u001b[0m\u001b[1;33m.\u001b[0m\u001b[0mbarplot\u001b[0m\u001b[1;33m(\u001b[0m\u001b[0max\u001b[0m\u001b[1;33m=\u001b[0m\u001b[0max1\u001b[0m\u001b[1;33m,\u001b[0m \u001b[0mx\u001b[0m \u001b[1;33m=\u001b[0m \u001b[0mfeature\u001b[0m\u001b[1;33m,\u001b[0m \u001b[0my\u001b[0m\u001b[1;33m=\u001b[0m\u001b[1;34m\"Number of contracts\"\u001b[0m\u001b[1;33m,\u001b[0m\u001b[0mdata\u001b[0m\u001b[1;33m=\u001b[0m\u001b[0mdf1\u001b[0m\u001b[1;33m)\u001b[0m\u001b[1;33m\u001b[0m\u001b[0m\n\u001b[0;32m     15\u001b[0m     \u001b[1;32mif\u001b[0m\u001b[1;33m(\u001b[0m\u001b[0mlabel_rotation\u001b[0m\u001b[1;33m)\u001b[0m\u001b[1;33m:\u001b[0m\u001b[1;33m\u001b[0m\u001b[0m\n",
      "\u001b[1;31mNameError\u001b[0m: name 'sns' is not defined"
     ]
    },
    {
     "data": {
      "image/png": "[encoded data removed]",
      "text/plain": [
       "<Figure size 864x432 with 2 Axes>"
      ]
     },
     "metadata": {},
     "output_type": "display_data"
    }
   ],
   "source": [
    "plot_stats('NAME_FAMILY_STATUS',True, True)\n"
   ]
  },
  {
   "cell_type": "code",
   "execution_count": 97,
   "metadata": {},
   "outputs": [
    {
     "ename": "NameError",
     "evalue": "name 'sns' is not defined",
     "output_type": "error",
     "traceback": [
      "\u001b[1;31m---------------------------------------------------------------------------\u001b[0m",
      "\u001b[1;31mNameError\u001b[0m                                 Traceback (most recent call last)",
      "\u001b[1;32m<ipython-input-97-cf3c138c908d>\u001b[0m in \u001b[0;36m<module>\u001b[1;34m()\u001b[0m\n\u001b[1;32m----> 1\u001b[1;33m \u001b[0mplot_stats\u001b[0m\u001b[1;33m(\u001b[0m\u001b[1;34m'CNT_CHILDREN'\u001b[0m\u001b[1;33m)\u001b[0m\u001b[1;33m\u001b[0m\u001b[0m\n\u001b[0m",
      "\u001b[1;32m<ipython-input-90-e15199365cca>\u001b[0m in \u001b[0;36mplot_stats\u001b[1;34m(feature, label_rotation, horizontal_layout)\u001b[0m\n\u001b[0;32m     11\u001b[0m     \u001b[1;32melse\u001b[0m\u001b[1;33m:\u001b[0m\u001b[1;33m\u001b[0m\u001b[0m\n\u001b[0;32m     12\u001b[0m         \u001b[0mfig\u001b[0m\u001b[1;33m,\u001b[0m \u001b[1;33m(\u001b[0m\u001b[0max1\u001b[0m\u001b[1;33m,\u001b[0m \u001b[0max2\u001b[0m\u001b[1;33m)\u001b[0m \u001b[1;33m=\u001b[0m \u001b[0mplt\u001b[0m\u001b[1;33m.\u001b[0m\u001b[0msubplots\u001b[0m\u001b[1;33m(\u001b[0m\u001b[0mnrows\u001b[0m\u001b[1;33m=\u001b[0m\u001b[1;36m2\u001b[0m\u001b[1;33m,\u001b[0m \u001b[0mfigsize\u001b[0m\u001b[1;33m=\u001b[0m\u001b[1;33m(\u001b[0m\u001b[1;36m12\u001b[0m\u001b[1;33m,\u001b[0m\u001b[1;36m14\u001b[0m\u001b[1;33m)\u001b[0m\u001b[1;33m)\u001b[0m\u001b[1;33m\u001b[0m\u001b[0m\n\u001b[1;32m---> 13\u001b[1;33m     \u001b[0msns\u001b[0m\u001b[1;33m.\u001b[0m\u001b[0mset_color_codes\u001b[0m\u001b[1;33m(\u001b[0m\u001b[1;34m\"pastel\"\u001b[0m\u001b[1;33m)\u001b[0m\u001b[1;33m\u001b[0m\u001b[0m\n\u001b[0m\u001b[0;32m     14\u001b[0m     \u001b[0ms\u001b[0m \u001b[1;33m=\u001b[0m \u001b[0msns\u001b[0m\u001b[1;33m.\u001b[0m\u001b[0mbarplot\u001b[0m\u001b[1;33m(\u001b[0m\u001b[0max\u001b[0m\u001b[1;33m=\u001b[0m\u001b[0max1\u001b[0m\u001b[1;33m,\u001b[0m \u001b[0mx\u001b[0m \u001b[1;33m=\u001b[0m \u001b[0mfeature\u001b[0m\u001b[1;33m,\u001b[0m \u001b[0my\u001b[0m\u001b[1;33m=\u001b[0m\u001b[1;34m\"Number of contracts\"\u001b[0m\u001b[1;33m,\u001b[0m\u001b[0mdata\u001b[0m\u001b[1;33m=\u001b[0m\u001b[0mdf1\u001b[0m\u001b[1;33m)\u001b[0m\u001b[1;33m\u001b[0m\u001b[0m\n\u001b[0;32m     15\u001b[0m     \u001b[1;32mif\u001b[0m\u001b[1;33m(\u001b[0m\u001b[0mlabel_rotation\u001b[0m\u001b[1;33m)\u001b[0m\u001b[1;33m:\u001b[0m\u001b[1;33m\u001b[0m\u001b[0m\n",
      "\u001b[1;31mNameError\u001b[0m: name 'sns' is not defined"
     ]
    },
    {
     "data": {
      "image/png": "[encoded data removed]",
      "text/plain": [
       "<Figure size 864x432 with 2 Axes>"
      ]
     },
     "metadata": {},
     "output_type": "display_data"
    }
   ],
   "source": [
    "plot_stats('CNT_CHILDREN')"
   ]
  },
  {
   "cell_type": "code",
   "execution_count": 98,
   "metadata": {},
   "outputs": [
    {
     "ename": "NameError",
     "evalue": "name 'sns' is not defined",
     "output_type": "error",
     "traceback": [
      "\u001b[1;31m---------------------------------------------------------------------------\u001b[0m",
      "\u001b[1;31mNameError\u001b[0m                                 Traceback (most recent call last)",
      "\u001b[1;32m<ipython-input-98-c137f1e0ab59>\u001b[0m in \u001b[0;36m<module>\u001b[1;34m()\u001b[0m\n\u001b[1;32m----> 1\u001b[1;33m \u001b[0mplot_stats\u001b[0m\u001b[1;33m(\u001b[0m\u001b[1;34m'OCCUPATION_TYPE'\u001b[0m\u001b[1;33m,\u001b[0m\u001b[1;32mTrue\u001b[0m\u001b[1;33m,\u001b[0m \u001b[1;32mFalse\u001b[0m\u001b[1;33m)\u001b[0m\u001b[1;33m\u001b[0m\u001b[0m\n\u001b[0m",
      "\u001b[1;32m<ipython-input-90-e15199365cca>\u001b[0m in \u001b[0;36mplot_stats\u001b[1;34m(feature, label_rotation, horizontal_layout)\u001b[0m\n\u001b[0;32m     11\u001b[0m     \u001b[1;32melse\u001b[0m\u001b[1;33m:\u001b[0m\u001b[1;33m\u001b[0m\u001b[0m\n\u001b[0;32m     12\u001b[0m         \u001b[0mfig\u001b[0m\u001b[1;33m,\u001b[0m \u001b[1;33m(\u001b[0m\u001b[0max1\u001b[0m\u001b[1;33m,\u001b[0m \u001b[0max2\u001b[0m\u001b[1;33m)\u001b[0m \u001b[1;33m=\u001b[0m \u001b[0mplt\u001b[0m\u001b[1;33m.\u001b[0m\u001b[0msubplots\u001b[0m\u001b[1;33m(\u001b[0m\u001b[0mnrows\u001b[0m\u001b[1;33m=\u001b[0m\u001b[1;36m2\u001b[0m\u001b[1;33m,\u001b[0m \u001b[0mfigsize\u001b[0m\u001b[1;33m=\u001b[0m\u001b[1;33m(\u001b[0m\u001b[1;36m12\u001b[0m\u001b[1;33m,\u001b[0m\u001b[1;36m14\u001b[0m\u001b[1;33m)\u001b[0m\u001b[1;33m)\u001b[0m\u001b[1;33m\u001b[0m\u001b[0m\n\u001b[1;32m---> 13\u001b[1;33m     \u001b[0msns\u001b[0m\u001b[1;33m.\u001b[0m\u001b[0mset_color_codes\u001b[0m\u001b[1;33m(\u001b[0m\u001b[1;34m\"pastel\"\u001b[0m\u001b[1;33m)\u001b[0m\u001b[1;33m\u001b[0m\u001b[0m\n\u001b[0m\u001b[0;32m     14\u001b[0m     \u001b[0ms\u001b[0m \u001b[1;33m=\u001b[0m \u001b[0msns\u001b[0m\u001b[1;33m.\u001b[0m\u001b[0mbarplot\u001b[0m\u001b[1;33m(\u001b[0m\u001b[0max\u001b[0m\u001b[1;33m=\u001b[0m\u001b[0max1\u001b[0m\u001b[1;33m,\u001b[0m \u001b[0mx\u001b[0m \u001b[1;33m=\u001b[0m \u001b[0mfeature\u001b[0m\u001b[1;33m,\u001b[0m \u001b[0my\u001b[0m\u001b[1;33m=\u001b[0m\u001b[1;34m\"Number of contracts\"\u001b[0m\u001b[1;33m,\u001b[0m\u001b[0mdata\u001b[0m\u001b[1;33m=\u001b[0m\u001b[0mdf1\u001b[0m\u001b[1;33m)\u001b[0m\u001b[1;33m\u001b[0m\u001b[0m\n\u001b[0;32m     15\u001b[0m     \u001b[1;32mif\u001b[0m\u001b[1;33m(\u001b[0m\u001b[0mlabel_rotation\u001b[0m\u001b[1;33m)\u001b[0m\u001b[1;33m:\u001b[0m\u001b[1;33m\u001b[0m\u001b[0m\n",
      "\u001b[1;31mNameError\u001b[0m: name 'sns' is not defined"
     ]
    },
    {
     "data": {
      "image/png": "[encoded data removed]",
      "text/plain": [
       "<Figure size 864x1008 with 2 Axes>"
      ]
     },
     "metadata": {},
     "output_type": "display_data"
    }
   ],
   "source": [
    "plot_stats('OCCUPATION_TYPE',True, False)\n"
   ]
  },
  {
   "cell_type": "code",
   "execution_count": 99,
   "metadata": {},
   "outputs": [
    {
     "ename": "NameError",
     "evalue": "name 'sns' is not defined",
     "output_type": "error",
     "traceback": [
      "\u001b[1;31m---------------------------------------------------------------------------\u001b[0m",
      "\u001b[1;31mNameError\u001b[0m                                 Traceback (most recent call last)",
      "\u001b[1;32m<ipython-input-99-fadb9015d019>\u001b[0m in \u001b[0;36m<module>\u001b[1;34m()\u001b[0m\n\u001b[1;32m----> 1\u001b[1;33m \u001b[0mplot_stats\u001b[0m\u001b[1;33m(\u001b[0m\u001b[1;34m'NAME_EDUCATION_TYPE'\u001b[0m\u001b[1;33m,\u001b[0m\u001b[1;32mTrue\u001b[0m\u001b[1;33m)\u001b[0m\u001b[1;33m\u001b[0m\u001b[0m\n\u001b[0m",
      "\u001b[1;32m<ipython-input-90-e15199365cca>\u001b[0m in \u001b[0;36mplot_stats\u001b[1;34m(feature, label_rotation, horizontal_layout)\u001b[0m\n\u001b[0;32m     11\u001b[0m     \u001b[1;32melse\u001b[0m\u001b[1;33m:\u001b[0m\u001b[1;33m\u001b[0m\u001b[0m\n\u001b[0;32m     12\u001b[0m         \u001b[0mfig\u001b[0m\u001b[1;33m,\u001b[0m \u001b[1;33m(\u001b[0m\u001b[0max1\u001b[0m\u001b[1;33m,\u001b[0m \u001b[0max2\u001b[0m\u001b[1;33m)\u001b[0m \u001b[1;33m=\u001b[0m \u001b[0mplt\u001b[0m\u001b[1;33m.\u001b[0m\u001b[0msubplots\u001b[0m\u001b[1;33m(\u001b[0m\u001b[0mnrows\u001b[0m\u001b[1;33m=\u001b[0m\u001b[1;36m2\u001b[0m\u001b[1;33m,\u001b[0m \u001b[0mfigsize\u001b[0m\u001b[1;33m=\u001b[0m\u001b[1;33m(\u001b[0m\u001b[1;36m12\u001b[0m\u001b[1;33m,\u001b[0m\u001b[1;36m14\u001b[0m\u001b[1;33m)\u001b[0m\u001b[1;33m)\u001b[0m\u001b[1;33m\u001b[0m\u001b[0m\n\u001b[1;32m---> 13\u001b[1;33m     \u001b[0msns\u001b[0m\u001b[1;33m.\u001b[0m\u001b[0mset_color_codes\u001b[0m\u001b[1;33m(\u001b[0m\u001b[1;34m\"pastel\"\u001b[0m\u001b[1;33m)\u001b[0m\u001b[1;33m\u001b[0m\u001b[0m\n\u001b[0m\u001b[0;32m     14\u001b[0m     \u001b[0ms\u001b[0m \u001b[1;33m=\u001b[0m \u001b[0msns\u001b[0m\u001b[1;33m.\u001b[0m\u001b[0mbarplot\u001b[0m\u001b[1;33m(\u001b[0m\u001b[0max\u001b[0m\u001b[1;33m=\u001b[0m\u001b[0max1\u001b[0m\u001b[1;33m,\u001b[0m \u001b[0mx\u001b[0m \u001b[1;33m=\u001b[0m \u001b[0mfeature\u001b[0m\u001b[1;33m,\u001b[0m \u001b[0my\u001b[0m\u001b[1;33m=\u001b[0m\u001b[1;34m\"Number of contracts\"\u001b[0m\u001b[1;33m,\u001b[0m\u001b[0mdata\u001b[0m\u001b[1;33m=\u001b[0m\u001b[0mdf1\u001b[0m\u001b[1;33m)\u001b[0m\u001b[1;33m\u001b[0m\u001b[0m\n\u001b[0;32m     15\u001b[0m     \u001b[1;32mif\u001b[0m\u001b[1;33m(\u001b[0m\u001b[0mlabel_rotation\u001b[0m\u001b[1;33m)\u001b[0m\u001b[1;33m:\u001b[0m\u001b[1;33m\u001b[0m\u001b[0m\n",
      "\u001b[1;31mNameError\u001b[0m: name 'sns' is not defined"
     ]
    },
    {
     "data": {
      "image/png": "[encoded data removed]",
      "text/plain": [
       "<Figure size 864x432 with 2 Axes>"
      ]
     },
     "metadata": {},
     "output_type": "display_data"
    }
   ],
   "source": [
    "plot_stats('NAME_EDUCATION_TYPE',True)\n"
   ]
  },
  {
   "cell_type": "code",
   "execution_count": null,
   "metadata": {},
   "outputs": [],
   "source": [
    "plot_stats('NAME_HOUSING_TYPE',True)\n"
   ]
  },
  {
   "cell_type": "code",
   "execution_count": 100,
   "metadata": {},
   "outputs": [
    {
     "ename": "NameError",
     "evalue": "name 'sns' is not defined",
     "output_type": "error",
     "traceback": [
      "\u001b[1;31m---------------------------------------------------------------------------\u001b[0m",
      "\u001b[1;31mNameError\u001b[0m                                 Traceback (most recent call last)",
      "\u001b[1;32m<ipython-input-100-cf3c138c908d>\u001b[0m in \u001b[0;36m<module>\u001b[1;34m()\u001b[0m\n\u001b[1;32m----> 1\u001b[1;33m \u001b[0mplot_stats\u001b[0m\u001b[1;33m(\u001b[0m\u001b[1;34m'CNT_CHILDREN'\u001b[0m\u001b[1;33m)\u001b[0m\u001b[1;33m\u001b[0m\u001b[0m\n\u001b[0m",
      "\u001b[1;32m<ipython-input-90-e15199365cca>\u001b[0m in \u001b[0;36mplot_stats\u001b[1;34m(feature, label_rotation, horizontal_layout)\u001b[0m\n\u001b[0;32m     11\u001b[0m     \u001b[1;32melse\u001b[0m\u001b[1;33m:\u001b[0m\u001b[1;33m\u001b[0m\u001b[0m\n\u001b[0;32m     12\u001b[0m         \u001b[0mfig\u001b[0m\u001b[1;33m,\u001b[0m \u001b[1;33m(\u001b[0m\u001b[0max1\u001b[0m\u001b[1;33m,\u001b[0m \u001b[0max2\u001b[0m\u001b[1;33m)\u001b[0m \u001b[1;33m=\u001b[0m \u001b[0mplt\u001b[0m\u001b[1;33m.\u001b[0m\u001b[0msubplots\u001b[0m\u001b[1;33m(\u001b[0m\u001b[0mnrows\u001b[0m\u001b[1;33m=\u001b[0m\u001b[1;36m2\u001b[0m\u001b[1;33m,\u001b[0m \u001b[0mfigsize\u001b[0m\u001b[1;33m=\u001b[0m\u001b[1;33m(\u001b[0m\u001b[1;36m12\u001b[0m\u001b[1;33m,\u001b[0m\u001b[1;36m14\u001b[0m\u001b[1;33m)\u001b[0m\u001b[1;33m)\u001b[0m\u001b[1;33m\u001b[0m\u001b[0m\n\u001b[1;32m---> 13\u001b[1;33m     \u001b[0msns\u001b[0m\u001b[1;33m.\u001b[0m\u001b[0mset_color_codes\u001b[0m\u001b[1;33m(\u001b[0m\u001b[1;34m\"pastel\"\u001b[0m\u001b[1;33m)\u001b[0m\u001b[1;33m\u001b[0m\u001b[0m\n\u001b[0m\u001b[0;32m     14\u001b[0m     \u001b[0ms\u001b[0m \u001b[1;33m=\u001b[0m \u001b[0msns\u001b[0m\u001b[1;33m.\u001b[0m\u001b[0mbarplot\u001b[0m\u001b[1;33m(\u001b[0m\u001b[0max\u001b[0m\u001b[1;33m=\u001b[0m\u001b[0max1\u001b[0m\u001b[1;33m,\u001b[0m \u001b[0mx\u001b[0m \u001b[1;33m=\u001b[0m \u001b[0mfeature\u001b[0m\u001b[1;33m,\u001b[0m \u001b[0my\u001b[0m\u001b[1;33m=\u001b[0m\u001b[1;34m\"Number of contracts\"\u001b[0m\u001b[1;33m,\u001b[0m\u001b[0mdata\u001b[0m\u001b[1;33m=\u001b[0m\u001b[0mdf1\u001b[0m\u001b[1;33m)\u001b[0m\u001b[1;33m\u001b[0m\u001b[0m\n\u001b[0;32m     15\u001b[0m     \u001b[1;32mif\u001b[0m\u001b[1;33m(\u001b[0m\u001b[0mlabel_rotation\u001b[0m\u001b[1;33m)\u001b[0m\u001b[1;33m:\u001b[0m\u001b[1;33m\u001b[0m\u001b[0m\n",
      "\u001b[1;31mNameError\u001b[0m: name 'sns' is not defined"
     ]
    },
    {
     "data": {
      "image/png": "[encoded data removed]",
      "text/plain": [
       "<Figure size 864x432 with 2 Axes>"
      ]
     },
     "metadata": {},
     "output_type": "display_data"
    }
   ],
   "source": [
    "plot_stats('CNT_CHILDREN')"
   ]
  },
  {
   "cell_type": "code",
   "execution_count": 101,
   "metadata": {},
   "outputs": [
    {
     "ename": "NameError",
     "evalue": "name 'train_target0' is not defined",
     "output_type": "error",
     "traceback": [
      "\u001b[1;31m---------------------------------------------------------------------------\u001b[0m",
      "\u001b[1;31mNameError\u001b[0m                                 Traceback (most recent call last)",
      "\u001b[1;32m<ipython-input-101-7806a17c6389>\u001b[0m in \u001b[0;36m<module>\u001b[1;34m()\u001b[0m\n\u001b[1;32m----> 1\u001b[1;33m \u001b[0mtrain_target0\u001b[0m\u001b[1;33m[\u001b[0m\u001b[1;34m'ANNU_TO_INCOME'\u001b[0m\u001b[1;33m]\u001b[0m\u001b[1;33m.\u001b[0m\u001b[0mmode\u001b[0m\u001b[1;33m(\u001b[0m\u001b[1;33m)\u001b[0m\u001b[1;33m\u001b[0m\u001b[0m\n\u001b[0m",
      "\u001b[1;31mNameError\u001b[0m: name 'train_target0' is not defined"
     ]
    }
   ],
   "source": [
    "train_target0['ANNU_TO_INCOME'].mode()"
   ]
  },
  {
   "cell_type": "code",
   "execution_count": 102,
   "metadata": {},
   "outputs": [
    {
     "ename": "NameError",
     "evalue": "name 'train_target1' is not defined",
     "output_type": "error",
     "traceback": [
      "\u001b[1;31m---------------------------------------------------------------------------\u001b[0m",
      "\u001b[1;31mNameError\u001b[0m                                 Traceback (most recent call last)",
      "\u001b[1;32m<ipython-input-102-63f8d35bff3e>\u001b[0m in \u001b[0;36m<module>\u001b[1;34m()\u001b[0m\n\u001b[1;32m----> 1\u001b[1;33m \u001b[0mtrain_target1\u001b[0m\u001b[1;33m[\u001b[0m\u001b[1;34m'ANNU_TO_INCOME'\u001b[0m\u001b[1;33m]\u001b[0m\u001b[1;33m.\u001b[0m\u001b[0mmedian\u001b[0m\u001b[1;33m(\u001b[0m\u001b[1;33m)\u001b[0m\u001b[1;33m\u001b[0m\u001b[0m\n\u001b[0m",
      "\u001b[1;31mNameError\u001b[0m: name 'train_target1' is not defined"
     ]
    }
   ],
   "source": [
    "train_target1['ANNU_TO_INCOME'].median()"
   ]
  },
  {
   "cell_type": "code",
   "execution_count": 103,
   "metadata": {},
   "outputs": [
    {
     "ename": "NameError",
     "evalue": "name 'train_target0' is not defined",
     "output_type": "error",
     "traceback": [
      "\u001b[1;31m---------------------------------------------------------------------------\u001b[0m",
      "\u001b[1;31mNameError\u001b[0m                                 Traceback (most recent call last)",
      "\u001b[1;32m<ipython-input-103-f68da3e3c2ca>\u001b[0m in \u001b[0;36m<module>\u001b[1;34m()\u001b[0m\n\u001b[1;32m----> 1\u001b[1;33m \u001b[0mtrain_target0\u001b[0m\u001b[1;33m[\u001b[0m\u001b[1;34m'ANNU_TO_INCOME'\u001b[0m\u001b[1;33m]\u001b[0m\u001b[1;33m.\u001b[0m\u001b[0mmedian\u001b[0m\u001b[1;33m(\u001b[0m\u001b[1;33m)\u001b[0m\u001b[1;33m\u001b[0m\u001b[0m\n\u001b[0m",
      "\u001b[1;31mNameError\u001b[0m: name 'train_target0' is not defined"
     ]
    }
   ],
   "source": [
    "train_target0['ANNU_TO_INCOME'].median()"
   ]
  },
  {
   "cell_type": "code",
   "execution_count": 104,
   "metadata": {},
   "outputs": [
    {
     "ename": "NameError",
     "evalue": "name 'train_target1' is not defined",
     "output_type": "error",
     "traceback": [
      "\u001b[1;31m---------------------------------------------------------------------------\u001b[0m",
      "\u001b[1;31mNameError\u001b[0m                                 Traceback (most recent call last)",
      "\u001b[1;32m<ipython-input-104-9f3c291313d8>\u001b[0m in \u001b[0;36m<module>\u001b[1;34m()\u001b[0m\n\u001b[1;32m----> 1\u001b[1;33m \u001b[0mtrain_target1\u001b[0m\u001b[1;33m[\u001b[0m\u001b[1;34m'CREDIT_TO_INCOME'\u001b[0m\u001b[1;33m]\u001b[0m \u001b[1;33m=\u001b[0m \u001b[0mtrain_target1\u001b[0m\u001b[1;33m[\u001b[0m\u001b[1;34m'AMT_CREDIT'\u001b[0m\u001b[1;33m]\u001b[0m\u001b[1;33m*\u001b[0m\u001b[1;36m100\u001b[0m\u001b[1;33m/\u001b[0m\u001b[0mtrain_target1\u001b[0m\u001b[1;33m[\u001b[0m\u001b[1;34m'AMT_INCOME_TOTAL'\u001b[0m\u001b[1;33m]\u001b[0m\u001b[1;33m\u001b[0m\u001b[0m\n\u001b[0m\u001b[0;32m      2\u001b[0m \u001b[0mprint\u001b[0m\u001b[1;33m(\u001b[0m\u001b[1;34m'Mean: '\u001b[0m\u001b[1;33m,\u001b[0m \u001b[0mtrain_target1\u001b[0m\u001b[1;33m[\u001b[0m\u001b[1;34m'CREDIT_TO_INCOME'\u001b[0m\u001b[1;33m]\u001b[0m\u001b[1;33m.\u001b[0m\u001b[0mmean\u001b[0m\u001b[1;33m(\u001b[0m\u001b[1;33m)\u001b[0m\u001b[1;33m)\u001b[0m\u001b[1;33m\u001b[0m\u001b[0m\n\u001b[0;32m      3\u001b[0m \u001b[0mprint\u001b[0m\u001b[1;33m(\u001b[0m\u001b[1;34m'Mode: '\u001b[0m\u001b[1;33m,\u001b[0m \u001b[0mtrain_target1\u001b[0m\u001b[1;33m[\u001b[0m\u001b[1;34m'CREDIT_TO_INCOME'\u001b[0m\u001b[1;33m]\u001b[0m\u001b[1;33m.\u001b[0m\u001b[0mmode\u001b[0m\u001b[1;33m(\u001b[0m\u001b[1;33m)\u001b[0m\u001b[1;33m)\u001b[0m\u001b[1;33m\u001b[0m\u001b[0m\n\u001b[0;32m      4\u001b[0m \u001b[0mprint\u001b[0m\u001b[1;33m(\u001b[0m\u001b[1;34m'Median: '\u001b[0m\u001b[1;33m,\u001b[0m \u001b[0mtrain_target1\u001b[0m\u001b[1;33m[\u001b[0m\u001b[1;34m'CREDIT_TO_INCOME'\u001b[0m\u001b[1;33m]\u001b[0m\u001b[1;33m.\u001b[0m\u001b[0mmedian\u001b[0m\u001b[1;33m(\u001b[0m\u001b[1;33m)\u001b[0m\u001b[1;33m)\u001b[0m\u001b[1;33m\u001b[0m\u001b[0m\n",
      "\u001b[1;31mNameError\u001b[0m: name 'train_target1' is not defined"
     ]
    }
   ],
   "source": [
    "train_target1['CREDIT_TO_INCOME'] = train_target1['AMT_CREDIT']*100/train_target1['AMT_INCOME_TOTAL']\n",
    "print('Mean: ', train_target1['CREDIT_TO_INCOME'].mean())\n",
    "print('Mode: ', train_target1['CREDIT_TO_INCOME'].mode())\n",
    "print('Median: ', train_target1['CREDIT_TO_INCOME'].median())"
   ]
  },
  {
   "cell_type": "code",
   "execution_count": 105,
   "metadata": {
    "scrolled": true
   },
   "outputs": [
    {
     "ename": "NameError",
     "evalue": "name 'train_target0' is not defined",
     "output_type": "error",
     "traceback": [
      "\u001b[1;31m---------------------------------------------------------------------------\u001b[0m",
      "\u001b[1;31mNameError\u001b[0m                                 Traceback (most recent call last)",
      "\u001b[1;32m<ipython-input-105-6e28b2e22244>\u001b[0m in \u001b[0;36m<module>\u001b[1;34m()\u001b[0m\n\u001b[1;32m----> 1\u001b[1;33m \u001b[0mtrain_target0\u001b[0m\u001b[1;33m[\u001b[0m\u001b[1;34m'CREDIT_TO_INCOME'\u001b[0m\u001b[1;33m]\u001b[0m \u001b[1;33m=\u001b[0m \u001b[0mtrain_target0\u001b[0m\u001b[1;33m[\u001b[0m\u001b[1;34m'AMT_CREDIT'\u001b[0m\u001b[1;33m]\u001b[0m\u001b[1;33m*\u001b[0m\u001b[1;36m100\u001b[0m\u001b[1;33m/\u001b[0m\u001b[0mtrain_target0\u001b[0m\u001b[1;33m[\u001b[0m\u001b[1;34m'AMT_INCOME_TOTAL'\u001b[0m\u001b[1;33m]\u001b[0m\u001b[1;33m\u001b[0m\u001b[0m\n\u001b[0m\u001b[0;32m      2\u001b[0m \u001b[0mprint\u001b[0m\u001b[1;33m(\u001b[0m\u001b[1;34m'Mean: '\u001b[0m\u001b[1;33m,\u001b[0m \u001b[0mtrain_target0\u001b[0m\u001b[1;33m[\u001b[0m\u001b[1;34m'CREDIT_TO_INCOME'\u001b[0m\u001b[1;33m]\u001b[0m\u001b[1;33m.\u001b[0m\u001b[0mmean\u001b[0m\u001b[1;33m(\u001b[0m\u001b[1;33m)\u001b[0m\u001b[1;33m)\u001b[0m\u001b[1;33m\u001b[0m\u001b[0m\n\u001b[0;32m      3\u001b[0m \u001b[0mprint\u001b[0m\u001b[1;33m(\u001b[0m\u001b[1;34m'Mode: '\u001b[0m\u001b[1;33m,\u001b[0m \u001b[0mtrain_target0\u001b[0m\u001b[1;33m[\u001b[0m\u001b[1;34m'CREDIT_TO_INCOME'\u001b[0m\u001b[1;33m]\u001b[0m\u001b[1;33m.\u001b[0m\u001b[0mmode\u001b[0m\u001b[1;33m(\u001b[0m\u001b[1;33m)\u001b[0m\u001b[1;33m)\u001b[0m\u001b[1;33m\u001b[0m\u001b[0m\n\u001b[0;32m      4\u001b[0m \u001b[0mprint\u001b[0m\u001b[1;33m(\u001b[0m\u001b[1;34m'Median: '\u001b[0m\u001b[1;33m,\u001b[0m \u001b[0mtrain_target0\u001b[0m\u001b[1;33m[\u001b[0m\u001b[1;34m'CREDIT_TO_INCOME'\u001b[0m\u001b[1;33m]\u001b[0m\u001b[1;33m.\u001b[0m\u001b[0mmedian\u001b[0m\u001b[1;33m(\u001b[0m\u001b[1;33m)\u001b[0m\u001b[1;33m)\u001b[0m\u001b[1;33m\u001b[0m\u001b[0m\n",
      "\u001b[1;31mNameError\u001b[0m: name 'train_target0' is not defined"
     ]
    }
   ],
   "source": [
    "train_target0['CREDIT_TO_INCOME'] = train_target0['AMT_CREDIT']*100/train_target0['AMT_INCOME_TOTAL']\n",
    "print('Mean: ', train_target0['CREDIT_TO_INCOME'].mean())\n",
    "print('Mode: ', train_target0['CREDIT_TO_INCOME'].mode())\n",
    "print('Median: ', train_target0['CREDIT_TO_INCOME'].median())"
   ]
  },
  {
   "cell_type": "code",
   "execution_count": 106,
   "metadata": {},
   "outputs": [
    {
     "ename": "NameError",
     "evalue": "name 'train_target1' is not defined",
     "output_type": "error",
     "traceback": [
      "\u001b[1;31m---------------------------------------------------------------------------\u001b[0m",
      "\u001b[1;31mNameError\u001b[0m                                 Traceback (most recent call last)",
      "\u001b[1;32m<ipython-input-106-f179f5ecb7f7>\u001b[0m in \u001b[0;36m<module>\u001b[1;34m()\u001b[0m\n\u001b[1;32m----> 1\u001b[1;33m \u001b[0mtrain_target1\u001b[0m\u001b[1;33m[\u001b[0m\u001b[1;34m'GOOD_TO_INCOME'\u001b[0m\u001b[1;33m]\u001b[0m \u001b[1;33m=\u001b[0m \u001b[0mtrain_target1\u001b[0m\u001b[1;33m[\u001b[0m\u001b[1;34m'AMT_GOODS_PRICE'\u001b[0m\u001b[1;33m]\u001b[0m\u001b[1;33m/\u001b[0m\u001b[0mtrain_target1\u001b[0m\u001b[1;33m[\u001b[0m\u001b[1;34m'AMT_INCOME_TOTAL'\u001b[0m\u001b[1;33m]\u001b[0m\u001b[1;33m\u001b[0m\u001b[0m\n\u001b[0m",
      "\u001b[1;31mNameError\u001b[0m: name 'train_target1' is not defined"
     ]
    }
   ],
   "source": [
    "train_target1['GOOD_TO_INCOME'] = train_target1['AMT_GOODS_PRICE']/train_target1['AMT_INCOME_TOTAL']"
   ]
  },
  {
   "cell_type": "code",
   "execution_count": 107,
   "metadata": {},
   "outputs": [
    {
     "ename": "NameError",
     "evalue": "name 'train_target1' is not defined",
     "output_type": "error",
     "traceback": [
      "\u001b[1;31m---------------------------------------------------------------------------\u001b[0m",
      "\u001b[1;31mNameError\u001b[0m                                 Traceback (most recent call last)",
      "\u001b[1;32m<ipython-input-107-aa6b6e7f93e8>\u001b[0m in \u001b[0;36m<module>\u001b[1;34m()\u001b[0m\n\u001b[1;32m----> 1\u001b[1;33m \u001b[0mprint\u001b[0m\u001b[1;33m(\u001b[0m\u001b[1;34m'Mean: '\u001b[0m\u001b[1;33m,\u001b[0m \u001b[0mtrain_target1\u001b[0m\u001b[1;33m[\u001b[0m\u001b[1;34m'GOOD_TO_INCOME'\u001b[0m\u001b[1;33m]\u001b[0m\u001b[1;33m.\u001b[0m\u001b[0mmean\u001b[0m\u001b[1;33m(\u001b[0m\u001b[1;33m)\u001b[0m\u001b[1;33m)\u001b[0m\u001b[1;33m\u001b[0m\u001b[0m\n\u001b[0m\u001b[0;32m      2\u001b[0m \u001b[0mprint\u001b[0m\u001b[1;33m(\u001b[0m\u001b[1;34m'Mode: '\u001b[0m\u001b[1;33m,\u001b[0m \u001b[0mtrain_target1\u001b[0m\u001b[1;33m[\u001b[0m\u001b[1;34m'GOOD_TO_INCOME'\u001b[0m\u001b[1;33m]\u001b[0m\u001b[1;33m.\u001b[0m\u001b[0mmode\u001b[0m\u001b[1;33m(\u001b[0m\u001b[1;33m)\u001b[0m\u001b[1;33m)\u001b[0m\u001b[1;33m\u001b[0m\u001b[0m\n\u001b[0;32m      3\u001b[0m \u001b[0mprint\u001b[0m\u001b[1;33m(\u001b[0m\u001b[1;34m'Median: '\u001b[0m\u001b[1;33m,\u001b[0m \u001b[0mtrain_target1\u001b[0m\u001b[1;33m[\u001b[0m\u001b[1;34m'GOOD_TO_INCOME'\u001b[0m\u001b[1;33m]\u001b[0m\u001b[1;33m.\u001b[0m\u001b[0mmedian\u001b[0m\u001b[1;33m(\u001b[0m\u001b[1;33m)\u001b[0m\u001b[1;33m)\u001b[0m\u001b[1;33m\u001b[0m\u001b[0m\n",
      "\u001b[1;31mNameError\u001b[0m: name 'train_target1' is not defined"
     ]
    }
   ],
   "source": [
    "print('Mean: ', train_target1['GOOD_TO_INCOME'].mean())\n",
    "print('Mode: ', train_target1['GOOD_TO_INCOME'].mode())\n",
    "print('Median: ', train_target1['GOOD_TO_INCOME'].median())"
   ]
  },
  {
   "cell_type": "code",
   "execution_count": 108,
   "metadata": {},
   "outputs": [
    {
     "ename": "NameError",
     "evalue": "name 'train_target0' is not defined",
     "output_type": "error",
     "traceback": [
      "\u001b[1;31m---------------------------------------------------------------------------\u001b[0m",
      "\u001b[1;31mNameError\u001b[0m                                 Traceback (most recent call last)",
      "\u001b[1;32m<ipython-input-108-20cd1fa40121>\u001b[0m in \u001b[0;36m<module>\u001b[1;34m()\u001b[0m\n\u001b[1;32m----> 1\u001b[1;33m \u001b[0mtrain_target0\u001b[0m\u001b[1;33m[\u001b[0m\u001b[1;34m'GOOD_TO_INCOME'\u001b[0m\u001b[1;33m]\u001b[0m \u001b[1;33m=\u001b[0m \u001b[0mtrain_target0\u001b[0m\u001b[1;33m[\u001b[0m\u001b[1;34m'AMT_GOODS_PRICE'\u001b[0m\u001b[1;33m]\u001b[0m\u001b[1;33m/\u001b[0m\u001b[0mtrain_target0\u001b[0m\u001b[1;33m[\u001b[0m\u001b[1;34m'AMT_INCOME_TOTAL'\u001b[0m\u001b[1;33m]\u001b[0m\u001b[1;33m\u001b[0m\u001b[0m\n\u001b[0m",
      "\u001b[1;31mNameError\u001b[0m: name 'train_target0' is not defined"
     ]
    }
   ],
   "source": [
    "train_target0['GOOD_TO_INCOME'] = train_target0['AMT_GOODS_PRICE']/train_target0['AMT_INCOME_TOTAL']"
   ]
  },
  {
   "cell_type": "code",
   "execution_count": 109,
   "metadata": {},
   "outputs": [
    {
     "ename": "NameError",
     "evalue": "name 'train_target0' is not defined",
     "output_type": "error",
     "traceback": [
      "\u001b[1;31m---------------------------------------------------------------------------\u001b[0m",
      "\u001b[1;31mNameError\u001b[0m                                 Traceback (most recent call last)",
      "\u001b[1;32m<ipython-input-109-3884aa3eeebc>\u001b[0m in \u001b[0;36m<module>\u001b[1;34m()\u001b[0m\n\u001b[1;32m----> 1\u001b[1;33m \u001b[0mprint\u001b[0m\u001b[1;33m(\u001b[0m\u001b[1;34m'Mean: '\u001b[0m\u001b[1;33m,\u001b[0m \u001b[0mtrain_target0\u001b[0m\u001b[1;33m[\u001b[0m\u001b[1;34m'GOOD_TO_INCOME'\u001b[0m\u001b[1;33m]\u001b[0m\u001b[1;33m.\u001b[0m\u001b[0mmean\u001b[0m\u001b[1;33m(\u001b[0m\u001b[1;33m)\u001b[0m\u001b[1;33m)\u001b[0m\u001b[1;33m\u001b[0m\u001b[0m\n\u001b[0m\u001b[0;32m      2\u001b[0m \u001b[0mprint\u001b[0m\u001b[1;33m(\u001b[0m\u001b[1;34m'Mode: '\u001b[0m\u001b[1;33m,\u001b[0m \u001b[0mtrain_target0\u001b[0m\u001b[1;33m[\u001b[0m\u001b[1;34m'GOOD_TO_INCOME'\u001b[0m\u001b[1;33m]\u001b[0m\u001b[1;33m.\u001b[0m\u001b[0mmode\u001b[0m\u001b[1;33m(\u001b[0m\u001b[1;33m)\u001b[0m\u001b[1;33m)\u001b[0m\u001b[1;33m\u001b[0m\u001b[0m\n\u001b[0;32m      3\u001b[0m \u001b[0mprint\u001b[0m\u001b[1;33m(\u001b[0m\u001b[1;34m'Median: '\u001b[0m\u001b[1;33m,\u001b[0m \u001b[0mtrain_target0\u001b[0m\u001b[1;33m[\u001b[0m\u001b[1;34m'GOOD_TO_INCOME'\u001b[0m\u001b[1;33m]\u001b[0m\u001b[1;33m.\u001b[0m\u001b[0mmedian\u001b[0m\u001b[1;33m(\u001b[0m\u001b[1;33m)\u001b[0m\u001b[1;33m)\u001b[0m\u001b[1;33m\u001b[0m\u001b[0m\n",
      "\u001b[1;31mNameError\u001b[0m: name 'train_target0' is not defined"
     ]
    }
   ],
   "source": [
    "print('Mean: ', train_target0['GOOD_TO_INCOME'].mean())\n",
    "print('Mode: ', train_target0['GOOD_TO_INCOME'].mode())\n",
    "print('Median: ', train_target0['GOOD_TO_INCOME'].median())"
   ]
  },
  {
   "cell_type": "code",
   "execution_count": 110,
   "metadata": {},
   "outputs": [
    {
     "ename": "NameError",
     "evalue": "name 'train_target1' is not defined",
     "output_type": "error",
     "traceback": [
      "\u001b[1;31m---------------------------------------------------------------------------\u001b[0m",
      "\u001b[1;31mNameError\u001b[0m                                 Traceback (most recent call last)",
      "\u001b[1;32m<ipython-input-110-2f36d3273c1a>\u001b[0m in \u001b[0;36m<module>\u001b[1;34m()\u001b[0m\n\u001b[1;32m----> 1\u001b[1;33m \u001b[0mtrain_target1\u001b[0m\u001b[1;33m[\u001b[0m\u001b[1;34m'ANNU_TO_INCOME'\u001b[0m\u001b[1;33m]\u001b[0m\u001b[1;33m.\u001b[0m\u001b[0msort_values\u001b[0m\u001b[1;33m(\u001b[0m\u001b[1;33m)\u001b[0m\u001b[1;33m\u001b[0m\u001b[0m\n\u001b[0m",
      "\u001b[1;31mNameError\u001b[0m: name 'train_target1' is not defined"
     ]
    }
   ],
   "source": [
    "train_target1['ANNU_TO_INCOME'].sort_values()"
   ]
  },
  {
   "cell_type": "code",
   "execution_count": 111,
   "metadata": {},
   "outputs": [
    {
     "ename": "NameError",
     "evalue": "name 'train_target1' is not defined",
     "output_type": "error",
     "traceback": [
      "\u001b[1;31m---------------------------------------------------------------------------\u001b[0m",
      "\u001b[1;31mNameError\u001b[0m                                 Traceback (most recent call last)",
      "\u001b[1;32m<ipython-input-111-e978e6423dbd>\u001b[0m in \u001b[0;36m<module>\u001b[1;34m()\u001b[0m\n\u001b[1;32m----> 1\u001b[1;33m \u001b[0mplt\u001b[0m\u001b[1;33m.\u001b[0m\u001b[0mplot\u001b[0m\u001b[1;33m(\u001b[0m\u001b[0mtrain_target1\u001b[0m\u001b[1;33m[\u001b[0m\u001b[1;34m'AMT_ANNUITY'\u001b[0m\u001b[1;33m]\u001b[0m\u001b[1;33m.\u001b[0m\u001b[0msort_values\u001b[0m\u001b[1;33m(\u001b[0m\u001b[1;33m)\u001b[0m\u001b[1;33m,\u001b[0m\u001b[0mtrain_target1\u001b[0m\u001b[1;33m[\u001b[0m\u001b[1;34m'AMT_INCOME_TOTAL'\u001b[0m\u001b[1;33m]\u001b[0m\u001b[1;33m,\u001b[0m \u001b[1;34m'r.'\u001b[0m\u001b[1;33m)\u001b[0m\u001b[1;33m\u001b[0m\u001b[0m\n\u001b[0m\u001b[0;32m      2\u001b[0m \u001b[0mplt\u001b[0m\u001b[1;33m.\u001b[0m\u001b[0mplot\u001b[0m\u001b[1;33m(\u001b[0m\u001b[0mtrain_target0\u001b[0m\u001b[1;33m[\u001b[0m\u001b[1;34m'AMT_ANNUITY'\u001b[0m\u001b[1;33m]\u001b[0m\u001b[1;33m.\u001b[0m\u001b[0msort_values\u001b[0m\u001b[1;33m(\u001b[0m\u001b[1;33m)\u001b[0m\u001b[1;33m,\u001b[0m\u001b[0mtrain_target0\u001b[0m\u001b[1;33m[\u001b[0m\u001b[1;34m'AMT_INCOME_TOTAL'\u001b[0m\u001b[1;33m]\u001b[0m\u001b[1;33m,\u001b[0m\u001b[1;34m'b.'\u001b[0m\u001b[1;33m)\u001b[0m\u001b[1;33m;\u001b[0m\u001b[1;33m\u001b[0m\u001b[0m\n",
      "\u001b[1;31mNameError\u001b[0m: name 'train_target1' is not defined"
     ]
    }
   ],
   "source": [
    "plt.plot(train_target1['AMT_ANNUITY'].sort_values(),train_target1['AMT_INCOME_TOTAL'], 'r.')\n",
    "plt.plot(train_target0['AMT_ANNUITY'].sort_values(),train_target0['AMT_INCOME_TOTAL'],'b.');"
   ]
  },
  {
   "cell_type": "code",
   "execution_count": 112,
   "metadata": {},
   "outputs": [
    {
     "ename": "NameError",
     "evalue": "name 'train_target1' is not defined",
     "output_type": "error",
     "traceback": [
      "\u001b[1;31m---------------------------------------------------------------------------\u001b[0m",
      "\u001b[1;31mNameError\u001b[0m                                 Traceback (most recent call last)",
      "\u001b[1;32m<ipython-input-112-453fa0736f16>\u001b[0m in \u001b[0;36m<module>\u001b[1;34m()\u001b[0m\n\u001b[1;32m----> 1\u001b[1;33m \u001b[0mlist\u001b[0m\u001b[1;33m(\u001b[0m\u001b[0mset\u001b[0m\u001b[1;33m(\u001b[0m\u001b[0mtrain_target1\u001b[0m\u001b[1;33m[\u001b[0m\u001b[1;34m'CNT_CHILDREN'\u001b[0m\u001b[1;33m]\u001b[0m\u001b[1;33m)\u001b[0m\u001b[1;33m)\u001b[0m\u001b[1;33m\u001b[0m\u001b[0m\n\u001b[0m",
      "\u001b[1;31mNameError\u001b[0m: name 'train_target1' is not defined"
     ]
    }
   ],
   "source": [
    "list(set(train_target1['CNT_CHILDREN']))"
   ]
  },
  {
   "cell_type": "code",
   "execution_count": 113,
   "metadata": {},
   "outputs": [
    {
     "ename": "NameError",
     "evalue": "name 'train_new' is not defined",
     "output_type": "error",
     "traceback": [
      "\u001b[1;31m---------------------------------------------------------------------------\u001b[0m",
      "\u001b[1;31mNameError\u001b[0m                                 Traceback (most recent call last)",
      "\u001b[1;32m<ipython-input-113-0ae739f1bed3>\u001b[0m in \u001b[0;36m<module>\u001b[1;34m()\u001b[0m\n\u001b[0;32m      1\u001b[0m \u001b[1;31m#ax = train_new.plot.bar(rot=0)\u001b[0m\u001b[1;33m\u001b[0m\u001b[1;33m\u001b[0m\u001b[0m\n\u001b[1;32m----> 2\u001b[1;33m \u001b[0mtrain_new_cp\u001b[0m \u001b[1;33m=\u001b[0m \u001b[0mtrain_new\u001b[0m\u001b[1;33m[\u001b[0m\u001b[1;33m[\u001b[0m\u001b[1;34m'TARGET'\u001b[0m\u001b[1;33m,\u001b[0m\u001b[1;34m'CNT_CHILDREN'\u001b[0m\u001b[1;33m,\u001b[0m\u001b[1;34m'SK_ID_CURR'\u001b[0m \u001b[1;33m]\u001b[0m\u001b[1;33m]\u001b[0m\u001b[1;33m.\u001b[0m\u001b[0mcopy\u001b[0m\u001b[1;33m(\u001b[0m\u001b[1;33m)\u001b[0m\u001b[1;33m\u001b[0m\u001b[0m\n\u001b[0m\u001b[0;32m      3\u001b[0m \u001b[1;33m\u001b[0m\u001b[0m\n\u001b[0;32m      4\u001b[0m \u001b[1;31m#train_new_cp\u001b[0m\u001b[1;33m\u001b[0m\u001b[1;33m\u001b[0m\u001b[0m\n\u001b[0;32m      5\u001b[0m \u001b[0mcnt\u001b[0m \u001b[1;33m=\u001b[0m \u001b[0mtrain_new_cp\u001b[0m\u001b[1;33m.\u001b[0m\u001b[0mgroupby\u001b[0m\u001b[1;33m(\u001b[0m\u001b[1;33m[\u001b[0m\u001b[1;34m'TARGET'\u001b[0m\u001b[1;33m,\u001b[0m\u001b[1;34m'CNT_CHILDREN'\u001b[0m \u001b[1;33m]\u001b[0m\u001b[1;33m)\u001b[0m\u001b[1;33m.\u001b[0m\u001b[0magg\u001b[0m\u001b[1;33m(\u001b[0m\u001b[1;33m[\u001b[0m\u001b[1;34m'count'\u001b[0m\u001b[1;33m]\u001b[0m\u001b[1;33m)\u001b[0m\u001b[1;33m\u001b[0m\u001b[0m\n",
      "\u001b[1;31mNameError\u001b[0m: name 'train_new' is not defined"
     ]
    }
   ],
   "source": [
    "#ax = train_new.plot.bar(rot=0)\n",
    "train_new_cp = train_new[['TARGET','CNT_CHILDREN','SK_ID_CURR' ]].copy()\n",
    "\n",
    "#train_new_cp\n",
    "cnt = train_new_cp.groupby(['TARGET','CNT_CHILDREN' ]).agg(['count'])\n",
    "cnt\n",
    "total = train_new['CNT_CHILDREN'].sum()\n",
    "\n",
    "percentage = cnt*100/total\n",
    "print(percentage)\n",
    "#bar= train_new.groupby(['TARGET','CNT_CHILDREN' ]) ['CNT_CHILDREN'].mean()\n",
    "percentage.plot.bar()"
   ]
  },
  {
   "cell_type": "code",
   "execution_count": 114,
   "metadata": {},
   "outputs": [
    {
     "ename": "NameError",
     "evalue": "name 'train_new' is not defined",
     "output_type": "error",
     "traceback": [
      "\u001b[1;31m---------------------------------------------------------------------------\u001b[0m",
      "\u001b[1;31mNameError\u001b[0m                                 Traceback (most recent call last)",
      "\u001b[1;32m<ipython-input-114-3bf8dc5b62d4>\u001b[0m in \u001b[0;36m<module>\u001b[1;34m()\u001b[0m\n\u001b[1;32m----> 1\u001b[1;33m \u001b[0mtrain_new\u001b[0m\u001b[1;33m[\u001b[0m\u001b[1;33m[\u001b[0m\u001b[1;34m'AMT_INCOME_TOTAL'\u001b[0m\u001b[1;33m,\u001b[0m\u001b[1;34m'OCCUPATION_TYPE'\u001b[0m\u001b[1;33m,\u001b[0m\u001b[1;34m'NAME_INCOME_TYPE'\u001b[0m\u001b[1;33m,\u001b[0m\u001b[1;34m'TARGET'\u001b[0m\u001b[1;33m]\u001b[0m\u001b[1;33m]\u001b[0m\u001b[1;33m.\u001b[0m\u001b[0mhead\u001b[0m\u001b[1;33m(\u001b[0m\u001b[1;36m50\u001b[0m\u001b[1;33m)\u001b[0m\u001b[1;33m\u001b[0m\u001b[0m\n\u001b[0m",
      "\u001b[1;31mNameError\u001b[0m: name 'train_new' is not defined"
     ]
    }
   ],
   "source": [
    "train_new[['AMT_INCOME_TOTAL','OCCUPATION_TYPE','NAME_INCOME_TYPE','TARGET']].head(50)"
   ]
  },
  {
   "cell_type": "code",
   "execution_count": 115,
   "metadata": {},
   "outputs": [
    {
     "ename": "NameError",
     "evalue": "name 'train_new' is not defined",
     "output_type": "error",
     "traceback": [
      "\u001b[1;31m---------------------------------------------------------------------------\u001b[0m",
      "\u001b[1;31mNameError\u001b[0m                                 Traceback (most recent call last)",
      "\u001b[1;32m<ipython-input-115-3515fb6f2c7c>\u001b[0m in \u001b[0;36m<module>\u001b[1;34m()\u001b[0m\n\u001b[1;32m----> 1\u001b[1;33m \u001b[0mtrain_new\u001b[0m\u001b[1;33m[\u001b[0m\u001b[1;33m[\u001b[0m\u001b[1;34m'AMT_INCOME_TOTAL'\u001b[0m\u001b[1;33m,\u001b[0m\u001b[1;34m'OCCUPATION_TYPE'\u001b[0m\u001b[1;33m,\u001b[0m\u001b[1;34m'NAME_INCOME_TYPE'\u001b[0m\u001b[1;33m,\u001b[0m\u001b[1;34m'TARGET'\u001b[0m\u001b[1;33m]\u001b[0m\u001b[1;33m]\u001b[0m\u001b[1;33m.\u001b[0m\u001b[0mloc\u001b[0m\u001b[1;33m[\u001b[0m\u001b[0mtrain_new\u001b[0m\u001b[1;33m[\u001b[0m\u001b[1;34m'OCCUPATION_TYPE'\u001b[0m\u001b[1;33m]\u001b[0m\u001b[1;33m==\u001b[0m\u001b[1;34m'Accountants'\u001b[0m\u001b[1;33m]\u001b[0m\u001b[1;33m\u001b[0m\u001b[0m\n\u001b[0m",
      "\u001b[1;31mNameError\u001b[0m: name 'train_new' is not defined"
     ]
    }
   ],
   "source": [
    "train_new[['AMT_INCOME_TOTAL','OCCUPATION_TYPE','NAME_INCOME_TYPE','TARGET']].loc[train_new['OCCUPATION_TYPE']=='Accountants']"
   ]
  },
  {
   "cell_type": "code",
   "execution_count": 116,
   "metadata": {},
   "outputs": [],
   "source": [
    "cash_target1 = train[(train['TARGET']==1)&(train['NAME_CONTRACT_TYPE']=='Cash loans')]\n",
    "cash_target0 = train[(train['TARGET']==0)&(train['NAME_CONTRACT_TYPE']=='Cash loans')]\n",
    "rev_target1 = train[(train['TARGET']==1)&(train['NAME_CONTRACT_TYPE']=='Revolving loans')]\n",
    "rev_target0 = train[(train['TARGET']==0)&(train['NAME_CONTRACT_TYPE']=='Revolving loans')]"
   ]
  },
  {
   "cell_type": "code",
   "execution_count": 117,
   "metadata": {},
   "outputs": [
    {
     "data": {
      "text/plain": [
       "(23221, 122)"
      ]
     },
     "execution_count": 117,
     "metadata": {},
     "output_type": "execute_result"
    }
   ],
   "source": [
    "cash_target1.shape"
   ]
  },
  {
   "cell_type": "code",
   "execution_count": 118,
   "metadata": {},
   "outputs": [
    {
     "data": {
      "text/plain": [
       "(255011, 122)"
      ]
     },
     "execution_count": 118,
     "metadata": {},
     "output_type": "execute_result"
    }
   ],
   "source": [
    "cash_target0.shape"
   ]
  },
  {
   "cell_type": "code",
   "execution_count": 119,
   "metadata": {},
   "outputs": [
    {
     "data": {
      "text/plain": [
       "(1604, 122)"
      ]
     },
     "execution_count": 119,
     "metadata": {},
     "output_type": "execute_result"
    }
   ],
   "source": [
    "rev_target1.shape"
   ]
  },
  {
   "cell_type": "code",
   "execution_count": 120,
   "metadata": {},
   "outputs": [
    {
     "data": {
      "text/plain": [
       "(27675, 122)"
      ]
     },
     "execution_count": 120,
     "metadata": {},
     "output_type": "execute_result"
    }
   ],
   "source": [
    "rev_target0.shape"
   ]
  },
  {
   "cell_type": "code",
   "execution_count": 121,
   "metadata": {},
   "outputs": [],
   "source": [
    "cash_loan = cash_target1.append(cash_target0.sample(cash_target1.shape[0]), ignore_index=True)"
   ]
  },
  {
   "cell_type": "code",
   "execution_count": 122,
   "metadata": {},
   "outputs": [
    {
     "data": {
      "text/plain": [
       "(46442, 122)"
      ]
     },
     "execution_count": 122,
     "metadata": {},
     "output_type": "execute_result"
    }
   ],
   "source": [
    "cash_loan.shape"
   ]
  },
  {
   "cell_type": "code",
   "execution_count": 123,
   "metadata": {},
   "outputs": [],
   "source": [
    "cash_loan.to_csv('cash_loan.csv', index=False)"
   ]
  },
  {
   "cell_type": "code",
   "execution_count": 124,
   "metadata": {},
   "outputs": [],
   "source": [
    "rev_loan = rev_target1.append(rev_target0.sample(rev_target1.shape[0]), ignore_index=True)"
   ]
  },
  {
   "cell_type": "code",
   "execution_count": 125,
   "metadata": {},
   "outputs": [],
   "source": [
    "rev_loan.to_csv('rev_loan.csv', index=False)"
   ]
  },
  {
   "cell_type": "code",
   "execution_count": 126,
   "metadata": {},
   "outputs": [],
   "source": [
    "new_train=cash_loan.append(rev_loan, ignore_index=True)"
   ]
  },
  {
   "cell_type": "code",
   "execution_count": 127,
   "metadata": {},
   "outputs": [],
   "source": [
    "new_train.to_csv('new_train.csv', index =False)"
   ]
  },
  {
   "cell_type": "code",
   "execution_count": 128,
   "metadata": {},
   "outputs": [],
   "source": [
    "# divide the data into numerical (\"quan\") and categorical (\"qual\") features\n",
    "quan_train = list( train.loc[:,train.dtypes != 'object'].columns.values )\n",
    "qual_train = list( train.loc[:,train.dtypes == 'object'].columns.values )"
   ]
  },
  {
   "cell_type": "code",
   "execution_count": 129,
   "metadata": {},
   "outputs": [
    {
     "data": {
      "text/plain": [
       "106"
      ]
     },
     "execution_count": 129,
     "metadata": {},
     "output_type": "execute_result"
    }
   ],
   "source": [
    "len(quan_train)"
   ]
  },
  {
   "cell_type": "code",
   "execution_count": 130,
   "metadata": {},
   "outputs": [
    {
     "data": {
      "text/plain": [
       "16"
      ]
     },
     "execution_count": 130,
     "metadata": {},
     "output_type": "execute_result"
    }
   ],
   "source": [
    "len(qual_train)"
   ]
  },
  {
   "cell_type": "code",
   "execution_count": 131,
   "metadata": {},
   "outputs": [
    {
     "ename": "NameError",
     "evalue": "name 'pre_app' is not defined",
     "output_type": "error",
     "traceback": [
      "\u001b[1;31m---------------------------------------------------------------------------\u001b[0m",
      "\u001b[1;31mNameError\u001b[0m                                 Traceback (most recent call last)",
      "\u001b[1;32m<ipython-input-131-659c9d430c96>\u001b[0m in \u001b[0;36m<module>\u001b[1;34m()\u001b[0m\n\u001b[0;32m      1\u001b[0m \u001b[1;31m#pre_app\u001b[0m\u001b[1;33m\u001b[0m\u001b[1;33m\u001b[0m\u001b[0m\n\u001b[1;32m----> 2\u001b[1;33m \u001b[0mquan_app\u001b[0m \u001b[1;33m=\u001b[0m \u001b[0mlist\u001b[0m\u001b[1;33m(\u001b[0m \u001b[0mpre_app\u001b[0m\u001b[1;33m.\u001b[0m\u001b[0mloc\u001b[0m\u001b[1;33m[\u001b[0m\u001b[1;33m:\u001b[0m\u001b[1;33m,\u001b[0m\u001b[0mpre_app\u001b[0m\u001b[1;33m.\u001b[0m\u001b[0mdtypes\u001b[0m \u001b[1;33m!=\u001b[0m \u001b[1;34m'object'\u001b[0m\u001b[1;33m]\u001b[0m\u001b[1;33m.\u001b[0m\u001b[0mcolumns\u001b[0m\u001b[1;33m.\u001b[0m\u001b[0mvalues\u001b[0m \u001b[1;33m)\u001b[0m\u001b[1;33m\u001b[0m\u001b[0m\n\u001b[0m\u001b[0;32m      3\u001b[0m \u001b[0mqual_app\u001b[0m \u001b[1;33m=\u001b[0m \u001b[0mlist\u001b[0m\u001b[1;33m(\u001b[0m \u001b[0mpre_app\u001b[0m\u001b[1;33m.\u001b[0m\u001b[0mloc\u001b[0m\u001b[1;33m[\u001b[0m\u001b[1;33m:\u001b[0m\u001b[1;33m,\u001b[0m\u001b[0mpre_app\u001b[0m\u001b[1;33m.\u001b[0m\u001b[0mdtypes\u001b[0m \u001b[1;33m==\u001b[0m \u001b[1;34m'object'\u001b[0m\u001b[1;33m]\u001b[0m\u001b[1;33m.\u001b[0m\u001b[0mcolumns\u001b[0m\u001b[1;33m.\u001b[0m\u001b[0mvalues\u001b[0m \u001b[1;33m)\u001b[0m\u001b[1;33m\u001b[0m\u001b[0m\n",
      "\u001b[1;31mNameError\u001b[0m: name 'pre_app' is not defined"
     ]
    }
   ],
   "source": [
    "#pre_app\n",
    "quan_app = list( pre_app.loc[:,pre_app.dtypes != 'object'].columns.values )\n",
    "qual_app = list( pre_app.loc[:,pre_app.dtypes == 'object'].columns.values )"
   ]
  },
  {
   "cell_type": "code",
   "execution_count": null,
   "metadata": {},
   "outputs": [],
   "source": [
    "#payments\n",
    "quan_pymt = list( payments.loc[:,payments.dtypes != 'object'].columns.values )\n",
    "qual_pymt = list( payments.loc[:,payments.dtypes == 'object'].columns.values )"
   ]
  },
  {
   "cell_type": "code",
   "execution_count": null,
   "metadata": {},
   "outputs": [],
   "source": []
  },
  {
   "cell_type": "code",
   "execution_count": null,
   "metadata": {},
   "outputs": [],
   "source": []
  },
  {
   "cell_type": "code",
   "execution_count": 218,
   "metadata": {},
   "outputs": [
    {
     "ename": "NameError",
     "evalue": "name 'quan_app' is not defined",
     "output_type": "error",
     "traceback": [
      "\u001b[1;31m---------------------------------------------------------------------------\u001b[0m",
      "\u001b[1;31mNameError\u001b[0m                                 Traceback (most recent call last)",
      "\u001b[1;32m<ipython-input-218-153a8a4215e3>\u001b[0m in \u001b[0;36m<module>\u001b[1;34m()\u001b[0m\n\u001b[1;32m----> 1\u001b[1;33m \u001b[0mlen\u001b[0m\u001b[1;33m(\u001b[0m\u001b[0mquan_train\u001b[0m\u001b[1;33m)\u001b[0m\u001b[1;33m+\u001b[0m\u001b[0mlen\u001b[0m\u001b[1;33m(\u001b[0m\u001b[0mquan_app\u001b[0m \u001b[1;33m)\u001b[0m\u001b[1;33m+\u001b[0m \u001b[0mlen\u001b[0m\u001b[1;33m(\u001b[0m\u001b[0mquan_pymt\u001b[0m\u001b[1;33m)\u001b[0m\u001b[1;33m+\u001b[0m \u001b[0mlen\u001b[0m\u001b[1;33m(\u001b[0m\u001b[0mquan_bu\u001b[0m\u001b[1;33m)\u001b[0m\u001b[1;33m+\u001b[0m \u001b[0mlen\u001b[0m\u001b[1;33m(\u001b[0m\u001b[0mquan_pos\u001b[0m\u001b[1;33m)\u001b[0m\u001b[1;33m+\u001b[0m \u001b[0mlen\u001b[0m\u001b[1;33m(\u001b[0m\u001b[0mquan_buba\u001b[0m\u001b[1;33m)\u001b[0m\u001b[1;33m+\u001b[0m\u001b[0mlen\u001b[0m\u001b[1;33m(\u001b[0m\u001b[0mquan_ccba\u001b[0m\u001b[1;33m)\u001b[0m\u001b[1;33m\u001b[0m\u001b[0m\n\u001b[0m",
      "\u001b[1;31mNameError\u001b[0m: name 'quan_app' is not defined"
     ]
    }
   ],
   "source": [
    "len(quan_train)"
   ]
  },
  {
   "cell_type": "code",
   "execution_count": 219,
   "metadata": {},
   "outputs": [
    {
     "ename": "NameError",
     "evalue": "name 'qual_app' is not defined",
     "output_type": "error",
     "traceback": [
      "\u001b[1;31m---------------------------------------------------------------------------\u001b[0m",
      "\u001b[1;31mNameError\u001b[0m                                 Traceback (most recent call last)",
      "\u001b[1;32m<ipython-input-219-594c075ebbf2>\u001b[0m in \u001b[0;36m<module>\u001b[1;34m()\u001b[0m\n\u001b[1;32m----> 1\u001b[1;33m \u001b[0mlen\u001b[0m\u001b[1;33m(\u001b[0m\u001b[0mqual_train\u001b[0m\u001b[1;33m)\u001b[0m\u001b[1;33m+\u001b[0m\u001b[0mlen\u001b[0m\u001b[1;33m(\u001b[0m\u001b[0mqual_app\u001b[0m \u001b[1;33m)\u001b[0m\u001b[1;33m+\u001b[0m \u001b[0mlen\u001b[0m\u001b[1;33m(\u001b[0m\u001b[0mqual_pymt\u001b[0m\u001b[1;33m)\u001b[0m\u001b[1;33m+\u001b[0m \u001b[0mlen\u001b[0m\u001b[1;33m(\u001b[0m\u001b[0mqual_bu\u001b[0m\u001b[1;33m)\u001b[0m\u001b[1;33m+\u001b[0m \u001b[0mlen\u001b[0m\u001b[1;33m(\u001b[0m\u001b[0mqual_pos\u001b[0m\u001b[1;33m)\u001b[0m\u001b[1;33m+\u001b[0m \u001b[0mlen\u001b[0m\u001b[1;33m(\u001b[0m\u001b[0mqual_buba\u001b[0m\u001b[1;33m)\u001b[0m\u001b[1;33m+\u001b[0m\u001b[0mlen\u001b[0m\u001b[1;33m(\u001b[0m\u001b[0mqual_ccba\u001b[0m\u001b[1;33m)\u001b[0m\u001b[1;33m\u001b[0m\u001b[0m\n\u001b[0m",
      "\u001b[1;31mNameError\u001b[0m: name 'qual_app' is not defined"
     ]
    }
   ],
   "source": [
    "len(qual_train)"
   ]
  },
  {
   "cell_type": "code",
   "execution_count": 221,
   "metadata": {},
   "outputs": [
    {
     "ename": "NameError",
     "evalue": "name 'buba' is not defined",
     "output_type": "error",
     "traceback": [
      "\u001b[1;31m---------------------------------------------------------------------------\u001b[0m",
      "\u001b[1;31mNameError\u001b[0m                                 Traceback (most recent call last)",
      "\u001b[1;32m<ipython-input-221-248adbd6f476>\u001b[0m in \u001b[0;36m<module>\u001b[1;34m()\u001b[0m\n\u001b[1;32m----> 1\u001b[1;33m \u001b[0mmissing_data\u001b[0m\u001b[1;33m(\u001b[0m\u001b[0mbuba\u001b[0m\u001b[1;33m)\u001b[0m\u001b[1;33m\u001b[0m\u001b[0m\n\u001b[0m",
      "\u001b[1;31mNameError\u001b[0m: name 'buba' is not defined"
     ]
    }
   ],
   "source": [
    "missing_data(buba)"
   ]
  },
  {
   "cell_type": "code",
   "execution_count": 222,
   "metadata": {},
   "outputs": [
    {
     "ename": "NameError",
     "evalue": "name 'pos' is not defined",
     "output_type": "error",
     "traceback": [
      "\u001b[1;31m---------------------------------------------------------------------------\u001b[0m",
      "\u001b[1;31mNameError\u001b[0m                                 Traceback (most recent call last)",
      "\u001b[1;32m<ipython-input-222-48ae8732358e>\u001b[0m in \u001b[0;36m<module>\u001b[1;34m()\u001b[0m\n\u001b[1;32m----> 1\u001b[1;33m \u001b[0mmissing_data\u001b[0m\u001b[1;33m(\u001b[0m\u001b[0mpos\u001b[0m\u001b[1;33m)\u001b[0m\u001b[1;33m\u001b[0m\u001b[0m\n\u001b[0m",
      "\u001b[1;31mNameError\u001b[0m: name 'pos' is not defined"
     ]
    }
   ],
   "source": [
    "missing_data(pos)"
   ]
  },
  {
   "cell_type": "code",
   "execution_count": 223,
   "metadata": {},
   "outputs": [
    {
     "ename": "NameError",
     "evalue": "name 'ccba' is not defined",
     "output_type": "error",
     "traceback": [
      "\u001b[1;31m---------------------------------------------------------------------------\u001b[0m",
      "\u001b[1;31mNameError\u001b[0m                                 Traceback (most recent call last)",
      "\u001b[1;32m<ipython-input-223-f620efd50cc9>\u001b[0m in \u001b[0;36m<module>\u001b[1;34m()\u001b[0m\n\u001b[1;32m----> 1\u001b[1;33m \u001b[0mmissing_data\u001b[0m\u001b[1;33m(\u001b[0m\u001b[0mccba\u001b[0m\u001b[1;33m)\u001b[0m\u001b[1;33m\u001b[0m\u001b[0m\n\u001b[0m",
      "\u001b[1;31mNameError\u001b[0m: name 'ccba' is not defined"
     ]
    }
   ],
   "source": [
    "missing_data(ccba)"
   ]
  },
  {
   "cell_type": "code",
   "execution_count": null,
   "metadata": {},
   "outputs": [],
   "source": []
  },
  {
   "cell_type": "code",
   "execution_count": null,
   "metadata": {},
   "outputs": [],
   "source": []
  }
 ],
 "metadata": {
  "kernelspec": {
   "display_name": "Python 3",
   "language": "python",
   "name": "python3"
  },
  "language_info": {
   "codemirror_mode": {
    "name": "ipython",
    "version": 3
   },
   "file_extension": ".py",
   "mimetype": "text/x-python",
   "name": "python",
   "nbconvert_exporter": "python",
   "pygments_lexer": "ipython3",
   "version": "3.6.5"
  }
 },
 "nbformat": 4,
 "nbformat_minor": 2
}
